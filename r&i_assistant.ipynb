{
  "cells": [
    {
      "cell_type": "markdown",
      "metadata": {
        "colab_type": "text",
        "id": "view-in-github"
      },
      "source": [
        "<a href=\"https://colab.research.google.com/github/Awnder/rag-workshop/blob/main/rag-workshop.ipynb\" target=\"_parent\"><img src=\"https://colab.research.google.com/assets/colab-badge.svg\" alt=\"Open In Colab\"/></a>"
      ]
    },
    {
      "cell_type": "markdown",
      "metadata": {
        "id": "oKy5DKlZm0a6"
      },
      "source": [
        "# Install libraries"
      ]
    },
    {
      "cell_type": "code",
      "execution_count": null,
      "metadata": {},
      "outputs": [],
      "source": [
        "#https://streamlit.io/\n",
        "# used andrew's pinecone and groq api keys, with github access key from sbc"
      ]
    },
    {
      "cell_type": "code",
      "execution_count": 3,
      "metadata": {},
      "outputs": [
        {
          "name": "stdout",
          "output_type": "stream",
          "text": [
            "^C\n",
            "Note: you may need to restart the kernel to use updated packages.\n",
            "Requirement already satisfied: openai in c:\\users\\andrew.shiroma\\my drive\\r&i ai chatbot\\venv_r&i_assistant\\lib\\site-packages (1.57.4)\n",
            "Requirement already satisfied: groq in c:\\users\\andrew.shiroma\\my drive\\r&i ai chatbot\\venv_r&i_assistant\\lib\\site-packages (0.13.1)\n",
            "Requirement already satisfied: pinecone-client in c:\\users\\andrew.shiroma\\my drive\\r&i ai chatbot\\venv_r&i_assistant\\lib\\site-packages (5.0.1)\n",
            "Requirement already satisfied: unstructured_inference in c:\\users\\andrew.shiroma\\my drive\\r&i ai chatbot\\venv_r&i_assistant\\lib\\site-packages (0.8.1)\n",
            "Requirement already satisfied: sentence-transformers in c:\\users\\andrew.shiroma\\my drive\\r&i ai chatbot\\venv_r&i_assistant\\lib\\site-packages (3.3.1)\n",
            "Requirement already satisfied: docx2txt in c:\\users\\andrew.shiroma\\my drive\\r&i ai chatbot\\venv_r&i_assistant\\lib\\site-packages (0.8)\n",
            "Requirement already satisfied: openpyxl in c:\\users\\andrew.shiroma\\my drive\\r&i ai chatbot\\venv_r&i_assistant\\lib\\site-packages (3.1.5)\n",
            "Requirement already satisfied: onnx==1.16.1 in c:\\users\\andrew.shiroma\\my drive\\r&i ai chatbot\\venv_r&i_assistant\\lib\\site-packages (1.16.1)\n",
            "Requirement already satisfied: unstructured[all-docs] in c:\\users\\andrew.shiroma\\my drive\\r&i ai chatbot\\venv_r&i_assistant\\lib\\site-packages (0.16.11)\n",
            "Requirement already satisfied: numpy>=1.20 in c:\\users\\andrew.shiroma\\my drive\\r&i ai chatbot\\venv_r&i_assistant\\lib\\site-packages (from onnx==1.16.1) (1.26.4)\n",
            "Requirement already satisfied: protobuf>=3.20.2 in c:\\users\\andrew.shiroma\\my drive\\r&i ai chatbot\\venv_r&i_assistant\\lib\\site-packages (from onnx==1.16.1) (5.29.1)\n",
            "Requirement already satisfied: anyio<5,>=3.5.0 in c:\\users\\andrew.shiroma\\my drive\\r&i ai chatbot\\venv_r&i_assistant\\lib\\site-packages (from openai) (4.7.0)\n",
            "Requirement already satisfied: distro<2,>=1.7.0 in c:\\users\\andrew.shiroma\\my drive\\r&i ai chatbot\\venv_r&i_assistant\\lib\\site-packages (from openai) (1.9.0)\n",
            "Requirement already satisfied: httpx<1,>=0.23.0 in c:\\users\\andrew.shiroma\\my drive\\r&i ai chatbot\\venv_r&i_assistant\\lib\\site-packages (from openai) (0.28.1)\n",
            "Requirement already satisfied: jiter<1,>=0.4.0 in c:\\users\\andrew.shiroma\\my drive\\r&i ai chatbot\\venv_r&i_assistant\\lib\\site-packages (from openai) (0.8.2)\n",
            "Requirement already satisfied: pydantic<3,>=1.9.0 in c:\\users\\andrew.shiroma\\my drive\\r&i ai chatbot\\venv_r&i_assistant\\lib\\site-packages (from openai) (2.9.2)\n",
            "Requirement already satisfied: sniffio in c:\\users\\andrew.shiroma\\my drive\\r&i ai chatbot\\venv_r&i_assistant\\lib\\site-packages (from openai) (1.3.1)\n",
            "Requirement already satisfied: tqdm>4 in c:\\users\\andrew.shiroma\\my drive\\r&i ai chatbot\\venv_r&i_assistant\\lib\\site-packages (from openai) (4.67.1)\n",
            "Requirement already satisfied: typing-extensions<5,>=4.11 in c:\\users\\andrew.shiroma\\my drive\\r&i ai chatbot\\venv_r&i_assistant\\lib\\site-packages (from openai) (4.12.2)\n",
            "Requirement already satisfied: certifi>=2019.11.17 in c:\\users\\andrew.shiroma\\my drive\\r&i ai chatbot\\venv_r&i_assistant\\lib\\site-packages (from pinecone-client) (2024.12.14)\n",
            "Requirement already satisfied: pinecone-plugin-inference<2.0.0,>=1.0.3 in c:\\users\\andrew.shiroma\\my drive\\r&i ai chatbot\\venv_r&i_assistant\\lib\\site-packages (from pinecone-client) (1.1.0)\n",
            "Requirement already satisfied: pinecone-plugin-interface<0.0.8,>=0.0.7 in c:\\users\\andrew.shiroma\\my drive\\r&i ai chatbot\\venv_r&i_assistant\\lib\\site-packages (from pinecone-client) (0.0.7)\n",
            "Requirement already satisfied: urllib3>=1.26.0 in c:\\users\\andrew.shiroma\\my drive\\r&i ai chatbot\\venv_r&i_assistant\\lib\\site-packages (from pinecone-client) (2.2.3)\n",
            "Requirement already satisfied: chardet in c:\\users\\andrew.shiroma\\my drive\\r&i ai chatbot\\venv_r&i_assistant\\lib\\site-packages (from unstructured[all-docs]) (5.2.0)\n",
            "Requirement already satisfied: filetype in c:\\users\\andrew.shiroma\\my drive\\r&i ai chatbot\\venv_r&i_assistant\\lib\\site-packages (from unstructured[all-docs]) (1.2.0)\n",
            "Requirement already satisfied: python-magic in c:\\users\\andrew.shiroma\\my drive\\r&i ai chatbot\\venv_r&i_assistant\\lib\\site-packages (from unstructured[all-docs]) (0.4.27)\n",
            "Requirement already satisfied: lxml in c:\\users\\andrew.shiroma\\my drive\\r&i ai chatbot\\venv_r&i_assistant\\lib\\site-packages (from unstructured[all-docs]) (5.3.0)\n",
            "Requirement already satisfied: nltk in c:\\users\\andrew.shiroma\\my drive\\r&i ai chatbot\\venv_r&i_assistant\\lib\\site-packages (from unstructured[all-docs]) (3.9.1)\n",
            "Requirement already satisfied: requests in c:\\users\\andrew.shiroma\\my drive\\r&i ai chatbot\\venv_r&i_assistant\\lib\\site-packages (from unstructured[all-docs]) (2.32.3)\n",
            "Requirement already satisfied: beautifulsoup4 in c:\\users\\andrew.shiroma\\my drive\\r&i ai chatbot\\venv_r&i_assistant\\lib\\site-packages (from unstructured[all-docs]) (4.12.3)\n",
            "Requirement already satisfied: emoji in c:\\users\\andrew.shiroma\\my drive\\r&i ai chatbot\\venv_r&i_assistant\\lib\\site-packages (from unstructured[all-docs]) (2.14.0)\n",
            "Requirement already satisfied: dataclasses-json in c:\\users\\andrew.shiroma\\my drive\\r&i ai chatbot\\venv_r&i_assistant\\lib\\site-packages (from unstructured[all-docs]) (0.6.7)\n",
            "Requirement already satisfied: python-iso639 in c:\\users\\andrew.shiroma\\my drive\\r&i ai chatbot\\venv_r&i_assistant\\lib\\site-packages (from unstructured[all-docs]) (2024.10.22)\n",
            "Requirement already satisfied: langdetect in c:\\users\\andrew.shiroma\\my drive\\r&i ai chatbot\\venv_r&i_assistant\\lib\\site-packages (from unstructured[all-docs]) (1.0.9)\n",
            "Requirement already satisfied: rapidfuzz in c:\\users\\andrew.shiroma\\my drive\\r&i ai chatbot\\venv_r&i_assistant\\lib\\site-packages (from unstructured[all-docs]) (3.10.1)\n",
            "Requirement already satisfied: backoff in c:\\users\\andrew.shiroma\\my drive\\r&i ai chatbot\\venv_r&i_assistant\\lib\\site-packages (from unstructured[all-docs]) (2.2.1)\n",
            "Requirement already satisfied: unstructured-client in c:\\users\\andrew.shiroma\\my drive\\r&i ai chatbot\\venv_r&i_assistant\\lib\\site-packages (from unstructured[all-docs]) (0.28.1)\n",
            "Requirement already satisfied: wrapt in c:\\users\\andrew.shiroma\\my drive\\r&i ai chatbot\\venv_r&i_assistant\\lib\\site-packages (from unstructured[all-docs]) (1.17.0)\n",
            "Requirement already satisfied: psutil in c:\\users\\andrew.shiroma\\my drive\\r&i ai chatbot\\venv_r&i_assistant\\lib\\site-packages (from unstructured[all-docs]) (6.1.0)\n",
            "Requirement already satisfied: python-oxmsg in c:\\users\\andrew.shiroma\\my drive\\r&i ai chatbot\\venv_r&i_assistant\\lib\\site-packages (from unstructured[all-docs]) (0.0.1)\n",
            "Requirement already satisfied: html5lib in c:\\users\\andrew.shiroma\\my drive\\r&i ai chatbot\\venv_r&i_assistant\\lib\\site-packages (from unstructured[all-docs]) (1.1)\n",
            "Requirement already satisfied: networkx in c:\\users\\andrew.shiroma\\my drive\\r&i ai chatbot\\venv_r&i_assistant\\lib\\site-packages (from unstructured[all-docs]) (3.4.2)\n",
            "Requirement already satisfied: google-cloud-vision in c:\\users\\andrew.shiroma\\my drive\\r&i ai chatbot\\venv_r&i_assistant\\lib\\site-packages (from unstructured[all-docs]) (3.9.0)\n",
            "Requirement already satisfied: pi-heif in c:\\users\\andrew.shiroma\\my drive\\r&i ai chatbot\\venv_r&i_assistant\\lib\\site-packages (from unstructured[all-docs]) (0.21.0)\n",
            "Requirement already satisfied: python-pptx>=1.0.1 in c:\\users\\andrew.shiroma\\my drive\\r&i ai chatbot\\venv_r&i_assistant\\lib\\site-packages (from unstructured[all-docs]) (1.0.2)\n",
            "Requirement already satisfied: pikepdf in c:\\users\\andrew.shiroma\\my drive\\r&i ai chatbot\\venv_r&i_assistant\\lib\\site-packages (from unstructured[all-docs]) (9.4.2)\n",
            "Requirement already satisfied: markdown in c:\\users\\andrew.shiroma\\my drive\\r&i ai chatbot\\venv_r&i_assistant\\lib\\site-packages (from unstructured[all-docs]) (3.7)\n",
            "Requirement already satisfied: pandas in c:\\users\\andrew.shiroma\\my drive\\r&i ai chatbot\\venv_r&i_assistant\\lib\\site-packages (from unstructured[all-docs]) (2.2.3)\n",
            "Requirement already satisfied: pypdf in c:\\users\\andrew.shiroma\\my drive\\r&i ai chatbot\\venv_r&i_assistant\\lib\\site-packages (from unstructured[all-docs]) (5.1.0)\n",
            "Requirement already satisfied: pdfminer.six in c:\\users\\andrew.shiroma\\my drive\\r&i ai chatbot\\venv_r&i_assistant\\lib\\site-packages (from unstructured[all-docs]) (20221105)\n",
            "Requirement already satisfied: pdf2image in c:\\users\\andrew.shiroma\\my drive\\r&i ai chatbot\\venv_r&i_assistant\\lib\\site-packages (from unstructured[all-docs]) (1.17.0)\n",
            "Requirement already satisfied: effdet in c:\\users\\andrew.shiroma\\my drive\\r&i ai chatbot\\venv_r&i_assistant\\lib\\site-packages (from unstructured[all-docs]) (0.4.1)\n",
            "Requirement already satisfied: xlrd in c:\\users\\andrew.shiroma\\my drive\\r&i ai chatbot\\venv_r&i_assistant\\lib\\site-packages (from unstructured[all-docs]) (2.0.1)\n",
            "Requirement already satisfied: pypandoc in c:\\users\\andrew.shiroma\\my drive\\r&i ai chatbot\\venv_r&i_assistant\\lib\\site-packages (from unstructured[all-docs]) (1.14)\n",
            "Requirement already satisfied: python-docx>=1.1.2 in c:\\users\\andrew.shiroma\\my drive\\r&i ai chatbot\\venv_r&i_assistant\\lib\\site-packages (from unstructured[all-docs]) (1.1.2)\n",
            "Requirement already satisfied: unstructured.pytesseract>=0.3.12 in c:\\users\\andrew.shiroma\\my drive\\r&i ai chatbot\\venv_r&i_assistant\\lib\\site-packages (from unstructured[all-docs]) (0.3.13)\n",
            "Requirement already satisfied: layoutparser in c:\\users\\andrew.shiroma\\my drive\\r&i ai chatbot\\venv_r&i_assistant\\lib\\site-packages (from unstructured_inference) (0.3.4)\n",
            "Requirement already satisfied: python-multipart in c:\\users\\andrew.shiroma\\my drive\\r&i ai chatbot\\venv_r&i_assistant\\lib\\site-packages (from unstructured_inference) (0.0.19)\n",
            "Requirement already satisfied: huggingface-hub in c:\\users\\andrew.shiroma\\my drive\\r&i ai chatbot\\venv_r&i_assistant\\lib\\site-packages (from unstructured_inference) (0.27.0)\n",
            "Requirement already satisfied: opencv-python!=4.7.0.68 in c:\\users\\andrew.shiroma\\my drive\\r&i ai chatbot\\venv_r&i_assistant\\lib\\site-packages (from unstructured_inference) (4.10.0.84)\n",
            "Requirement already satisfied: onnxruntime>=1.17.0 in c:\\users\\andrew.shiroma\\my drive\\r&i ai chatbot\\venv_r&i_assistant\\lib\\site-packages (from unstructured_inference) (1.20.1)\n",
            "Requirement already satisfied: matplotlib in c:\\users\\andrew.shiroma\\my drive\\r&i ai chatbot\\venv_r&i_assistant\\lib\\site-packages (from unstructured_inference) (3.10.0)\n",
            "Requirement already satisfied: torch in c:\\users\\andrew.shiroma\\my drive\\r&i ai chatbot\\venv_r&i_assistant\\lib\\site-packages (from unstructured_inference) (2.5.1)\n",
            "Requirement already satisfied: timm in c:\\users\\andrew.shiroma\\my drive\\r&i ai chatbot\\venv_r&i_assistant\\lib\\site-packages (from unstructured_inference) (1.0.12)\n",
            "Requirement already satisfied: transformers>=4.25.1 in c:\\users\\andrew.shiroma\\my drive\\r&i ai chatbot\\venv_r&i_assistant\\lib\\site-packages (from unstructured_inference) (4.47.0)\n",
            "Requirement already satisfied: scikit-learn in c:\\users\\andrew.shiroma\\my drive\\r&i ai chatbot\\venv_r&i_assistant\\lib\\site-packages (from sentence-transformers) (1.6.0)\n",
            "Requirement already satisfied: scipy in c:\\users\\andrew.shiroma\\my drive\\r&i ai chatbot\\venv_r&i_assistant\\lib\\site-packages (from sentence-transformers) (1.14.1)\n",
            "Requirement already satisfied: Pillow in c:\\users\\andrew.shiroma\\my drive\\r&i ai chatbot\\venv_r&i_assistant\\lib\\site-packages (from sentence-transformers) (11.0.0)\n",
            "Requirement already satisfied: et-xmlfile in c:\\users\\andrew.shiroma\\my drive\\r&i ai chatbot\\venv_r&i_assistant\\lib\\site-packages (from openpyxl) (2.0.0)\n",
            "Requirement already satisfied: idna>=2.8 in c:\\users\\andrew.shiroma\\my drive\\r&i ai chatbot\\venv_r&i_assistant\\lib\\site-packages (from anyio<5,>=3.5.0->openai) (3.10)\n",
            "Requirement already satisfied: httpcore==1.* in c:\\users\\andrew.shiroma\\my drive\\r&i ai chatbot\\venv_r&i_assistant\\lib\\site-packages (from httpx<1,>=0.23.0->openai) (1.0.7)\n",
            "Requirement already satisfied: h11<0.15,>=0.13 in c:\\users\\andrew.shiroma\\my drive\\r&i ai chatbot\\venv_r&i_assistant\\lib\\site-packages (from httpcore==1.*->httpx<1,>=0.23.0->openai) (0.14.0)\n",
            "Requirement already satisfied: filelock in c:\\users\\andrew.shiroma\\my drive\\r&i ai chatbot\\venv_r&i_assistant\\lib\\site-packages (from huggingface-hub->unstructured_inference) (3.16.1)\n",
            "Requirement already satisfied: fsspec>=2023.5.0 in c:\\users\\andrew.shiroma\\my drive\\r&i ai chatbot\\venv_r&i_assistant\\lib\\site-packages (from huggingface-hub->unstructured_inference) (2024.10.0)\n",
            "Requirement already satisfied: packaging>=20.9 in c:\\users\\andrew.shiroma\\my drive\\r&i ai chatbot\\venv_r&i_assistant\\lib\\site-packages (from huggingface-hub->unstructured_inference) (24.2)\n",
            "Requirement already satisfied: pyyaml>=5.1 in c:\\users\\andrew.shiroma\\my drive\\r&i ai chatbot\\venv_r&i_assistant\\lib\\site-packages (from huggingface-hub->unstructured_inference) (6.0.2)\n",
            "Requirement already satisfied: coloredlogs in c:\\users\\andrew.shiroma\\my drive\\r&i ai chatbot\\venv_r&i_assistant\\lib\\site-packages (from onnxruntime>=1.17.0->unstructured_inference) (15.0.1)\n",
            "Requirement already satisfied: flatbuffers in c:\\users\\andrew.shiroma\\my drive\\r&i ai chatbot\\venv_r&i_assistant\\lib\\site-packages (from onnxruntime>=1.17.0->unstructured_inference) (24.3.25)\n",
            "Requirement already satisfied: sympy in c:\\users\\andrew.shiroma\\my drive\\r&i ai chatbot\\venv_r&i_assistant\\lib\\site-packages (from onnxruntime>=1.17.0->unstructured_inference) (1.13.1)\n",
            "Requirement already satisfied: annotated-types>=0.6.0 in c:\\users\\andrew.shiroma\\my drive\\r&i ai chatbot\\venv_r&i_assistant\\lib\\site-packages (from pydantic<3,>=1.9.0->openai) (0.7.0)\n",
            "Requirement already satisfied: pydantic-core==2.23.4 in c:\\users\\andrew.shiroma\\my drive\\r&i ai chatbot\\venv_r&i_assistant\\lib\\site-packages (from pydantic<3,>=1.9.0->openai) (2.23.4)\n",
            "Requirement already satisfied: XlsxWriter>=0.5.7 in c:\\users\\andrew.shiroma\\my drive\\r&i ai chatbot\\venv_r&i_assistant\\lib\\site-packages (from python-pptx>=1.0.1->unstructured[all-docs]) (3.2.0)\n",
            "Requirement already satisfied: jinja2 in c:\\users\\andrew.shiroma\\my drive\\r&i ai chatbot\\venv_r&i_assistant\\lib\\site-packages (from torch->unstructured_inference) (3.1.4)\n",
            "Requirement already satisfied: mpmath<1.4,>=1.1.0 in c:\\users\\andrew.shiroma\\my drive\\r&i ai chatbot\\venv_r&i_assistant\\lib\\site-packages (from sympy->onnxruntime>=1.17.0->unstructured_inference) (1.3.0)\n",
            "Requirement already satisfied: colorama in c:\\users\\andrew.shiroma\\my drive\\r&i ai chatbot\\venv_r&i_assistant\\lib\\site-packages (from tqdm>4->openai) (0.4.6)\n",
            "Requirement already satisfied: regex!=2019.12.17 in c:\\users\\andrew.shiroma\\my drive\\r&i ai chatbot\\venv_r&i_assistant\\lib\\site-packages (from transformers>=4.25.1->unstructured_inference) (2024.11.6)\n",
            "Requirement already satisfied: tokenizers<0.22,>=0.21 in c:\\users\\andrew.shiroma\\my drive\\r&i ai chatbot\\venv_r&i_assistant\\lib\\site-packages (from transformers>=4.25.1->unstructured_inference) (0.21.0)\n",
            "Requirement already satisfied: safetensors>=0.4.1 in c:\\users\\andrew.shiroma\\my drive\\r&i ai chatbot\\venv_r&i_assistant\\lib\\site-packages (from transformers>=4.25.1->unstructured_inference) (0.4.5)\n",
            "Requirement already satisfied: soupsieve>1.2 in c:\\users\\andrew.shiroma\\my drive\\r&i ai chatbot\\venv_r&i_assistant\\lib\\site-packages (from beautifulsoup4->unstructured[all-docs]) (2.6)\n",
            "Requirement already satisfied: marshmallow<4.0.0,>=3.18.0 in c:\\users\\andrew.shiroma\\my drive\\r&i ai chatbot\\venv_r&i_assistant\\lib\\site-packages (from dataclasses-json->unstructured[all-docs]) (3.23.1)\n",
            "Requirement already satisfied: typing-inspect<1,>=0.4.0 in c:\\users\\andrew.shiroma\\my drive\\r&i ai chatbot\\venv_r&i_assistant\\lib\\site-packages (from dataclasses-json->unstructured[all-docs]) (0.9.0)\n",
            "Requirement already satisfied: torchvision in c:\\users\\andrew.shiroma\\my drive\\r&i ai chatbot\\venv_r&i_assistant\\lib\\site-packages (from effdet->unstructured[all-docs]) (0.20.1)\n",
            "Requirement already satisfied: pycocotools>=2.0.2 in c:\\users\\andrew.shiroma\\my drive\\r&i ai chatbot\\venv_r&i_assistant\\lib\\site-packages (from effdet->unstructured[all-docs]) (2.0.8)\n",
            "Requirement already satisfied: omegaconf>=2.0 in c:\\users\\andrew.shiroma\\my drive\\r&i ai chatbot\\venv_r&i_assistant\\lib\\site-packages (from effdet->unstructured[all-docs]) (2.3.0)\n",
            "Requirement already satisfied: google-api-core!=2.0.*,!=2.1.*,!=2.10.*,!=2.2.*,!=2.3.*,!=2.4.*,!=2.5.*,!=2.6.*,!=2.7.*,!=2.8.*,!=2.9.*,<3.0.0dev,>=1.34.1 in c:\\users\\andrew.shiroma\\my drive\\r&i ai chatbot\\venv_r&i_assistant\\lib\\site-packages (from google-api-core[grpc]!=2.0.*,!=2.1.*,!=2.10.*,!=2.2.*,!=2.3.*,!=2.4.*,!=2.5.*,!=2.6.*,!=2.7.*,!=2.8.*,!=2.9.*,<3.0.0dev,>=1.34.1->google-cloud-vision->unstructured[all-docs]) (2.24.0)\n",
            "Requirement already satisfied: google-auth!=2.24.0,!=2.25.0,<3.0.0dev,>=2.14.1 in c:\\users\\andrew.shiroma\\my drive\\r&i ai chatbot\\venv_r&i_assistant\\lib\\site-packages (from google-cloud-vision->unstructured[all-docs]) (2.37.0)\n",
            "Requirement already satisfied: proto-plus<2.0.0dev,>=1.22.3 in c:\\users\\andrew.shiroma\\my drive\\r&i ai chatbot\\venv_r&i_assistant\\lib\\site-packages (from google-cloud-vision->unstructured[all-docs]) (1.25.0)\n",
            "Requirement already satisfied: six>=1.9 in c:\\users\\andrew.shiroma\\my drive\\r&i ai chatbot\\venv_r&i_assistant\\lib\\site-packages (from html5lib->unstructured[all-docs]) (1.17.0)\n",
            "Requirement already satisfied: webencodings in c:\\users\\andrew.shiroma\\my drive\\r&i ai chatbot\\venv_r&i_assistant\\lib\\site-packages (from html5lib->unstructured[all-docs]) (0.5.1)\n",
            "Requirement already satisfied: iopath in c:\\users\\andrew.shiroma\\my drive\\r&i ai chatbot\\venv_r&i_assistant\\lib\\site-packages (from layoutparser->unstructured_inference) (0.1.10)\n",
            "Requirement already satisfied: pdfplumber in c:\\users\\andrew.shiroma\\my drive\\r&i ai chatbot\\venv_r&i_assistant\\lib\\site-packages (from layoutparser->unstructured_inference) (0.10.4)\n",
            "Requirement already satisfied: contourpy>=1.0.1 in c:\\users\\andrew.shiroma\\my drive\\r&i ai chatbot\\venv_r&i_assistant\\lib\\site-packages (from matplotlib->unstructured_inference) (1.3.1)\n",
            "Requirement already satisfied: cycler>=0.10 in c:\\users\\andrew.shiroma\\my drive\\r&i ai chatbot\\venv_r&i_assistant\\lib\\site-packages (from matplotlib->unstructured_inference) (0.12.1)\n",
            "Requirement already satisfied: fonttools>=4.22.0 in c:\\users\\andrew.shiroma\\my drive\\r&i ai chatbot\\venv_r&i_assistant\\lib\\site-packages (from matplotlib->unstructured_inference) (4.55.3)\n",
            "Requirement already satisfied: kiwisolver>=1.3.1 in c:\\users\\andrew.shiroma\\my drive\\r&i ai chatbot\\venv_r&i_assistant\\lib\\site-packages (from matplotlib->unstructured_inference) (1.4.7)\n",
            "Requirement already satisfied: pyparsing>=2.3.1 in c:\\users\\andrew.shiroma\\my drive\\r&i ai chatbot\\venv_r&i_assistant\\lib\\site-packages (from matplotlib->unstructured_inference) (3.2.0)\n",
            "Requirement already satisfied: python-dateutil>=2.7 in c:\\users\\andrew.shiroma\\my drive\\r&i ai chatbot\\venv_r&i_assistant\\lib\\site-packages (from matplotlib->unstructured_inference) (2.9.0.post0)\n",
            "Requirement already satisfied: click in c:\\users\\andrew.shiroma\\my drive\\r&i ai chatbot\\venv_r&i_assistant\\lib\\site-packages (from nltk->unstructured[all-docs]) (8.1.7)\n",
            "Requirement already satisfied: joblib in c:\\users\\andrew.shiroma\\my drive\\r&i ai chatbot\\venv_r&i_assistant\\lib\\site-packages (from nltk->unstructured[all-docs]) (1.4.2)\n",
            "Requirement already satisfied: pytz>=2020.1 in c:\\users\\andrew.shiroma\\my drive\\r&i ai chatbot\\venv_r&i_assistant\\lib\\site-packages (from pandas->unstructured[all-docs]) (2024.2)\n",
            "Requirement already satisfied: tzdata>=2022.7 in c:\\users\\andrew.shiroma\\my drive\\r&i ai chatbot\\venv_r&i_assistant\\lib\\site-packages (from pandas->unstructured[all-docs]) (2024.2)\n",
            "Requirement already satisfied: charset-normalizer>=2.0.0 in c:\\users\\andrew.shiroma\\my drive\\r&i ai chatbot\\venv_r&i_assistant\\lib\\site-packages (from pdfminer.six->unstructured[all-docs]) (3.4.0)\n",
            "Requirement already satisfied: cryptography>=36.0.0 in c:\\users\\andrew.shiroma\\my drive\\r&i ai chatbot\\venv_r&i_assistant\\lib\\site-packages (from pdfminer.six->unstructured[all-docs]) (44.0.0)\n",
            "Requirement already satisfied: Deprecated in c:\\users\\andrew.shiroma\\my drive\\r&i ai chatbot\\venv_r&i_assistant\\lib\\site-packages (from pikepdf->unstructured[all-docs]) (1.2.15)\n",
            "Requirement already satisfied: olefile in c:\\users\\andrew.shiroma\\my drive\\r&i ai chatbot\\venv_r&i_assistant\\lib\\site-packages (from python-oxmsg->unstructured[all-docs]) (0.47)\n",
            "Requirement already satisfied: threadpoolctl>=3.1.0 in c:\\users\\andrew.shiroma\\my drive\\r&i ai chatbot\\venv_r&i_assistant\\lib\\site-packages (from scikit-learn->sentence-transformers) (3.5.0)\n",
            "Requirement already satisfied: aiofiles>=24.1.0 in c:\\users\\andrew.shiroma\\my drive\\r&i ai chatbot\\venv_r&i_assistant\\lib\\site-packages (from unstructured-client->unstructured[all-docs]) (24.1.0)\n",
            "Requirement already satisfied: eval-type-backport<0.3.0,>=0.2.0 in c:\\users\\andrew.shiroma\\my drive\\r&i ai chatbot\\venv_r&i_assistant\\lib\\site-packages (from unstructured-client->unstructured[all-docs]) (0.2.0)\n",
            "Requirement already satisfied: jsonpath-python<2.0.0,>=1.0.6 in c:\\users\\andrew.shiroma\\my drive\\r&i ai chatbot\\venv_r&i_assistant\\lib\\site-packages (from unstructured-client->unstructured[all-docs]) (1.0.6)\n",
            "Requirement already satisfied: nest-asyncio>=1.6.0 in c:\\users\\andrew.shiroma\\my drive\\r&i ai chatbot\\venv_r&i_assistant\\lib\\site-packages (from unstructured-client->unstructured[all-docs]) (1.6.0)\n",
            "Requirement already satisfied: requests-toolbelt>=1.0.0 in c:\\users\\andrew.shiroma\\my drive\\r&i ai chatbot\\venv_r&i_assistant\\lib\\site-packages (from unstructured-client->unstructured[all-docs]) (1.0.0)\n",
            "Requirement already satisfied: cffi>=1.12 in c:\\users\\andrew.shiroma\\my drive\\r&i ai chatbot\\venv_r&i_assistant\\lib\\site-packages (from cryptography>=36.0.0->pdfminer.six->unstructured[all-docs]) (1.17.1)\n",
            "Requirement already satisfied: googleapis-common-protos<2.0.dev0,>=1.56.2 in c:\\users\\andrew.shiroma\\my drive\\r&i ai chatbot\\venv_r&i_assistant\\lib\\site-packages (from google-api-core!=2.0.*,!=2.1.*,!=2.10.*,!=2.2.*,!=2.3.*,!=2.4.*,!=2.5.*,!=2.6.*,!=2.7.*,!=2.8.*,!=2.9.*,<3.0.0dev,>=1.34.1->google-api-core[grpc]!=2.0.*,!=2.1.*,!=2.10.*,!=2.2.*,!=2.3.*,!=2.4.*,!=2.5.*,!=2.6.*,!=2.7.*,!=2.8.*,!=2.9.*,<3.0.0dev,>=1.34.1->google-cloud-vision->unstructured[all-docs]) (1.66.0)\n",
            "Requirement already satisfied: grpcio<2.0dev,>=1.33.2 in c:\\users\\andrew.shiroma\\my drive\\r&i ai chatbot\\venv_r&i_assistant\\lib\\site-packages (from google-api-core[grpc]!=2.0.*,!=2.1.*,!=2.10.*,!=2.2.*,!=2.3.*,!=2.4.*,!=2.5.*,!=2.6.*,!=2.7.*,!=2.8.*,!=2.9.*,<3.0.0dev,>=1.34.1->google-cloud-vision->unstructured[all-docs]) (1.68.1)\n",
            "Requirement already satisfied: grpcio-status<2.0.dev0,>=1.33.2 in c:\\users\\andrew.shiroma\\my drive\\r&i ai chatbot\\venv_r&i_assistant\\lib\\site-packages (from google-api-core[grpc]!=2.0.*,!=2.1.*,!=2.10.*,!=2.2.*,!=2.3.*,!=2.4.*,!=2.5.*,!=2.6.*,!=2.7.*,!=2.8.*,!=2.9.*,<3.0.0dev,>=1.34.1->google-cloud-vision->unstructured[all-docs]) (1.68.1)\n",
            "Requirement already satisfied: cachetools<6.0,>=2.0.0 in c:\\users\\andrew.shiroma\\my drive\\r&i ai chatbot\\venv_r&i_assistant\\lib\\site-packages (from google-auth!=2.24.0,!=2.25.0,<3.0.0dev,>=2.14.1->google-cloud-vision->unstructured[all-docs]) (5.5.0)\n",
            "Requirement already satisfied: pyasn1-modules>=0.2.1 in c:\\users\\andrew.shiroma\\my drive\\r&i ai chatbot\\venv_r&i_assistant\\lib\\site-packages (from google-auth!=2.24.0,!=2.25.0,<3.0.0dev,>=2.14.1->google-cloud-vision->unstructured[all-docs]) (0.4.1)\n",
            "Requirement already satisfied: rsa<5,>=3.1.4 in c:\\users\\andrew.shiroma\\my drive\\r&i ai chatbot\\venv_r&i_assistant\\lib\\site-packages (from google-auth!=2.24.0,!=2.25.0,<3.0.0dev,>=2.14.1->google-cloud-vision->unstructured[all-docs]) (4.9)\n",
            "Requirement already satisfied: antlr4-python3-runtime==4.9.* in c:\\users\\andrew.shiroma\\my drive\\r&i ai chatbot\\venv_r&i_assistant\\lib\\site-packages (from omegaconf>=2.0->effdet->unstructured[all-docs]) (4.9.3)\n",
            "Requirement already satisfied: mypy-extensions>=0.3.0 in c:\\users\\andrew.shiroma\\my drive\\r&i ai chatbot\\venv_r&i_assistant\\lib\\site-packages (from typing-inspect<1,>=0.4.0->dataclasses-json->unstructured[all-docs]) (1.0.0)\n",
            "Requirement already satisfied: humanfriendly>=9.1 in c:\\users\\andrew.shiroma\\my drive\\r&i ai chatbot\\venv_r&i_assistant\\lib\\site-packages (from coloredlogs->onnxruntime>=1.17.0->unstructured_inference) (10.0)\n",
            "Requirement already satisfied: portalocker in c:\\users\\andrew.shiroma\\my drive\\r&i ai chatbot\\venv_r&i_assistant\\lib\\site-packages (from iopath->layoutparser->unstructured_inference) (3.0.0)\n",
            "Requirement already satisfied: MarkupSafe>=2.0 in c:\\users\\andrew.shiroma\\my drive\\r&i ai chatbot\\venv_r&i_assistant\\lib\\site-packages (from jinja2->torch->unstructured_inference) (3.0.2)\n",
            "Requirement already satisfied: pypdfium2>=4.18.0 in c:\\users\\andrew.shiroma\\my drive\\r&i ai chatbot\\venv_r&i_assistant\\lib\\site-packages (from pdfplumber->layoutparser->unstructured_inference) (4.30.0)\n",
            "Requirement already satisfied: pycparser in c:\\users\\andrew.shiroma\\my drive\\r&i ai chatbot\\venv_r&i_assistant\\lib\\site-packages (from cffi>=1.12->cryptography>=36.0.0->pdfminer.six->unstructured[all-docs]) (2.22)\n",
            "Requirement already satisfied: pyreadline3 in c:\\users\\andrew.shiroma\\my drive\\r&i ai chatbot\\venv_r&i_assistant\\lib\\site-packages (from humanfriendly>=9.1->coloredlogs->onnxruntime>=1.17.0->unstructured_inference) (3.5.4)\n",
            "Requirement already satisfied: pyasn1<0.7.0,>=0.4.6 in c:\\users\\andrew.shiroma\\my drive\\r&i ai chatbot\\venv_r&i_assistant\\lib\\site-packages (from pyasn1-modules>=0.2.1->google-auth!=2.24.0,!=2.25.0,<3.0.0dev,>=2.14.1->google-cloud-vision->unstructured[all-docs]) (0.6.1)\n",
            "Requirement already satisfied: pywin32>=226 in c:\\users\\andrew.shiroma\\my drive\\r&i ai chatbot\\venv_r&i_assistant\\lib\\site-packages (from portalocker->iopath->layoutparser->unstructured_inference) (308)\n",
            "Note: you may need to restart the kernel to use updated packages.\n",
            "Requirement already satisfied: pdfminer==20191125 in c:\\users\\andrew.shiroma\\my drive\\r&i ai chatbot\\venv_r&i_assistant\\lib\\site-packages (20191125)\n",
            "Requirement already satisfied: pdfminer.six==20221105 in c:\\users\\andrew.shiroma\\my drive\\r&i ai chatbot\\venv_r&i_assistant\\lib\\site-packages (20221105)\n",
            "Requirement already satisfied: pillow_heif in c:\\users\\andrew.shiroma\\my drive\\r&i ai chatbot\\venv_r&i_assistant\\lib\\site-packages (0.21.0)\n",
            "Requirement already satisfied: pi-heif in c:\\users\\andrew.shiroma\\my drive\\r&i ai chatbot\\venv_r&i_assistant\\lib\\site-packages (0.21.0)\n",
            "Requirement already satisfied: pycryptodome in c:\\users\\andrew.shiroma\\my drive\\r&i ai chatbot\\venv_r&i_assistant\\lib\\site-packages (from pdfminer==20191125) (3.21.0)\n",
            "Requirement already satisfied: charset-normalizer>=2.0.0 in c:\\users\\andrew.shiroma\\my drive\\r&i ai chatbot\\venv_r&i_assistant\\lib\\site-packages (from pdfminer.six==20221105) (3.4.0)\n",
            "Requirement already satisfied: cryptography>=36.0.0 in c:\\users\\andrew.shiroma\\my drive\\r&i ai chatbot\\venv_r&i_assistant\\lib\\site-packages (from pdfminer.six==20221105) (44.0.0)\n",
            "Requirement already satisfied: pillow>=10.1.0 in c:\\users\\andrew.shiroma\\my drive\\r&i ai chatbot\\venv_r&i_assistant\\lib\\site-packages (from pillow_heif) (11.0.0)\n",
            "Requirement already satisfied: cffi>=1.12 in c:\\users\\andrew.shiroma\\my drive\\r&i ai chatbot\\venv_r&i_assistant\\lib\\site-packages (from cryptography>=36.0.0->pdfminer.six==20221105) (1.17.1)\n",
            "Requirement already satisfied: pycparser in c:\\users\\andrew.shiroma\\my drive\\r&i ai chatbot\\venv_r&i_assistant\\lib\\site-packages (from cffi>=1.12->cryptography>=36.0.0->pdfminer.six==20221105) (2.22)\n",
            "Note: you may need to restart the kernel to use updated packages.\n"
          ]
        }
      ],
      "source": [
        "%pip install langchain langchain-community langchain-pinecone\n",
        "%pip install openai groq pinecone-client unstructured[all-docs] unstructured_inference sentence-transformers docx2txt openpyxl onnx==1.16.1\n",
        "%pip install pdfminer==20191125 pdfminer.six==20221105 pillow_heif pi-heif"
      ]
    },
    {
      "cell_type": "code",
      "execution_count": 2,
      "metadata": {
        "id": "ay8JWpWbWRQN"
      },
      "outputs": [
        {
          "name": "stderr",
          "output_type": "stream",
          "text": [
            "c:\\Users\\andrew.shiroma\\My Drive\\R&I AI Chatbot\\venv_r&i_assistant\\Lib\\site-packages\\pinecone\\data\\index.py:1: TqdmWarning: IProgress not found. Please update jupyter and ipywidgets. See https://ipywidgets.readthedocs.io/en/stable/user_install.html\n",
            "  from tqdm.autonotebook import tqdm\n"
          ]
        }
      ],
      "source": [
        "from langchain.document_loaders import PyPDFLoader, UnstructuredExcelLoader, Docx2txtLoader\n",
        "from langchain_community.document_loaders import UnstructuredImageLoader, GithubFileLoader\n",
        "from langchain_pinecone import PineconeVectorStore\n",
        "from langchain_community.embeddings import HuggingFaceEmbeddings\n",
        "from langchain.schema import Document\n",
        "from sentence_transformers import SentenceTransformer\n",
        "from pinecone import Pinecone\n",
        "import openai\n",
        "import os\n",
        "from dotenv import load_dotenv\n",
        "from groq import Groq"
      ]
    },
    {
      "cell_type": "markdown",
      "metadata": {
        "id": "cgUhMx3EWjdH"
      },
      "source": [
        "# Initialize the HuggingFace Embeddings client"
      ]
    },
    {
      "cell_type": "code",
      "execution_count": 5,
      "metadata": {
        "id": "Iziy1TmoWRSW"
      },
      "outputs": [
        {
          "name": "stderr",
          "output_type": "stream",
          "text": [
            "C:\\Users\\andrew.shiroma\\AppData\\Local\\Temp\\ipykernel_22776\\619240441.py:1: LangChainDeprecationWarning: The class `HuggingFaceEmbeddings` was deprecated in LangChain 0.2.2 and will be removed in 1.0. An updated version of the class exists in the :class:`~langchain-huggingface package and should be used instead. To use it run `pip install -U :class:`~langchain-huggingface` and import as `from :class:`~langchain_huggingface import HuggingFaceEmbeddings``.\n",
            "  embeddings = HuggingFaceEmbeddings(model_name=\"sentence-transformers/all-mpnet-base-v2\")\n"
          ]
        }
      ],
      "source": [
        "embeddings = HuggingFaceEmbeddings(model_name=\"sentence-transformers/all-mpnet-base-v2\")"
      ]
    },
    {
      "cell_type": "markdown",
      "metadata": {
        "id": "7YA0Wj0X-QB2"
      },
      "source": [
        "# Load in the Data"
      ]
    },
    {
      "cell_type": "code",
      "execution_count": 15,
      "metadata": {
        "id": "2pVe0RMYXvIm"
      },
      "outputs": [],
      "source": [
        "load_dotenv()\n",
        "\n",
        "# need to install tesseract in order to use the OCR (optical character recognition) image features\n",
        "# https://github.com/langchain-ai/langchain/issues/9644\n",
        "\n",
        "def process_directory(directory_path):\n",
        "    ''' resursively processes all files in a directory '''\n",
        "    data = []\n",
        "    # other docs\n",
        "    for root, _, files in os.walk(directory_path):\n",
        "        for file in files:\n",
        "            file_path = os.path.join(root, file)\n",
        "            if file.endswith(\".pdf\"):\n",
        "                loader = PyPDFLoader(file_path)\n",
        "                data.append(build_directory_document(file_path, loader))\n",
        "            # elif file[-3:] == 'png':\n",
        "            #     loader = UnstructuredImageLoader(file_path)\n",
        "            #     data.append({\"File\": file_path, \"Data\": loader.load()})\n",
        "            elif file.endswith(\".docx\"):\n",
        "                loader = Docx2txtLoader(file_path)\n",
        "                data.append(build_directory_document(file_path, loader))\n",
        "            elif file.endswith(\".xlsx\"):\n",
        "                loader = UnstructuredExcelLoader(file_path)\n",
        "                data.append(build_directory_document(file_path, loader))\n",
        "\n",
        "    return data\n",
        "\n",
        "def build_directory_document(file_path: str, loader: object):\n",
        "    ''' create a Document object with metadata and page content '''\n",
        "    return Document(\n",
        "        metadata={\n",
        "            \"source\": file_path\n",
        "        },\n",
        "        page_content=f\"Source: {file_path}\\n{loader.load()[0].page_content}\"\n",
        "    )\n",
        "\n",
        "def process_github():\n",
        "    ''' recursively processes all files in a github repo '''\n",
        "    data = []\n",
        "    loader = GithubFileLoader(\n",
        "        repo=\"reportingandinsights/common-code\",\n",
        "        branch=\"main\",\n",
        "        access_token=os.getenv(\"GITHUB_PERSONAL_ACCESS_TOKEN\"),\n",
        "        file_filter=lambda file_path: file_path.endswith(\".md\") or file_path.endswith(\".txt\") or file_path.endswith(\".xml\"),\n",
        "    )\n",
        "    \n",
        "    repo_name = \"reportingandinsights/common-code/\"\n",
        "    for gitdoc in loader.load():\n",
        "        data.append(build_github_doc(repo_name, gitdoc))\n",
        "\n",
        "    return data\n",
        "\n",
        "def build_github_doc(repo_name: str, gitdoc: list):\n",
        "    ''' create a Document object with metadata and page content. github loader loads all documents so requires a different function'''\n",
        "    return Document(\n",
        "        metadata={\n",
        "            \"source\": f\"{repo_name}{gitdoc.metadata['path']}\"\n",
        "        },\n",
        "        page_content=f\"Source: {repo_name}{gitdoc.metadata['path']}\\n{[gitdoc][0].page_content}\" # convert the doc to a 1-element list to access the page_content\n",
        "    )\n",
        "\n",
        "directory_path = \"./r&i_assistant_docs\"\n",
        "documents = []\n",
        "documents += process_directory(directory_path)\n",
        "documents += process_github()\n"
      ]
    },
    {
      "cell_type": "code",
      "execution_count": 16,
      "metadata": {
        "id": "2j0tJ_fW9GLB"
      },
      "outputs": [
        {
          "data": {
            "text/plain": [
              "[Document(metadata={'source': './r&i_assistant_docs\\\\Data Dictionaries Guide.pdf'}, page_content='Source: ./r&i_assistant_docs\\\\Data Dictionaries Guide.pdf\\nV i e w D a t a D i c t i o n a r i e s \\n •Whatlevelofdetaildoyouneed?1 . B u s i n e s s l o g i c f o r a m e t r i c \\n ● Sheet:KPIDictionary○ metric-levelinfoforreportingneedforHCMinistryApp&reportingneeds;lackscolumninfo.○ R&IKPIDictionary\\n2 . D a t a c o l l e c t i o n / d a t a e n t r y \\n ● Sheet:R&IKPIDictionary>>column\"DataEntryProcess\"○ metric-levelinfoforreportingneedforHCMinistryApp&reportingneeds;lackscolumninfo.○ R&IKPIDictionary\\n3 . U s e r - f a c i n g r e p o r t n o t e s \\n ● File:R&IKPIDictionary.xlsx>>Sheet:ExplanatoryNotesforReports○ ExplanatoryNotesforReports○ Whenthereispotentiallyambiguouschurch-centriclanguage,thetechnicaltermsareprovided\\n4 . T a b l e s o n l y ( a n d P o w e r B I D a t a f l o w l o c a t i o n ) ● DataflowListing○ Table-levelinfoforcustomandDWHandHCtables;○ DataflowListing\\n5 . T a b l e s a n d c o l u m n s ● DataDictionary○ DetaileddatadefinitionsforsomeDWHandHCtables,aswellasOddsandends;Doeshavecolumninfo.○ Example:thekeyforpublic.person.membershipstatusidisprovided○ FieldDictionary\\n6 . D a t a p i p e l i n e s a n d r e f r e s h f l o w ● Present\\nVisualLocationsofAtomicMetrics● Thisdocumentisintendedtoanswerthequestion:\"Whereis____metricdisplayed?\"● Thisdocumentisonlyforhighprioritymetricsonly(e.g.Attendance,Baptism,Decisions,etc.)● VisuallocationsofAtomicMetrics● LooseEnds○ ThemandarincommunityworshipservicevenueisnotrecordedanywhereinVisuallocationsdocument\\nCatalogofStandardVisualsforr&i● Thisdocisforstandardvisuals.Ionlyupdateitwhendecidingtodecomptasksforvisualupdateshttps://docs.google.com/spreadsheets/d/1Q9xEtwZfsKEUtwuwmCJp32Yp4xez-u7bQcJ2HH2NLls/edit?gid=2115246282#gid=2115246282\\n'),\n",
              " Document(metadata={'source': './r&i_assistant_docs\\\\DevOps Bulk Export_Import Tasks.docx'}, page_content='Source: ./r&i_assistant_docs\\\\DevOps Bulk Export_Import Tasks.docx\\nQuerying to Find Children to Export\\n\\n\\n\\n\\n\\nSet the value of parent to the ID of the backlog item (or other task) to get a list of children. Then click “Export as CSV” to get the information\\n\\n\\n\\nQuerying to Get Existing Parent Info to Export\\n\\n\\n\\nSimply fill in the Title Field with the title of the item you want to export, or the ID Field with the id of the item you want to export, etc. Then click “Export as CSV”\\n\\nModifying the Data in Excel\\n\\nUpload the Children data into Google Drive and open in Excel\\n\\nDelete the IDs from all the children tasks\\n\\nRename the Title column to “Title 2” for the tasks\\n\\nAdd a “Title 1” column for the existing Parent\\n\\nCopy/paste the Parent data from the exported csv file into this excel\\n\\n\\n\\n\\n\\nImporting New Data into DevOps\\n\\nDownload the modified Excel as csv\\n\\nGo to DevOps Queries and click “Import Work Items”\\n\\nImport the downloaded csv file'),\n",
              " Document(metadata={'source': './r&i_assistant_docs\\\\how to say a SCRUM status.docx'}, page_content='Source: ./r&i_assistant_docs\\\\how to say a SCRUM status.docx\\nHow to say a SCRUM Status\\n\\ndescribe all items from past\\n\\nStarting with top feature-grouping from your sorted list, use formula\\n>formula: Under feature A, in the Done pile, tasks B & C were completed. In the \"In Progress\" pile, task D had time burned down\\n\\nmove down to next feature-grouping. repeat formula.\\n\\ndescribe all items planned for present & future\\n\\nStarting with top feature-grouping from your sorted list, use formula\\n>formula: Under feature A, in the Done pile, tasks B & C were completed. In the \"In Progress\" pile, task D was burned down\\n\\nmove down to next feature-grouping. repeat formula.\\n\\ndescribe any blocks. If no blocks, say \"no blocks\" - something I can’t undo\\n\\ndescribe any lingers. If no lingers, say \"no lingers\" - something that doesn’t require attention from everyone, wait till end of meeting to discuss'),\n",
              " Document(metadata={'source': './r&i_assistant_docs\\\\Quarter 0 Sprint -1 Review.pdf'}, page_content='Source: ./r&i_assistant_docs\\\\Quarter 0 Sprint -1 Review.pdf\\n'),\n",
              " Document(metadata={'source': './r&i_assistant_docs\\\\Quarter 0 Sprint 0 Commit.pdf'}, page_content='Source: ./r&i_assistant_docs\\\\Quarter 0 Sprint 0 Commit.pdf\\nThis is a Template card.\\nQuarter 0 Sprint 0 Commit\\nin list\\nLabels Notifications\\nDescription\\nAttachments\\nTrello cards\\nConnected\\nTo do\\n0%\\nCreate card from template\\nARCHIVE FOR LINKED CARDS\\nTip Watch\\ncrucial definition\\nDone = The feature is finished developed, vetted, tested, and ready to go to hands of users as soon as Cheryl \\n& Steve deploy it.\\nchoices for updating feature status\\nCommit = a pledge to get the feature to the definition of done (be sure to consult with any coworkers \\nworking on this project too)\\nApproved = doing work on the feature, but not getting it to the definition of done\\nNew = zero chance of doing work on it this sprint. move to next\\nMar 17, 2020 4 2\\n2/9\\nSprint transitions\\nPowerBI Tip Objectives/Hopes\\nJer SB Analyst:\\xa0Ongoing\\nupdate statuses of PBIs in Azure DevOps before meeting\\n9/30/24, 12:01 PM Quarter 0 Sprint 0 Commit on Jer SB Analyst | Trello\\nhttps://trello.com/c/YYePNyoL/315-quarter-0-sprint-0-commit 1/2'),\n",
              " Document(metadata={'source': './r&i_assistant_docs\\\\Quarter 0 Sprint 0 planning A.pdf'}, page_content='Source: ./r&i_assistant_docs\\\\Quarter 0 Sprint 0 planning A.pdf\\nThis is a Template card.\\nQuarter 0 Sprint 0 planning A\\nin list\\nLabels Notifications\\nDescription\\nCheckup\\n0%\\nAny Questions?\\n0%\\nActivity\\nJeremiah C added Questions to this card\\nMar 16, 2020, 1:11 PM via \\ue90fButler\\nJeremiah C added checup to this card\\nNov 27, 2019, 2:08 PM\\nCreate card from template\\nARCHIVE FOR LINKED CARDS\\nTip Watch\\nExample\\nupdates: I have moved campus dashboard detail for baptism to Sprint 68 because it is the next priority \\nafter this sprint\\n\\xa0\\nRepeated features that are used sprint over sprint (e.g. weekly reporting, general support) will be \\nrecreated during a new quarter\\nwe prioritize based on what provides more value\\nhelp teammates prepare for process\\nlook at total backlog to plan priority of future PBIs for Sprint Planning A. \\nhttps://dev.azure.com/saddleback-church/General Support/_backlogs/backlog/General \\nSupport Team/Backlog items\\nany vacation time?\\n9/30/24, 11:58 AM Quarter 0 Sprint 0 planning A on Jer SB Analyst | Trello\\nhttps://trello.com/c/4FTxz5OQ/240-quarter-0-sprint-0-planning-a 1/2'),\n",
              " Document(metadata={'source': './r&i_assistant_docs\\\\R&I Best Practices for Google Cloud.docx'}, page_content='Source: ./r&i_assistant_docs\\\\R&I Best Practices for Google Cloud.docx\\nR&I Best Practices for Google Cloud\\n\\n21st August 2024\\n\\nSTAKEHOLDERS\\n\\nInternal\\n\\nRiad Bacchus and Jeremiah Chuang have the input on these\\n\\nExternal\\n\\nCheryl Mackinnon sets priorities and can override anything in this document\\n\\nOVERVIEW\\n\\nUsing Google Cloud for reporting and insights workflows and methods has some non-intuitive processes. These are detailed here\\n\\nDeadlines\\n\\nMicrosoft will be totally gone in October. Some R&I team members will retain access to things such as Excel & Power BI.\\n\\nPREREQUISITES\\n\\nPower BI License & Permissions\\n\\nDeveloper can either have Power BI Premium per User (PPU) or Power BI Pro license\\n\\nThe Developer needs access to workspaces for Dataflows, testing, and production environments\\n\\nRecommended, but Optional: The Developer may need ability to export files (.pbix and .xlsx)\\n\\nGoogle Account\\n\\nIT takes care of this Just email itservicedesk@saddleback.com\\n\\nGoogle Drive access permissions\\n\\nIT takes care of this. Just email itservicedesk@saddleback.com\\n\\nCutover Procedures\\n\\nFile storage\\n\\n\\n\\n\\n\\nBefore: Egnyte/Sharepoint/local computer\\n\\nAfter: Shared Google Drive File repositories\\n\\nFor .pbix reports: Report Version Files\\n\\nFor Data sources: Data Sources for Reports\\n\\nConverting Excel documents to Google Sheets\\n\\nPower BI to Google Sheets Guide\\n\\nComments on Power Query formatting\\n\\nNulls turn into blanks\\n\\nExtra rows in the Google Sheet become rows in Power Query\\n\\nFilter these out in Power Query\\n\\nNew Methods\\n\\nChat and Collaboration\\n\\nGoogle doesn\\'t have the ability to name a group chat. \\n\\nHowever, we could convert this group chat into a Space, which would facilitate chat, threads, and file sharing. Only if we need it\\n\\nFile Sharing\\n\\nGoogle Sheets require certain permissions for Share > Link > Manage Access. Depending on if any users are external to the organization, they may need the Google Sheet to be open to “Anyone with the link”\\n\\n\\n\\n\\n\\n\\nDesktop to Drive Integration\\n\\nGoogle Drive can sync folders on your computer with those in your Drive so you don’t have to manage multiple copies of files.\\n\\nDownload & Sign In when prompted\\n\\nAccess or Add folders/files to your new Google Drive (G:) > My Drive\\n\\nClick Gear > Preferences > Syncing options > select “Mirror Files”\\n\\nReports are large files, which means Streaming (default) has longer sync times\\n\\n\\n\\n\\n\\n\\n\\nReport Development and revisions\\n\\nCheck that for each report, Google Drive has a file folder structure for these 4 folders\\n\\n01_Report Repository\\n\\n02_Report Objects\\n\\n88_Testing\\n\\n99_Production\\n\\nDownload .pbix from Google Drive\\n\\nFollow Version Control process and update hidden pages within .pbix. PBI Version Control Process v2.pdf\\n\\nSave versions to Google Drive as .pbit for backup into 01_Report Repository (each report should have this folder)\\n\\nQA in (DEV) workspaces\\n\\nSame as before\\n\\nVisualization\\n\\nSame as before. See this folder for standard guidelines: Power BI Report Standards\\n\\nDeploying Reports\\n\\nPower BI Service (Browser based)\\n\\nIf a semantic model is using Google Sheets, then the credentials have to be input into the settings.\\n\\nExports\\n\\nCurrently the Power BI button for Export data produces a file in Excel. The best user experience would convert these extracts into Google Sheets seamlessly. \\n\\nPower BI to Google Sheets Guide\\n\\nPotential Ideas to try\\n\\nGoogle sheets can make templates. We could use this to standardize visuals on extracts\\n\\n\\n\\n\\n\\n\\nWork in progress page\\n\\nStuff you can do now BEFORE go-live:\\n\\nUse chat.google.com, not gmail.com\\n\\nSpaces:\\n\\nExternal member access: Set only at creation\\n\\nEnables \"Copy link to this space\" button\\n\\nThreads: a method to focus conversations & Reduce notifications for other team members.\\n\\nConfigurable notifications\\n\\nMEET:\\n\\nIntuitive interface\\n\\nAuto-frame camera setting\\n\\nCompanion Mode: For conference rooms, no audio\\n\\nCalendar integration:\\n\\nMeet options in G-Cal events\\n\\nAttachments visible in Meet\\n\\nR&I team will Use Contributors, not Viewers role\\n\\nAFTER go-live:\\n\\nBest practice: continue to use chat.google.com, not gmail.com\\n\\nStrong recommendation: Switch to Chrome browser\\n\\nImport bookmarks'),\n",
              " Document(metadata={'source': './r&i_assistant_docs\\\\Saddleback Email Signature 2024.pdf'}, page_content='Source: ./r&i_assistant_docs\\\\Saddleback Email Signature 2024.pdf\\n'),\n",
              " Document(metadata={'source': './r&i_assistant_docs\\\\SCRUM Script.pdf'}, page_content='Source: ./r&i_assistant_docs\\\\SCRUM Script.pdf\\nH o w t o s a y a S C R U M S t a t u s f eatur e : Main T ask or P ar ent T ask (on the most left hand side of the Sprint P age, has the white back gr ound instead of the gr a y) \\nInstructions: 1. Describeallitemsfrompasta. Star ting with t op f eatur e-gr ouping fr om y our sor ted list, use formula >formula: Under f eatur e A, in the Done pile, tasks B & C wer e completed. In the \"In Pr ogr ess\" pile, task D had time burned down i. mo v e down t o the next f eatur e-gr ouping. r epeat formula. 2. Describeallitemsplannedforpresent&futurea. Star ting with t op f eatur e-gr ouping fr om y our sor ted list, use formula >formula: Under f eatur e A, in the Done pile, tasks B & C wer e completed. In the \"In Pr ogr ess\" pile, task D was burned down i. mo v e down t o the next f eatur e-gr ouping. r epeat formula. 3. Describeanyblocks.Ifnoblocks,say\"noblocks\"a. SomethingI can’tundo\\n4. Describeanylingers.Ifnolingers,say\"nolingers\"a. something that doesn ’t r equir e attention fr om e v er y one, wait till end of meeting t o discuss \\n 1. P ast 2 . P r e s e n t / F u t u r e 3 . B l o c k s 4 . L i n g e r s '),\n",
              " Document(metadata={'source': './r&i_assistant_docs\\\\Sprint Transition Week.xlsx'}, page_content=\"Source: ./r&i_assistant_docs\\\\Sprint Transition Week.xlsx\\nNote: the Reporting  & Insights team uses the word 'feature' to refer to what Azure Devops calls a Product Backlog Item\\n\\nFriday & Monday Tuesday Wednesday Thursday Friday Old Sprint's Last Days Sprint Transition Sprint Transition Sprint Transition New Sprint Starts Time Meeting? Meeting Description To-do Meeting? To-do Meeting? To-do Meeting? To-do Meeting? To-do start of work day-10am Prepare for meeting\\\\n• Demonstration of any shareable progress and atomic metrics accessibility\\\\n• For each feature you own, determine worked-on status (delivered, partial, or zero)and whether to move to the next feature or attempt to finish in the sprint transition.\\\\n• If feature is incomplete, explain why.\\\\n• Identify if you have any vacation days in the current sprint\\\\n • decompose tasks (both your own tasks and coworkers' tasks under your features and look for tasks that can be removed)\\\\n• identify lingers for sprint planning\\\\n• Complete commits from old sprint, if any • decompose tasks (both your own tasks and coworkers' tasks under your features and look for tasks that can be removed)\\\\n• identify lingers for sprint planning\\\\n• Complete commits from old sprint, if any Plan committed features for next sprint work 10am-10:30am/11am SCRUM normal SCRUM but also mentioning which features may extend into the Sprint transition The 3 Monday meetings may be moved to Tuesday SCRUM normal SCRUM but also mentioning which features have been completed in the Sprint transition No meetings work Sprint Review Riad updates the statuses of features in Azure DevOps review prior sprint features and share demonstrations Communicate with coworkers about changing feature priorities and checking status of tasks to be finished in prior sprint Communicate with coworkers about changing feature priorities and checking status of tasks to be finished in prior sprint (The Wednesday SCRUM may be moved to Thursday) Verbalize if any leftover features from the Old Sprint have been completed work Sprint Planning A move features into the current sprint for potential decomp. Moving extra features is ok assign features to the New sprint and prioritize them Sprint Commit Identify committed features for next sprint work 11am-end of work day decompose tasks • decompose tasks (both your own tasks and coworkers' tasks under your features and look for tasks that can be removed)\\\\n• identify lingers for sprint planning\\\\n• Complete commits from old sprint, if any • decompose tasks (both your own tasks and coworkers' tasks under your features and look for tasks that can be removed)\\\\n• identify lingers for sprint planning\\\\n• Complete commits from old sprint, if any work\"),\n",
              " Document(metadata={'source': 'reportingandinsights/common-code/Conditionally Hide Unwanted Visuals.md'}, page_content=\"Source: reportingandinsights/common-code/Conditionally Hide Unwanted Visuals.md\\n# Conditionally Hide Unwanted Visuals in Power Bi\\n\\n## use a treemap visual to show white when certain slicers are selected. example below\\n```\\nM_SlicerCheck = \\nCALCULATE(\\n\\t\\tIF(\\n\\t\\t//condition to activate\\n\\t\\t\\tISFILTERED('Dim RC_section (Spiritual)'[Spiritual Slicer]) \\n\\t\\t,0 //display zero if a slicer is selected. this will make the treemap invisible. the final results table is filtered to SlicerCheck = 0\\n        ,1\\n        )\\n\\t, ALLSELECTED ( 'custom_DimSHAPE') \\n)\\n```\\n\\n## treemap instructions\\n1) create measure (like above) for a slicer (M_SlicerCheck in example)\\n2) make a treemap visual and make the slicer white (background color)\\n3) use conditional formatting to tie the color display to the measure value\\n4) Layer the treemap visual on top of the unwanted visuals\\n\"),\n",
              " Document(metadata={'source': 'reportingandinsights/common-code/DAX user defined language for Notepad++.xml'}, page_content='Source: reportingandinsights/common-code/DAX user defined language for Notepad++.xml\\n<NotepadPlus>\\r\\n    <UserLang name=\"DAX /*\" ext=\"dax\" udlVersion=\"2.1\">\\r\\n        <Settings>\\r\\n            <Global caseIgnored=\"no\" allowFoldOfComments=\"yes\" foldCompact=\"no\" forcePureLC=\"0\" decimalSeparator=\"0\" />\\r\\n            <Prefix Keywords1=\"no\" Keywords2=\"no\" Keywords3=\"no\" Keywords4=\"no\" Keywords5=\"no\" Keywords6=\"no\" Keywords7=\"no\" Keywords8=\"no\" />\\r\\n        </Settings>\\r\\n        <KeywordLists>\\r\\n            <Keywords name=\"Comments\">00// 01 02 03/* 04*/</Keywords>\\r\\n            <Keywords name=\"Numbers, prefix1\"></Keywords>\\r\\n            <Keywords name=\"Numbers, prefix2\"></Keywords>\\r\\n            <Keywords name=\"Numbers, extras1\"></Keywords>\\r\\n            <Keywords name=\"Numbers, extras2\"></Keywords>\\r\\n            <Keywords name=\"Numbers, suffix1\"></Keywords>\\r\\n            <Keywords name=\"Numbers, suffix2\"></Keywords>\\r\\n            <Keywords name=\"Numbers, range\"></Keywords>\\r\\n            <Keywords name=\"Operators1\">+ - * / ^ = &gt; &lt; &gt;= &lt;= &lt;&gt; &amp; &amp;&amp; || !</Keywords>\\r\\n            <Keywords name=\"Operators2\"></Keywords>\\r\\n            <Keywords name=\"Folders in code1, open\">(</Keywords>\\r\\n            <Keywords name=\"Folders in code1, middle\"></Keywords>\\r\\n            <Keywords name=\"Folders in code1, close\">)</Keywords>\\r\\n            <Keywords name=\"Folders in code2, open\"></Keywords>\\r\\n            <Keywords name=\"Folders in code2, middle\"></Keywords>\\r\\n            <Keywords name=\"Folders in code2, close\"></Keywords>\\r\\n            <Keywords name=\"Folders in comment, open\"></Keywords>\\r\\n            <Keywords name=\"Folders in comment, middle\"></Keywords>\\r\\n            <Keywords name=\"Folders in comment, close\"></Keywords>\\r\\n            <Keywords name=\"Keywords1\">CALENDAR&#x000D;&#x000A;CALENDARAUTO&#x000D;&#x000A;DATE&#x000D;&#x000A;DATEDIFF&#x000D;&#x000A;DATEVALUE&#x000D;&#x000A;DAY&#x000D;&#x000A;EDATE&#x000D;&#x000A;EOMONTH&#x000D;&#x000A;HOUR&#x000D;&#x000A;MINUTE&#x000D;&#x000A;MONTH&#x000D;&#x000A;NOW&#x000D;&#x000A;SECOND&#x000D;&#x000A;TIME&#x000D;&#x000A;TIMEVALUE&#x000D;&#x000A;TODAY&#x000D;&#x000A;WEEKDAY&#x000D;&#x000A;WEEKNUM&#x000D;&#x000A;YEAR&#x000D;&#x000A;YEARFRAC&#x000D;&#x000A;CLOSINGBALANCEMONTH&#x000D;&#x000A;CLOSINGBALANCEQUARTER&#x000D;&#x000A;CLOSINGBALANCEYEAR&#x000D;&#x000A;DATEADD&#x000D;&#x000A;DATESBETWEEN&#x000D;&#x000A;DATESINPERIOD&#x000D;&#x000A;DATESMTD&#x000D;&#x000A;DATESQTD&#x000D;&#x000A;DATESYTD&#x000D;&#x000A;ENDOFMONTH&#x000D;&#x000A;ENDOFQUARTER&#x000D;&#x000A;ENDOFYEAR&#x000D;&#x000A;FIRSTDATE&#x000D;&#x000A;FIRSTNONBLANK&#x000D;&#x000A;LASTDATE&#x000D;&#x000A;LASTNONBLANK&#x000D;&#x000A;NEXTDAY&#x000D;&#x000A;NEXTMONTH&#x000D;&#x000A;NEXTQUARTER&#x000D;&#x000A;NEXTYEAR&#x000D;&#x000A;OPENINGBALANCEMONTH&#x000D;&#x000A;OPENINGBALANCEQUARTER&#x000D;&#x000A;OPENINGBALANCEYEAR&#x000D;&#x000A;PARALLELPERIOD&#x000D;&#x000A;PREVIOUSDAY&#x000D;&#x000A;PREVIOUSMONTH&#x000D;&#x000A;PREVIOUSQUARTER&#x000D;&#x000A;PREVIOUSYEAR&#x000D;&#x000A;SAMEPERIODLASTYEAR&#x000D;&#x000A;STARTOFMONTH&#x000D;&#x000A;STARTOFQUARTER&#x000D;&#x000A;STARTOFYEAR&#x000D;&#x000A;TOTALMTD&#x000D;&#x000A;TOTALQTD&#x000D;&#x000A;TOTALYTD&#x000D;&#x000A;DISTINCTCOUNTNOBLANK&#x000D;&#x000A;CONTAINSSTRINGEXACT&#x000D;&#x000A;CONTAINSSTRING&#x000D;&#x000A;USERCULTURE&#x000D;&#x000A;ALLCROSSFILTERED&#x000D;&#x000A;APPROXIMATEDISTINCTCOUNT</Keywords>\\r\\n            <Keywords name=\"Keywords2\">ABS&#x000D;&#x000A;ACOS&#x000D;&#x000A;ACOSH&#x000D;&#x000A;ASIN&#x000D;&#x000A;ASINH&#x000D;&#x000A;ATAN&#x000D;&#x000A;ATANH&#x000D;&#x000A;CEILING&#x000D;&#x000A;COMBIN&#x000D;&#x000A;COMBINA&#x000D;&#x000A;COS&#x000D;&#x000A;COSH&#x000D;&#x000A;CURRENCY&#x000D;&#x000A;DEGREES&#x000D;&#x000A;DIVIDE&#x000D;&#x000A;EVEN&#x000D;&#x000A;EXP&#x000D;&#x000A;FACT&#x000D;&#x000A;FLOOR&#x000D;&#x000A;GCD&#x000D;&#x000A;INT&#x000D;&#x000A;ISO.CEILING&#x000D;&#x000A;LCM&#x000D;&#x000A;LN&#x000D;&#x000A;LOG&#x000D;&#x000A;LOG10&#x000D;&#x000A;INT&#x000D;&#x000A;MROUND&#x000D;&#x000A;ODD&#x000D;&#x000A;PI&#x000D;&#x000A;POWER&#x000D;&#x000A;PRODUCT&#x000D;&#x000A;PRODUCTX&#x000D;&#x000A;QUOTIENT&#x000D;&#x000A;RADIANS&#x000D;&#x000A;RAND&#x000D;&#x000A;RANDBETWEEN&#x000D;&#x000A;ROUND&#x000D;&#x000A;ROUNDDOWN&#x000D;&#x000A;ROUNDUP&#x000D;&#x000A;SIGN&#x000D;&#x000A;SQRT&#x000D;&#x000A;SUM&#x000D;&#x000A;SUMX&#x000D;&#x000A;TRUNC&#x000D;&#x000A;DATATABLE&#x000D;&#x000A;ERROR&#x000D;&#x000A;EXCEPT&#x000D;&#x000A;GENERATESERIES&#x000D;&#x000A;GROUPBY&#x000D;&#x000A;INTERSECT&#x000D;&#x000A;ISEMPTY&#x000D;&#x000A;NATURALINNERJOIN&#x000D;&#x000A;NATURALLEFTOUTERJOIN&#x000D;&#x000A;SUMMARIZECOLUMNS&#x000D;&#x000A;Table Constructor&#x000D;&#x000A;TREATAS&#x000D;&#x000A;UNION&#x000D;&#x000A;VAR&#x000D;&#x000A;var&#x000D;&#x000A;return</Keywords>\\r\\n            <Keywords name=\"Keywords3\">ADDMISSINGITEMS&#x000D;&#x000A;ALL&#x000D;&#x000A;ALLEXCEPT&#x000D;&#x000A;ALLNOBLANKROW&#x000D;&#x000A;ALLSELECTED&#x000D;&#x000A;CALCULATE&#x000D;&#x000A;CALCULATETABLE&#x000D;&#x000A;CROSSFILTER Function&#x000D;&#x000A;DISTINCT&#x000D;&#x000A;EARLIER&#x000D;&#x000A;EARLIEST&#x000D;&#x000A;FILTER&#x000D;&#x000A;FILTERS&#x000D;&#x000A;HASONEFILTER&#x000D;&#x000A;HASONEVALUE&#x000D;&#x000A;ISCROSSFILTERED&#x000D;&#x000A;ISFILTERED&#x000D;&#x000A;KEEPFILTERS&#x000D;&#x000A;RELATED&#x000D;&#x000A;RELATEDTABLE&#x000D;&#x000A;SELECTEDVALUE&#x000D;&#x000A;SUBSTITUTEWITHINDEX&#x000D;&#x000A;USERELATIONSHIP&#x000D;&#x000A;VALUES</Keywords>\\r\\n            <Keywords name=\"Keywords4\">PATH&#x000D;&#x000A;PATHCONTAINS&#x000D;&#x000A;PATHITEM&#x000D;&#x000A;PATHITEMREVERSE&#x000D;&#x000A;PATHLENGTH</Keywords>\\r\\n            <Keywords name=\"Keywords5\">CONTAINS&#x000D;&#x000A;CUSTOMDATA&#x000D;&#x000A;ISBLANK&#x000D;&#x000A;ISERROR&#x000D;&#x000A;ISEVEN&#x000D;&#x000A;ISLOGICAL&#x000D;&#x000A;ISNONTEXT&#x000D;&#x000A;ISNUMBER&#x000D;&#x000A;ISONORAFTER&#x000D;&#x000A;ISTEXT&#x000D;&#x000A;LOOKUPVALUE&#x000D;&#x000A;USERNAME&#x000D;&#x000A;RETURN&#x000D;&#x000A;UTCTODAY&#x000D;&#x000A;UTCNOW&#x000D;&#x000A;COMBINEVALUES&#x000D;&#x000A;DISTINCT&#x000D;&#x000A;T.INV.2T&#x000D;&#x000A;T.DIST.RT&#x000D;&#x000A;T.DIST.2T&#x000D;&#x000A;T.DIST&#x000D;&#x000A;NORM.S.INV&#x000D;&#x000A;NORM.S.DIST&#x000D;&#x000A;NORM.INV&#x000D;&#x000A;NORM.DIST&#x000D;&#x000A;ISINSCOPE&#x000D;&#x000A;SELECTEDMEASUREFORMATSTRING&#x000D;&#x000A;REMOVEFILTERS&#x000D;&#x000A;CONVERT</Keywords>\\r\\n            <Keywords name=\"Keywords6\">ADDCOLUMNS&#x000D;&#x000A;AVERAGE&#x000D;&#x000A;AVERAGEA&#x000D;&#x000A;AVERAGEX&#x000D;&#x000A;BETA.DIST&#x000D;&#x000A;BETA.INV&#x000D;&#x000A;CHISQ.INV&#x000D;&#x000A;CHISQ.INV.RT&#x000D;&#x000A;CONFIDENCE.NORM&#x000D;&#x000A;CONFIDENCE.T&#x000D;&#x000A;COUNT&#x000D;&#x000A;COUNTA&#x000D;&#x000A;COUNTAX&#x000D;&#x000A;COUNTBLANK&#x000D;&#x000A;COUNTROWS&#x000D;&#x000A;COUNTX&#x000D;&#x000A;CROSSJOIN&#x000D;&#x000A;DATATABLE&#x000D;&#x000A;DISTINCTCOUNT&#x000D;&#x000A;EXPON.DIST&#x000D;&#x000A;GENERATE&#x000D;&#x000A;GENERATEALL&#x000D;&#x000A;GEOMEAN&#x000D;&#x000A;GEOMEANX&#x000D;&#x000A;MAX&#x000D;&#x000A;MAXA&#x000D;&#x000A;MAXX&#x000D;&#x000A;MEDIAN&#x000D;&#x000A;MEDIANX&#x000D;&#x000A;MIN&#x000D;&#x000A;MINA&#x000D;&#x000A;MINX&#x000D;&#x000A;PERCENTILE.EXC&#x000D;&#x000A;PERCENTILE.INC&#x000D;&#x000A;PERCENTILEX.EXC&#x000D;&#x000A;PERCENTILEX.INC&#x000D;&#x000A;POISSON.DIST&#x000D;&#x000A;RANK.EQ&#x000D;&#x000A;RANKX&#x000D;&#x000A;ROW&#x000D;&#x000A;SAMPLE&#x000D;&#x000A;SELECTCOLUMNS&#x000D;&#x000A;SIN&#x000D;&#x000A;SINH&#x000D;&#x000A;STDEV.P&#x000D;&#x000A;STDEV.S&#x000D;&#x000A;STDEVX.P&#x000D;&#x000A;STDEVX.S&#x000D;&#x000A;SQRTPI&#x000D;&#x000A;SUMMARIZE&#x000D;&#x000A;TAN&#x000D;&#x000A;TANH&#x000D;&#x000A;TOPN&#x000D;&#x000A;VAR.P&#x000D;&#x000A;VAR.S&#x000D;&#x000A;VARX.P&#x000D;&#x000A;VARX.S&#x000D;&#x000A;XIRR&#x000D;&#x000A;XNPV</Keywords>\\r\\n            <Keywords name=\"Keywords7\">AND&#x000D;&#x000A;FALSE&#x000D;&#x000A;IF&#x000D;&#x000A;IF.EAGER&#x000D;&#x000A;IFERROR&#x000D;&#x000A;NOT&#x000D;&#x000A;OR&#x000D;&#x000A;SWITCH&#x000D;&#x000A;TRUE&#x000D;&#x000A;not&#x000D;&#x000A;</Keywords>\\r\\n            <Keywords name=\"Keywords8\">BLANK&#x000D;&#x000A;CODE&#x000D;&#x000A;CONCATENATE&#x000D;&#x000A;CONCATENATEX&#x000D;&#x000A;EXACT&#x000D;&#x000A;FIND&#x000D;&#x000A;FIXED&#x000D;&#x000A;FORMAT&#x000D;&#x000A;LEFT&#x000D;&#x000A;LEN&#x000D;&#x000A;LOWER&#x000D;&#x000A;MID&#x000D;&#x000A;REPLACE&#x000D;&#x000A;REPT&#x000D;&#x000A;RIGHT&#x000D;&#x000A;SEARCH&#x000D;&#x000A;SUBSTITUTE&#x000D;&#x000A;TRIM&#x000D;&#x000A;UNICHAR&#x000D;&#x000A;UPPER&#x000D;&#x000A;VALUE</Keywords>\\r\\n            <Keywords name=\"Delimiters\">00[ 01 02] 03 04 05 06 07 08 09 10 11 12 13 14 15 16 17 18 19 20 21 22 23</Keywords>\\r\\n        </KeywordLists>\\r\\n        <Styles>\\r\\n            <WordsStyle name=\"DEFAULT\" fgColor=\"000000\" bgColor=\"FFFFFF\" fontStyle=\"0\" nesting=\"0\" />\\r\\n            <WordsStyle name=\"COMMENTS\" fgColor=\"008000\" bgColor=\"FFFFFF\" fontStyle=\"0\" nesting=\"0\" />\\r\\n            <WordsStyle name=\"LINE COMMENTS\" fgColor=\"008000\" bgColor=\"FFFFFF\" fontStyle=\"0\" nesting=\"0\" />\\r\\n            <WordsStyle name=\"NUMBERS\" fgColor=\"FF0000\" bgColor=\"FFFFFF\" fontStyle=\"3\" nesting=\"0\" />\\r\\n            <WordsStyle name=\"KEYWORDS1\" fgColor=\"0000FF\" bgColor=\"FFFFFF\" fontStyle=\"1\" nesting=\"0\" />\\r\\n            <WordsStyle name=\"KEYWORDS2\" fgColor=\"0000FF\" bgColor=\"FFFFFF\" fontStyle=\"1\" nesting=\"0\" />\\r\\n            <WordsStyle name=\"KEYWORDS3\" fgColor=\"0000FF\" bgColor=\"FFFFFF\" fontStyle=\"1\" nesting=\"0\" />\\r\\n            <WordsStyle name=\"KEYWORDS4\" fgColor=\"0000FF\" bgColor=\"FFFFFF\" fontStyle=\"1\" nesting=\"0\" />\\r\\n            <WordsStyle name=\"KEYWORDS5\" fgColor=\"0000FF\" bgColor=\"FFFFFF\" fontStyle=\"1\" nesting=\"0\" />\\r\\n            <WordsStyle name=\"KEYWORDS6\" fgColor=\"0000FF\" bgColor=\"FFFFFF\" fontStyle=\"1\" nesting=\"0\" />\\r\\n            <WordsStyle name=\"KEYWORDS7\" fgColor=\"0000FF\" bgColor=\"FFFFFF\" fontStyle=\"1\" nesting=\"0\" />\\r\\n            <WordsStyle name=\"KEYWORDS8\" fgColor=\"0000FF\" bgColor=\"FFFFFF\" fontStyle=\"1\" nesting=\"0\" />\\r\\n            <WordsStyle name=\"OPERATORS\" fgColor=\"0000FF\" bgColor=\"FFFFFF\" fontName=\"mapHigherPos\" fontStyle=\"1\" nesting=\"0\" />\\r\\n            <WordsStyle name=\"FOLDER IN CODE1\" fgColor=\"FF8000\" bgColor=\"EBEBEB\" fontStyle=\"1\" nesting=\"0\" />\\r\\n            <WordsStyle name=\"FOLDER IN CODE2\" fgColor=\"000000\" bgColor=\"FFFFFF\" fontStyle=\"0\" nesting=\"0\" />\\r\\n            <WordsStyle name=\"FOLDER IN COMMENT\" fgColor=\"008000\" bgColor=\"FFFFFF\" fontStyle=\"0\" nesting=\"0\" />\\r\\n            <WordsStyle name=\"DELIMITERS1\" fgColor=\"800080\" bgColor=\"FFFFFF\" fontStyle=\"1\" nesting=\"0\" />\\r\\n            <WordsStyle name=\"DELIMITERS2\" fgColor=\"000000\" bgColor=\"FFFFFF\" fontStyle=\"0\" nesting=\"0\" />\\r\\n            <WordsStyle name=\"DELIMITERS3\" fgColor=\"000000\" bgColor=\"FFFFFF\" fontStyle=\"0\" nesting=\"0\" />\\r\\n            <WordsStyle name=\"DELIMITERS4\" fgColor=\"000000\" bgColor=\"FFFFFF\" fontStyle=\"0\" nesting=\"0\" />\\r\\n            <WordsStyle name=\"DELIMITERS5\" fgColor=\"000000\" bgColor=\"FFFFFF\" fontStyle=\"0\" nesting=\"0\" />\\r\\n            <WordsStyle name=\"DELIMITERS6\" fgColor=\"000000\" bgColor=\"FFFFFF\" fontStyle=\"0\" nesting=\"0\" />\\r\\n            <WordsStyle name=\"DELIMITERS7\" fgColor=\"000000\" bgColor=\"FFFFFF\" fontStyle=\"0\" nesting=\"0\" />\\r\\n            <WordsStyle name=\"DELIMITERS8\" fgColor=\"000000\" bgColor=\"FFFFFF\" fontStyle=\"0\" nesting=\"0\" />\\r\\n        </Styles>\\r\\n    </UserLang>\\r\\n</NotepadPlus>\\r\\n'),\n",
              " Document(metadata={'source': 'reportingandinsights/common-code/M user defined language for Notepad++.xml'}, page_content='Source: reportingandinsights/common-code/M user defined language for Notepad++.xml\\n<NotepadPlus>\\r\\n    <UserLang name=\"M\" ext=\"\" udlVersion=\"2.1\">\\r\\n        <Settings>\\r\\n            <Global caseIgnored=\"no\" allowFoldOfComments=\"yes\" foldCompact=\"no\" forcePureLC=\"0\" decimalSeparator=\"0\" />\\r\\n            <Prefix Keywords1=\"yes\" Keywords2=\"no\" Keywords3=\"no\" Keywords4=\"no\" Keywords5=\"no\" Keywords6=\"yes\" Keywords7=\"no\" Keywords8=\"no\" />\\r\\n        </Settings>\\r\\n        <KeywordLists>\\r\\n            <Keywords name=\"Comments\">00// 01 02 03/* 04*/</Keywords>\\r\\n            <Keywords name=\"Numbers, prefix1\"></Keywords>\\r\\n            <Keywords name=\"Numbers, prefix2\"></Keywords>\\r\\n            <Keywords name=\"Numbers, extras1\"></Keywords>\\r\\n            <Keywords name=\"Numbers, extras2\"></Keywords>\\r\\n            <Keywords name=\"Numbers, suffix1\"></Keywords>\\r\\n            <Keywords name=\"Numbers, suffix2\"></Keywords>\\r\\n            <Keywords name=\"Numbers, range\"></Keywords>\\r\\n            <Keywords name=\"Operators1\">&#x201E;&gt;, ; = &amp; ( ) [ ] { } @ ! ? =&gt; .. &#x2026; = &lt; &gt; &lt;&gt; + = * / &lt;= &gt;=&lt;/ #</Keywords>\\r\\n            <Keywords name=\"Operators2\">and or not</Keywords>\\r\\n            <Keywords name=\"Folders in code1, open\"></Keywords>\\r\\n            <Keywords name=\"Folders in code1, middle\"></Keywords>\\r\\n            <Keywords name=\"Folders in code1, close\"></Keywords>\\r\\n            <Keywords name=\"Folders in code2, open\">let</Keywords>\\r\\n            <Keywords name=\"Folders in code2, middle\"></Keywords>\\r\\n            <Keywords name=\"Folders in code2, close\">in</Keywords>\\r\\n            <Keywords name=\"Folders in comment, open\">/*</Keywords>\\r\\n            <Keywords name=\"Folders in comment, middle\"></Keywords>\\r\\n            <Keywords name=\"Folders in comment, close\">*/</Keywords>\\r\\n            <Keywords name=\"Keywords1\">Access.Database&#x000D;&#x000A;ActiveDirectory.Domains&#x000D;&#x000A;AdoDotNet.DataSource&#x000D;&#x000A;AdoDotNet.Query&#x000D;&#x000A;AdobeAnalytics.Cubes&#x000D;&#x000A;AmazonRedshift.Database&#x000D;&#x000A;AnalysisServices.Database&#x000D;&#x000A;AnalysisServices.Databases&#x000D;&#x000A;Any.Type&#x000D;&#x000A;ApacheSpark.Tables&#x000D;&#x000A;AzureHiveLLAP.Database&#x000D;&#x000A;AzureSpark.Tables&#x000D;&#x000A;AzureStorage.BlobContents&#x000D;&#x000A;AzureStorage.Blobs&#x000D;&#x000A;AzureStorage.Tables&#x000D;&#x000A;Binary.Buffer&#x000D;&#x000A;Binary.Combine&#x000D;&#x000A;Binary.Compress&#x000D;&#x000A;Binary.Decompress&#x000D;&#x000A;Binary.From&#x000D;&#x000A;Binary.FromList&#x000D;&#x000A;Binary.FromText&#x000D;&#x000A;Binary.Length&#x000D;&#x000A;Binary.ToList&#x000D;&#x000A;Binary.ToText&#x000D;&#x000A;Binary.Type&#x000D;&#x000A;BinaryEncoding.Base64&#x000D;&#x000A;BinaryEncoding.Hex&#x000D;&#x000A;BinaryEncoding.Type&#x000D;&#x000A;BinaryFormat.7BitEncodedSignedInteger&#x000D;&#x000A;BinaryFormat.7BitEncodedUnsignedInteger&#x000D;&#x000A;BinaryFormat.Binary&#x000D;&#x000A;BinaryFormat.Byte&#x000D;&#x000A;BinaryFormat.ByteOrder&#x000D;&#x000A;BinaryFormat.Choice&#x000D;&#x000A;BinaryFormat.Decimal&#x000D;&#x000A;BinaryFormat.Double&#x000D;&#x000A;BinaryFormat.Group&#x000D;&#x000A;BinaryFormat.Length&#x000D;&#x000A;BinaryFormat.List&#x000D;&#x000A;BinaryFormat.Null&#x000D;&#x000A;BinaryFormat.Record&#x000D;&#x000A;BinaryFormat.SignedInteger16&#x000D;&#x000A;BinaryFormat.SignedInteger32&#x000D;&#x000A;BinaryFormat.SignedInteger64&#x000D;&#x000A;BinaryFormat.Single&#x000D;&#x000A;BinaryFormat.Text&#x000D;&#x000A;BinaryFormat.Transform&#x000D;&#x000A;BinaryFormat.UnsignedInteger16&#x000D;&#x000A;BinaryFormat.UnsignedInteger32&#x000D;&#x000A;BinaryFormat.UnsignedInteger64&#x000D;&#x000A;BinaryOccurrence.Optional&#x000D;&#x000A;BinaryOccurrence.Repeating&#x000D;&#x000A;BinaryOccurrence.Required&#x000D;&#x000A;BinaryOccurrence.Type&#x000D;&#x000A;Byte.From&#x000D;&#x000A;Byte.Type&#x000D;&#x000A;ByteOrder.BigEndian&#x000D;&#x000A;ByteOrder.LittleEndian&#x000D;&#x000A;ByteOrder.Type&#x000D;&#x000A;Character.FromNumber&#x000D;&#x000A;Character.ToNumber&#x000D;&#x000A;Character.Type&#x000D;&#x000A;Combiner.CombineTextByDelimiter&#x000D;&#x000A;Combiner.CombineTextByEachDelimiter&#x000D;&#x000A;Combiner.CombineTextByLengths&#x000D;&#x000A;Combiner.CombineTextByPositions&#x000D;&#x000A;Combiner.CombineTextByRanges&#x000D;&#x000A;Comparer.Equals&#x000D;&#x000A;Comparer.FromCulture&#x000D;&#x000A;Comparer.Ordinal&#x000D;&#x000A;Comparer.OrdinalIgnoreCase&#x000D;&#x000A;Compression.Deflate&#x000D;&#x000A;Compression.GZip&#x000D;&#x000A;Compression.Type&#x000D;&#x000A;Csv.Document&#x000D;&#x000A;CsvStyle.QuoteAfterDelimiter&#x000D;&#x000A;CsvStyle.QuoteAlways&#x000D;&#x000A;CsvStyle.Type&#x000D;&#x000A;Cube.AddAndExpandDimensionColumn&#x000D;&#x000A;Cube.AddMeasureColumn&#x000D;&#x000A;Cube.ApplyParameter&#x000D;&#x000A;Cube.AttributeMemberId&#x000D;&#x000A;Cube.AttributeMemberProperty&#x000D;&#x000A;Cube.CollapseAndRemoveColumns&#x000D;&#x000A;Cube.Dimensions&#x000D;&#x000A;Cube.DisplayFolders&#x000D;&#x000A;Cube.Measures&#x000D;&#x000A;Cube.Parameters&#x000D;&#x000A;Cube.PropertyKey&#x000D;&#x000A;Cube.ReplaceDimensions&#x000D;&#x000A;Cube.Transform&#x000D;&#x000A;Culture.Current&#x000D;&#x000A;Currency.From&#x000D;&#x000A;Currency.Type&#x000D;&#x000A;CustomerInsights.Tables&#x000D;&#x000A;DB2.Database&#x000D;&#x000A;DataLake.Contents&#x000D;&#x000A;DataLake.Files&#x000D;&#x000A;DataWorld.Contents&#x000D;&#x000A;DataWorld.Dataset&#x000D;&#x000A;Date.AddDays&#x000D;&#x000A;Date.AddMonths&#x000D;&#x000A;Date.AddQuarters&#x000D;&#x000A;Date.AddWeeks&#x000D;&#x000A;Date.AddYears&#x000D;&#x000A;Date.Day&#x000D;&#x000A;Date.DayOfWeek&#x000D;&#x000A;Date.DayOfWeekName&#x000D;&#x000A;Date.DayOfYear&#x000D;&#x000A;Date.DaysInMonth&#x000D;&#x000A;Date.EndOfDay&#x000D;&#x000A;Date.EndOfMonth&#x000D;&#x000A;Date.EndOfQuarter&#x000D;&#x000A;Date.EndOfWeek&#x000D;&#x000A;Date.EndOfYear&#x000D;&#x000A;Date.From&#x000D;&#x000A;Date.FromText&#x000D;&#x000A;Date.IsInCurrentDay&#x000D;&#x000A;Date.IsInCurrentMonth&#x000D;&#x000A;Date.IsInCurrentQuarter&#x000D;&#x000A;Date.IsInCurrentWeek&#x000D;&#x000A;Date.IsInCurrentYear&#x000D;&#x000A;Date.IsInNextDay&#x000D;&#x000A;Date.IsInNextMonth&#x000D;&#x000A;Date.IsInNextNDays&#x000D;&#x000A;Date.IsInNextNMonths&#x000D;&#x000A;Date.IsInNextNQuarters&#x000D;&#x000A;Date.IsInNextNWeeks&#x000D;&#x000A;Date.IsInNextNYears&#x000D;&#x000A;Date.IsInNextQuarter&#x000D;&#x000A;Date.IsInNextWeek&#x000D;&#x000A;Date.IsInNextYear&#x000D;&#x000A;Date.IsInPreviousDay&#x000D;&#x000A;Date.IsInPreviousMonth&#x000D;&#x000A;Date.IsInPreviousNDays&#x000D;&#x000A;Date.IsInPreviousNMonths&#x000D;&#x000A;Date.IsInPreviousNQuarters&#x000D;&#x000A;Date.IsInPreviousNWeeks&#x000D;&#x000A;Date.IsInPreviousNYears&#x000D;&#x000A;Date.IsInPreviousQuarter&#x000D;&#x000A;Date.IsInPreviousWeek&#x000D;&#x000A;Date.IsInPreviousYear&#x000D;&#x000A;Date.IsInYearToDate&#x000D;&#x000A;Date.IsLeapYear&#x000D;&#x000A;Date.Month&#x000D;&#x000A;Date.MonthName&#x000D;&#x000A;Date.QuarterOfYear&#x000D;&#x000A;Date.StartOfDay&#x000D;&#x000A;Date.StartOfMonth&#x000D;&#x000A;Date.StartOfQuarter&#x000D;&#x000A;Date.StartOfWeek&#x000D;&#x000A;Date.StartOfYear&#x000D;&#x000A;Date.ToRecord&#x000D;&#x000A;Date.ToText&#x000D;&#x000A;Date.Type&#x000D;&#x000A;Date.WeekOfMonth&#x000D;&#x000A;Date.WeekOfYear&#x000D;&#x000A;Date.Year&#x000D;&#x000A;DateTime.AddZone&#x000D;&#x000A;DateTime.Date&#x000D;&#x000A;DateTime.FixedLocalNow&#x000D;&#x000A;DateTime.From&#x000D;&#x000A;DateTime.FromFileTime&#x000D;&#x000A;DateTime.FromText&#x000D;&#x000A;DateTime.IsInCurrentHour&#x000D;&#x000A;DateTime.IsInCurrentMinute&#x000D;&#x000A;DateTime.IsInCurrentSecond&#x000D;&#x000A;DateTime.IsInNextHour&#x000D;&#x000A;DateTime.IsInNextMinute&#x000D;&#x000A;DateTime.IsInNextNHours&#x000D;&#x000A;DateTime.IsInNextNMinutes&#x000D;&#x000A;DateTime.IsInNextNSeconds&#x000D;&#x000A;DateTime.IsInNextSecond&#x000D;&#x000A;DateTime.IsInPreviousHour&#x000D;&#x000A;DateTime.IsInPreviousMinute&#x000D;&#x000A;DateTime.IsInPreviousNHours&#x000D;&#x000A;DateTime.IsInPreviousNMinutes&#x000D;&#x000A;DateTime.IsInPreviousNSeconds&#x000D;&#x000A;DateTime.IsInPreviousSecond&#x000D;&#x000A;DateTime.LocalNow&#x000D;&#x000A;DateTime.Time&#x000D;&#x000A;DateTime.ToRecord&#x000D;&#x000A;DateTime.ToText&#x000D;&#x000A;DateTime.Type&#x000D;&#x000A;DateTimeZone.FixedLocalNow&#x000D;&#x000A;DateTimeZone.FixedUtcNow&#x000D;&#x000A;DateTimeZone.From&#x000D;&#x000A;DateTimeZone.FromFileTime&#x000D;&#x000A;DateTimeZone.FromText&#x000D;&#x000A;DateTimeZone.LocalNow&#x000D;&#x000A;DateTimeZone.RemoveZone&#x000D;&#x000A;DateTimeZone.SwitchZone&#x000D;&#x000A;DateTimeZone.ToLocal&#x000D;&#x000A;DateTimeZone.ToRecord&#x000D;&#x000A;DateTimeZone.ToText&#x000D;&#x000A;DateTimeZone.ToUtc&#x000D;&#x000A;DateTimeZone.Type&#x000D;&#x000A;DateTimeZone.UtcNow&#x000D;&#x000A;DateTimeZone.ZoneHours&#x000D;&#x000A;DateTimeZone.ZoneMinutes&#x000D;&#x000A;Day.Friday&#x000D;&#x000A;Day.Monday&#x000D;&#x000A;Day.Saturday&#x000D;&#x000A;Day.Sunday&#x000D;&#x000A;Day.Thursday&#x000D;&#x000A;Day.Tuesday&#x000D;&#x000A;Day.Type&#x000D;&#x000A;Day.Wednesday&#x000D;&#x000A;Decimal.From&#x000D;&#x000A;Decimal.Type&#x000D;&#x000A;Diagnostics.ActivityId&#x000D;&#x000A;Diagnostics.Trace&#x000D;&#x000A;DirectQueryCapabilities.From&#x000D;&#x000A;DocumentDB.Contents&#x000D;&#x000A;Double.From&#x000D;&#x000A;Double.Type&#x000D;&#x000A;Duration.Days&#x000D;&#x000A;Duration.From&#x000D;&#x000A;Duration.FromText&#x000D;&#x000A;Duration.Hours&#x000D;&#x000A;Duration.Minutes&#x000D;&#x000A;Duration.Seconds&#x000D;&#x000A;Duration.ToRecord&#x000D;&#x000A;Duration.ToText&#x000D;&#x000A;Duration.TotalDays&#x000D;&#x000A;Duration.TotalHours&#x000D;&#x000A;Duration.TotalMinutes&#x000D;&#x000A;Duration.TotalSeconds&#x000D;&#x000A;Duration.Type&#x000D;&#x000A;Dynamics365Financials.Contents&#x000D;&#x000A;DynamicsNav.Contents&#x000D;&#x000A;Embedded.Value&#x000D;&#x000A;Error.Record&#x000D;&#x000A;Excel.CurrentWorkbook&#x000D;&#x000A;Excel.Workbook&#x000D;&#x000A;Exchange.Contents&#x000D;&#x000A;Expression.Constant&#x000D;&#x000A;Expression.Evaluate&#x000D;&#x000A;Expression.Identifier&#x000D;&#x000A;ExtraValues.Error&#x000D;&#x000A;ExtraValues.Ignore&#x000D;&#x000A;ExtraValues.List&#x000D;&#x000A;ExtraValues.Type&#x000D;&#x000A;Facebook.Graph&#x000D;&#x000A;File.Contents&#x000D;&#x000A;Folder.Contents&#x000D;&#x000A;Folder.Files&#x000D;&#x000A;Function.From&#x000D;&#x000A;Function.Invoke&#x000D;&#x000A;Function.InvokeAfter&#x000D;&#x000A;Function.IsDataSource&#x000D;&#x000A;Function.Type&#x000D;&#x000A;Github.Contents&#x000D;&#x000A;Github.PagedTable&#x000D;&#x000A;Github.Tables&#x000D;&#x000A;GoogleAnalytics.Accounts&#x000D;&#x000A;GoogleBigQuery.Database&#x000D;&#x000A;GroupKind.Global&#x000D;&#x000A;GroupKind.Local&#x000D;&#x000A;GroupKind.Type&#x000D;&#x000A;Guid.From&#x000D;&#x000A;Guid.Type&#x000D;&#x000A;HdInsight.Containers&#x000D;&#x000A;HdInsight.Contents&#x000D;&#x000A;HdInsight.Files&#x000D;&#x000A;Hdfs.Contents&#x000D;&#x000A;Hdfs.Files&#x000D;&#x000A;Impala.Database&#x000D;&#x000A;Informix.Database&#x000D;&#x000A;Int16.From&#x000D;&#x000A;Int16.Type&#x000D;&#x000A;Int32.From&#x000D;&#x000A;Int32.Type&#x000D;&#x000A;Int64.From&#x000D;&#x000A;Int64.Type&#x000D;&#x000A;Int8.From&#x000D;&#x000A;Int8.Type&#x000D;&#x000A;ItemExpression.From&#x000D;&#x000A;ItemExpression.Item&#x000D;&#x000A;JoinAlgorithm.Dynamic&#x000D;&#x000A;JoinAlgorithm.LeftHash&#x000D;&#x000A;JoinAlgorithm.LeftIndex&#x000D;&#x000A;JoinAlgorithm.PairwiseHash&#x000D;&#x000A;JoinAlgorithm.RightHash&#x000D;&#x000A;JoinAlgorithm.RightIndex&#x000D;&#x000A;JoinAlgorithm.SortMerge&#x000D;&#x000A;JoinAlgorithm.Type&#x000D;&#x000A;JoinKind.FullOuter&#x000D;&#x000A;JoinKind.Inner&#x000D;&#x000A;JoinKind.LeftAnti&#x000D;&#x000A;JoinKind.LeftOuter&#x000D;&#x000A;JoinKind.RightAnti&#x000D;&#x000A;JoinKind.RightOuter&#x000D;&#x000A;JoinKind.Type&#x000D;&#x000A;JoinSide.Left&#x000D;&#x000A;JoinSide.Right&#x000D;&#x000A;JoinSide.Type&#x000D;&#x000A;Json.Document&#x000D;&#x000A;Json.FromValue&#x000D;&#x000A;Lines.FromBinary&#x000D;&#x000A;Lines.FromText&#x000D;&#x000A;Lines.ToBinary&#x000D;&#x000A;Lines.ToText&#x000D;&#x000A;List.Accumulate&#x000D;&#x000A;List.AllTrue&#x000D;&#x000A;List.Alternate&#x000D;&#x000A;List.AnyTrue&#x000D;&#x000A;List.Average&#x000D;&#x000A;List.Buffer&#x000D;&#x000A;List.Combine&#x000D;&#x000A;List.Contains&#x000D;&#x000A;List.ContainsAll&#x000D;&#x000A;List.ContainsAny&#x000D;&#x000A;List.Count&#x000D;&#x000A;List.Covariance&#x000D;&#x000A;List.DateTimeZones&#x000D;&#x000A;List.DateTimes&#x000D;&#x000A;List.Dates&#x000D;&#x000A;List.Difference&#x000D;&#x000A;List.Distinct&#x000D;&#x000A;List.Durations&#x000D;&#x000A;List.FindText&#x000D;&#x000A;List.First&#x000D;&#x000A;List.FirstN&#x000D;&#x000A;List.Generate&#x000D;&#x000A;List.InsertRange&#x000D;&#x000A;List.Intersect&#x000D;&#x000A;List.IsDistinct&#x000D;&#x000A;List.IsEmpty&#x000D;&#x000A;List.Last&#x000D;&#x000A;List.LastN&#x000D;&#x000A;List.MatchesAll&#x000D;&#x000A;List.MatchesAny&#x000D;&#x000A;List.Max&#x000D;&#x000A;List.MaxN&#x000D;&#x000A;List.Median&#x000D;&#x000A;List.Min&#x000D;&#x000A;List.MinN&#x000D;&#x000A;List.Mode&#x000D;&#x000A;List.Modes&#x000D;&#x000A;List.NonNullCount&#x000D;&#x000A;List.Numbers&#x000D;&#x000A;List.PositionOf&#x000D;&#x000A;List.PositionOfAny&#x000D;&#x000A;List.Positions&#x000D;&#x000A;List.Product&#x000D;&#x000A;List.Random&#x000D;&#x000A;List.Range&#x000D;&#x000A;List.RemoveFirstN&#x000D;&#x000A;List.RemoveItems&#x000D;&#x000A;List.RemoveLastN&#x000D;&#x000A;List.RemoveMatchingItems&#x000D;&#x000A;List.RemoveNulls&#x000D;&#x000A;List.RemoveRange&#x000D;&#x000A;List.Repeat&#x000D;&#x000A;List.ReplaceMatchingItems&#x000D;&#x000A;List.ReplaceRange&#x000D;&#x000A;List.ReplaceValue&#x000D;&#x000A;List.Reverse&#x000D;&#x000A;List.Select&#x000D;&#x000A;List.Single&#x000D;&#x000A;List.SingleOrDefault&#x000D;&#x000A;List.Skip&#x000D;&#x000A;List.Sort&#x000D;&#x000A;List.StandardDeviation&#x000D;&#x000A;List.Sum&#x000D;&#x000A;List.Times&#x000D;&#x000A;List.Transform&#x000D;&#x000A;List.TransformMany&#x000D;&#x000A;List.Type&#x000D;&#x000A;List.Union&#x000D;&#x000A;List.Zip&#x000D;&#x000A;Logical.From&#x000D;&#x000A;Logical.FromText&#x000D;&#x000A;Logical.ToText&#x000D;&#x000A;Logical.Type&#x000D;&#x000A;MailChimp.Collection&#x000D;&#x000A;MailChimp.Instance&#x000D;&#x000A;MailChimp.Tables&#x000D;&#x000A;MailChimp.TablesV2&#x000D;&#x000A;Marketo.Activities&#x000D;&#x000A;Marketo.Leads&#x000D;&#x000A;Marketo.Tables&#x000D;&#x000A;Marketplace.Subscriptions&#x000D;&#x000A;MicrosoftAzureConsumptionInsights.Contents&#x000D;&#x000A;MicrosoftAzureConsumptionInsights.Tables&#x000D;&#x000A;MicrosoftAzureConsumptionInsights.Test&#x000D;&#x000A;MissingField.Error&#x000D;&#x000A;MissingField.Ignore&#x000D;&#x000A;MissingField.Type&#x000D;&#x000A;MissingField.UseNull&#x000D;&#x000A;Mixpanel.Contents&#x000D;&#x000A;Mixpanel.Export&#x000D;&#x000A;Mixpanel.FunnelById&#x000D;&#x000A;Mixpanel.FunnelByName&#x000D;&#x000A;Mixpanel.Funnels&#x000D;&#x000A;Mixpanel.Segmentation&#x000D;&#x000A;Mixpanel.Tables&#x000D;&#x000A;MySQL.Database&#x000D;&#x000A;Netezza.Database&#x000D;&#x000A;None.Type&#x000D;&#x000A;Null.Type&#x000D;&#x000A;Number.Abs&#x000D;&#x000A;Number.Acos&#x000D;&#x000A;Number.Asin&#x000D;&#x000A;Number.Atan&#x000D;&#x000A;Number.Atan2&#x000D;&#x000A;Number.BitwiseAnd&#x000D;&#x000A;Number.BitwiseNot&#x000D;&#x000A;Number.BitwiseOr&#x000D;&#x000A;Number.BitwiseShiftLeft&#x000D;&#x000A;Number.BitwiseShiftRight&#x000D;&#x000A;Number.BitwiseXor&#x000D;&#x000A;Number.Combinations&#x000D;&#x000A;Number.Cos&#x000D;&#x000A;Number.Cosh&#x000D;&#x000A;Number.E&#x000D;&#x000A;Number.Epsilon&#x000D;&#x000A;Number.Exp&#x000D;&#x000A;Number.Factorial&#x000D;&#x000A;Number.From&#x000D;&#x000A;Number.FromText&#x000D;&#x000A;Number.IntegerDivide&#x000D;&#x000A;Number.IsEven&#x000D;&#x000A;Number.IsNaN&#x000D;&#x000A;Number.IsOdd&#x000D;&#x000A;Number.Ln&#x000D;&#x000A;Number.Log&#x000D;&#x000A;Number.Log10&#x000D;&#x000A;Number.Mod&#x000D;&#x000A;Number.NaN&#x000D;&#x000A;Number.NegativeInfinity&#x000D;&#x000A;Number.PI&#x000D;&#x000A;Number.Permutations&#x000D;&#x000A;Number.PositiveInfinity&#x000D;&#x000A;Number.Power&#x000D;&#x000A;Number.Random&#x000D;&#x000A;Number.RandomBetween&#x000D;&#x000A;Number.Round&#x000D;&#x000A;Number.RoundAwayFromZero&#x000D;&#x000A;Number.RoundDown&#x000D;&#x000A;Number.RoundTowardZero&#x000D;&#x000A;Number.RoundUp&#x000D;&#x000A;Number.Sign&#x000D;&#x000A;Number.Sin&#x000D;&#x000A;Number.Sinh&#x000D;&#x000A;Number.Sqrt&#x000D;&#x000A;Number.Tan&#x000D;&#x000A;Number.Tanh&#x000D;&#x000A;Number.ToText&#x000D;&#x000A;Number.Type&#x000D;&#x000A;OData.Feed&#x000D;&#x000A;Occurrence.All&#x000D;&#x000A;Occurrence.First&#x000D;&#x000A;Occurrence.Last&#x000D;&#x000A;Occurrence.Optional&#x000D;&#x000A;Occurrence.Repeating&#x000D;&#x000A;Occurrence.Required&#x000D;&#x000A;Occurrence.Type&#x000D;&#x000A;Odbc.DataSource&#x000D;&#x000A;Odbc.Query&#x000D;&#x000A;OleDb.DataSource&#x000D;&#x000A;OleDb.Query&#x000D;&#x000A;Oracle.Database&#x000D;&#x000A;Order.Ascending&#x000D;&#x000A;Order.Descending&#x000D;&#x000A;Order.Type&#x000D;&#x000A;Percentage.From&#x000D;&#x000A;Percentage.Type&#x000D;&#x000A;PlanviewEnterprise.CallQueryService&#x000D;&#x000A;PlanviewEnterprise.Feed&#x000D;&#x000A;PostgreSQL.Database&#x000D;&#x000A;Precision.Decimal&#x000D;&#x000A;Precision.Double&#x000D;&#x000A;Precision.Type&#x000D;&#x000A;Projectplace.Feed&#x000D;&#x000A;QuickBooks.Query&#x000D;&#x000A;QuickBooks.Report&#x000D;&#x000A;QuickBooks.Tables&#x000D;&#x000A;QuoteStyle.Csv&#x000D;&#x000A;QuoteStyle.None&#x000D;&#x000A;QuoteStyle.Type&#x000D;&#x000A;R.Execute&#x000D;&#x000A;RData.FromBinary&#x000D;&#x000A;Record.AddField&#x000D;&#x000A;Record.Combine&#x000D;&#x000A;Record.Field&#x000D;&#x000A;Record.FieldCount&#x000D;&#x000A;Record.FieldNames&#x000D;&#x000A;Record.FieldOrDefault&#x000D;&#x000A;Record.FieldValues&#x000D;&#x000A;Record.FromList&#x000D;&#x000A;Record.FromTable&#x000D;&#x000A;Record.HasFields&#x000D;&#x000A;Record.RemoveFields&#x000D;&#x000A;Record.RenameFields&#x000D;&#x000A;Record.ReorderFields&#x000D;&#x000A;Record.SelectFields&#x000D;&#x000A;Record.ToList&#x000D;&#x000A;Record.ToTable&#x000D;&#x000A;Record.TransformFields&#x000D;&#x000A;Record.Type&#x000D;&#x000A;RelativePosition.FromEnd&#x000D;&#x000A;RelativePosition.FromStart&#x000D;&#x000A;RelativePosition.Type&#x000D;&#x000A;Replacer.ReplaceText&#x000D;&#x000A;Replacer.ReplaceValue&#x000D;&#x000A;Resource.Access&#x000D;&#x000A;RoundingMode.AwayFromZero&#x000D;&#x000A;RoundingMode.Down&#x000D;&#x000A;RoundingMode.ToEven&#x000D;&#x000A;RoundingMode.TowardZero&#x000D;&#x000A;RoundingMode.Type&#x000D;&#x000A;RoundingMode.Up&#x000D;&#x000A;RowExpression.Column&#x000D;&#x000A;RowExpression.From&#x000D;&#x000A;RowExpression.Row&#x000D;&#x000A;Salesforce.Data&#x000D;&#x000A;Salesforce.Reports&#x000D;&#x000A;SapBusinessWarehouse.Cubes&#x000D;&#x000A;SapHana.Database&#x000D;&#x000A;SapHanaDistribution.All&#x000D;&#x000A;SapHanaDistribution.Connection&#x000D;&#x000A;SapHanaDistribution.Off&#x000D;&#x000A;SapHanaDistribution.Statement&#x000D;&#x000A;SapHanaDistribution.Type&#x000D;&#x000A;SapHanaRangeOperator.Equals&#x000D;&#x000A;SapHanaRangeOperator.GreaterThan&#x000D;&#x000A;SapHanaRangeOperator.GreaterThanOrEquals&#x000D;&#x000A;SapHanaRangeOperator.LessThan&#x000D;&#x000A;SapHanaRangeOperator.LessThanOrEquals&#x000D;&#x000A;SapHanaRangeOperator.NotEquals&#x000D;&#x000A;SapHanaRangeOperator.Type&#x000D;&#x000A;SharePoint.Contents&#x000D;&#x000A;SharePoint.Files&#x000D;&#x000A;SharePoint.Tables&#x000D;&#x000A;Single.From&#x000D;&#x000A;Single.Type&#x000D;&#x000A;Smartsheet.Content&#x000D;&#x000A;Smartsheet.Query&#x000D;&#x000A;Smartsheet.Tables&#x000D;&#x000A;Snowflake.Databases&#x000D;&#x000A;Soda.Feed&#x000D;&#x000A;Spark.Tables&#x000D;&#x000A;SparkPost.GetContents&#x000D;&#x000A;SparkPost.GetMetrics&#x000D;&#x000A;SparkPost.Metrics&#x000D;&#x000A;SparkPost.NavTable&#x000D;&#x000A;SparkProtocol.Azure&#x000D;&#x000A;SparkProtocol.HTTP&#x000D;&#x000A;SparkProtocol.Standard&#x000D;&#x000A;SparkProtocol.Type&#x000D;&#x000A;Splitter.SplitByNothing&#x000D;&#x000A;Splitter.SplitTextByAnyDelimiter&#x000D;&#x000A;Splitter.SplitTextByDelimiter&#x000D;&#x000A;Splitter.SplitTextByEachDelimiter&#x000D;&#x000A;Splitter.SplitTextByLengths&#x000D;&#x000A;Splitter.SplitTextByPositions&#x000D;&#x000A;Splitter.SplitTextByRanges&#x000D;&#x000A;Splitter.SplitTextByRepeatedLengths&#x000D;&#x000A;Splitter.SplitTextByWhitespace&#x000D;&#x000A;Sql.Database&#x000D;&#x000A;Sql.Databases&#x000D;&#x000A;SqlExpression.SchemaFrom&#x000D;&#x000A;SqlExpression.ToExpression&#x000D;&#x000A;Stripe.Contents&#x000D;&#x000A;Stripe.Method&#x000D;&#x000A;Stripe.Tables&#x000D;&#x000A;SweetIQ.Contents&#x000D;&#x000A;SweetIQ.Tables&#x000D;&#x000A;Sybase.Database&#x000D;&#x000A;Table.AddColumn&#x000D;&#x000A;Table.AddIndexColumn&#x000D;&#x000A;Table.AddJoinColumn&#x000D;&#x000A;Table.AddKey&#x000D;&#x000A;Table.AggregateTableColumn&#x000D;&#x000A;Table.AlternateRows&#x000D;&#x000A;Table.Buffer&#x000D;&#x000A;Table.Column&#x000D;&#x000A;Table.ColumnCount&#x000D;&#x000A;Table.ColumnNames&#x000D;&#x000A;Table.ColumnsOfType&#x000D;&#x000A;Table.Combine&#x000D;&#x000A;Table.CombineColumns&#x000D;&#x000A;Table.Contains&#x000D;&#x000A;Table.ContainsAll&#x000D;&#x000A;Table.ContainsAny&#x000D;&#x000A;Table.DemoteHeaders&#x000D;&#x000A;Table.Distinct&#x000D;&#x000A;Table.DuplicateColumn&#x000D;&#x000A;Table.ExpandListColumn&#x000D;&#x000A;Table.ExpandRecordColumn&#x000D;&#x000A;Table.ExpandTableColumn&#x000D;&#x000A;Table.FillDown&#x000D;&#x000A;Table.FillUp&#x000D;&#x000A;Table.FilterWithDataTable&#x000D;&#x000A;Table.FindText&#x000D;&#x000A;Table.First&#x000D;&#x000A;Table.FirstN&#x000D;&#x000A;Table.FirstValue&#x000D;&#x000A;Table.FromColumns&#x000D;&#x000A;Table.FromList&#x000D;&#x000A;Table.FromPartitions&#x000D;&#x000A;Table.FromRecords&#x000D;&#x000A;Table.FromRows&#x000D;&#x000A;Table.FromValue&#x000D;&#x000A;Table.Group&#x000D;&#x000A;Table.HasColumns&#x000D;&#x000A;Table.InsertRows&#x000D;&#x000A;Table.IsDistinct&#x000D;&#x000A;Table.IsEmpty&#x000D;&#x000A;Table.Join&#x000D;&#x000A;Table.Keys&#x000D;&#x000A;Table.Last&#x000D;&#x000A;Table.LastN&#x000D;&#x000A;Table.MatchesAllRows&#x000D;&#x000A;Table.MatchesAnyRows&#x000D;&#x000A;Table.Max&#x000D;&#x000A;Table.MaxN&#x000D;&#x000A;Table.Min&#x000D;&#x000A;Table.MinN&#x000D;&#x000A;Table.NestedJoin&#x000D;&#x000A;Table.Partition&#x000D;&#x000A;Table.PartitionValues&#x000D;&#x000A;Table.Pivot&#x000D;&#x000A;Table.PositionOf&#x000D;&#x000A;Table.PositionOfAny&#x000D;&#x000A;Table.PrefixColumns&#x000D;&#x000A;Table.Profile&#x000D;&#x000A;Table.PromoteHeaders&#x000D;&#x000A;Table.Range&#x000D;&#x000A;Table.RemoveColumns&#x000D;&#x000A;Table.RemoveFirstN&#x000D;&#x000A;Table.RemoveLastN&#x000D;&#x000A;Table.RemoveMatchingRows&#x000D;&#x000A;Table.RemoveRows&#x000D;&#x000A;Table.RemoveRowsWithErrors&#x000D;&#x000A;Table.RenameColumns&#x000D;&#x000A;Table.ReorderColumns&#x000D;&#x000A;Table.Repeat&#x000D;&#x000A;Table.ReplaceErrorValues&#x000D;&#x000A;Table.ReplaceKeys&#x000D;&#x000A;Table.ReplaceMatchingRows&#x000D;&#x000A;Table.ReplaceRelationshipIdentity&#x000D;&#x000A;Table.ReplaceRows&#x000D;&#x000A;Table.ReplaceValue&#x000D;&#x000A;Table.ReverseRows&#x000D;&#x000A;Table.RowCount&#x000D;&#x000A;Table.Schema&#x000D;&#x000A;Table.SelectColumns&#x000D;&#x000A;Table.SelectRows&#x000D;&#x000A;Table.SelectRowsWithErrors&#x000D;&#x000A;Table.SingleRow&#x000D;&#x000A;Table.Skip&#x000D;&#x000A;Table.Sort&#x000D;&#x000A;Table.SplitColumn&#x000D;&#x000A;Table.ToColumns&#x000D;&#x000A;Table.ToList&#x000D;&#x000A;Table.ToRecords&#x000D;&#x000A;Table.ToRows&#x000D;&#x000A;Table.TransformColumnNames&#x000D;&#x000A;Table.TransformColumnTypes&#x000D;&#x000A;Table.TransformColumns&#x000D;&#x000A;Table.TransformRows&#x000D;&#x000A;Table.Transpose&#x000D;&#x000A;Table.Type&#x000D;&#x000A;Table.Unpivot&#x000D;&#x000A;Table.UnpivotOtherColumns&#x000D;&#x000A;Table.View&#x000D;&#x000A;Table.ViewFunction&#x000D;&#x000A;Tables.GetRelationships&#x000D;&#x000A;Teradata.Database&#x000D;&#x000A;Text.AfterDelimiter&#x000D;&#x000A;Text.At&#x000D;&#x000A;Text.BeforeDelimiter&#x000D;&#x000A;Text.BetweenDelimiters&#x000D;&#x000A;Text.Clean&#x000D;&#x000A;Text.Combine&#x000D;&#x000A;Text.Contains&#x000D;&#x000A;Text.End&#x000D;&#x000A;Text.EndsWith&#x000D;&#x000A;Text.Format&#x000D;&#x000A;Text.From&#x000D;&#x000A;Text.FromBinary&#x000D;&#x000A;Text.Insert&#x000D;&#x000A;Text.Length&#x000D;&#x000A;Text.Lower&#x000D;&#x000A;Text.Middle&#x000D;&#x000A;Text.NewGuid&#x000D;&#x000A;Text.PadEnd&#x000D;&#x000A;Text.PadStart&#x000D;&#x000A;Text.PositionOf&#x000D;&#x000A;Text.PositionOfAny&#x000D;&#x000A;Text.Proper&#x000D;&#x000A;Text.Range&#x000D;&#x000A;Text.Remove&#x000D;&#x000A;Text.RemoveRange&#x000D;&#x000A;Text.Repeat&#x000D;&#x000A;Text.Replace&#x000D;&#x000A;Text.ReplaceRange&#x000D;&#x000A;Text.Select&#x000D;&#x000A;Text.Split&#x000D;&#x000A;Text.SplitAny&#x000D;&#x000A;Text.Start&#x000D;&#x000A;Text.StartsWith&#x000D;&#x000A;Text.ToBinary&#x000D;&#x000A;Text.ToList&#x000D;&#x000A;Text.Trim&#x000D;&#x000A;Text.TrimEnd&#x000D;&#x000A;Text.TrimStart&#x000D;&#x000A;Text.Type&#x000D;&#x000A;Text.Upper&#x000D;&#x000A;TextEncoding.Ascii&#x000D;&#x000A;TextEncoding.BigEndianUnicode&#x000D;&#x000A;TextEncoding.Type&#x000D;&#x000A;TextEncoding.Unicode&#x000D;&#x000A;TextEncoding.Utf16&#x000D;&#x000A;TextEncoding.Utf8&#x000D;&#x000A;TextEncoding.Windows&#x000D;&#x000A;Time.EndOfHour&#x000D;&#x000A;Time.From&#x000D;&#x000A;Time.FromText&#x000D;&#x000A;Time.Hour&#x000D;&#x000A;Time.Minute&#x000D;&#x000A;Time.Second&#x000D;&#x000A;Time.StartOfHour&#x000D;&#x000A;Time.ToRecord&#x000D;&#x000A;Time.ToText&#x000D;&#x000A;Time.Type&#x000D;&#x000A;TraceLevel.Critical&#x000D;&#x000A;TraceLevel.Error&#x000D;&#x000A;TraceLevel.Information&#x000D;&#x000A;TraceLevel.Type&#x000D;&#x000A;TraceLevel.Verbose&#x000D;&#x000A;TraceLevel.Warning&#x000D;&#x000A;Troux.CustomFeed&#x000D;&#x000A;Troux.Feed&#x000D;&#x000A;Troux.TestConnection&#x000D;&#x000A;Twilio.Contents&#x000D;&#x000A;Twilio.Tables&#x000D;&#x000A;Twilio.URL&#x000D;&#x000A;Type.AddTableKey&#x000D;&#x000A;Type.ClosedRecord&#x000D;&#x000A;Type.Facets&#x000D;&#x000A;Type.ForFunction&#x000D;&#x000A;Type.ForRecord&#x000D;&#x000A;Type.FunctionParameters&#x000D;&#x000A;Type.FunctionRequiredParameters&#x000D;&#x000A;Type.FunctionReturn&#x000D;&#x000A;Type.Is&#x000D;&#x000A;Type.IsNullable&#x000D;&#x000A;Type.IsOpenRecord&#x000D;&#x000A;Type.ListItem&#x000D;&#x000A;Type.NonNullable&#x000D;&#x000A;Type.OpenRecord&#x000D;&#x000A;Type.RecordFields&#x000D;&#x000A;Type.ReplaceFacets&#x000D;&#x000A;Type.ReplaceTableKeys&#x000D;&#x000A;Type.TableColumn&#x000D;&#x000A;Type.TableKeys&#x000D;&#x000A;Type.TableRow&#x000D;&#x000A;Type.TableSchema&#x000D;&#x000A;Type.Type&#x000D;&#x000A;Type.Union&#x000D;&#x000A;Uri.BuildQueryString&#x000D;&#x000A;Uri.Combine&#x000D;&#x000A;Uri.EscapeDataString&#x000D;&#x000A;Uri.Parts&#x000D;&#x000A;VSTS.AccountContents&#x000D;&#x000A;VSTS.AnalyticsViews&#x000D;&#x000A;VSTS.Contents&#x000D;&#x000A;VSTS.Feed&#x000D;&#x000A;VSTS.Views&#x000D;&#x000A;Value.Add&#x000D;&#x000A;Value.As&#x000D;&#x000A;Value.Compare&#x000D;&#x000A;Value.Divide&#x000D;&#x000A;Value.Equals&#x000D;&#x000A;Value.Firewall&#x000D;&#x000A;Value.FromText&#x000D;&#x000A;Value.Is&#x000D;&#x000A;Value.Metadata&#x000D;&#x000A;Value.Multiply&#x000D;&#x000A;Value.NativeQuery&#x000D;&#x000A;Value.NullableEquals&#x000D;&#x000A;Value.RemoveMetadata&#x000D;&#x000A;Value.ReplaceMetadata&#x000D;&#x000A;Value.ReplaceType&#x000D;&#x000A;Value.ResourceExpression&#x000D;&#x000A;Value.Subtract&#x000D;&#x000A;Value.Type&#x000D;&#x000A;Variable.Value&#x000D;&#x000A;Vertica.Database&#x000D;&#x000A;Web.Contents&#x000D;&#x000A;Web.Page&#x000D;&#x000A;WebMethod.Delete&#x000D;&#x000A;WebMethod.Get&#x000D;&#x000A;WebMethod.Head&#x000D;&#x000A;WebMethod.Patch&#x000D;&#x000A;WebMethod.Post&#x000D;&#x000A;WebMethod.Put&#x000D;&#x000A;WebMethod.Type&#x000D;&#x000A;Webtrends.KeyMetrics&#x000D;&#x000A;Webtrends.Profile&#x000D;&#x000A;Webtrends.ReportContents&#x000D;&#x000A;Webtrends.Tables&#x000D;&#x000A;Xml.Document&#x000D;&#x000A;Xml.Tables&#x000D;&#x000A;Zendesk.Collection&#x000D;&#x000A;Zendesk.Tables&#x000D;&#x000A;appFigures.Content&#x000D;&#x000A;appFigures.Tables&#x000D;&#x000A;comScore.GetReport&#x000D;&#x000A;comScore.NavTable&#x000D;&#x000A;comScore.ReportItems&#x000D;&#x000A;tyGraph.Feed&#x000D;&#x000A;tyGraph.NavTable</Keywords>\\r\\n            <Keywords name=\"Keywords2\"></Keywords>\\r\\n            <Keywords name=\"Keywords3\">as&#x000D;&#x000A;each&#x000D;&#x000A;error&#x000D;&#x000A;is&#x000D;&#x000A;meta</Keywords>\\r\\n            <Keywords name=\"Keywords4\">if&#x000D;&#x000A;then&#x000D;&#x000A;else&#x000D;&#x000A;</Keywords>\\r\\n            <Keywords name=\"Keywords5\">try&#x000D;&#x000A;otherwise</Keywords>\\r\\n            <Keywords name=\"Keywords6\">#binary&#x000D;&#x000A;#date&#x000D;&#x000A;#datetime&#x000D;&#x000A;#datetimezone&#x000D;&#x000A;#duration&#x000D;&#x000A;#infinity&#x000D;&#x000A;#nan&#x000D;&#x000A;#sections&#x000D;&#x000A;#shared&#x000D;&#x000A;#table&#x000D;&#x000A;#time</Keywords>\\r\\n            <Keywords name=\"Keywords7\">false&#x000D;&#x000A;true</Keywords>\\r\\n            <Keywords name=\"Keywords8\"></Keywords>\\r\\n            <Keywords name=\"Delimiters\"></Keywords>\\r\\n        </KeywordLists>\\r\\n        <Styles>\\r\\n            <WordsStyle name=\"DEFAULT\" fgColor=\"000000\" bgColor=\"FFFFFF\" fontStyle=\"0\" nesting=\"0\" />\\r\\n            <WordsStyle name=\"COMMENTS\" fgColor=\"008040\" bgColor=\"FFFFFF\" fontStyle=\"1\" nesting=\"0\" />\\r\\n            <WordsStyle name=\"LINE COMMENTS\" fgColor=\"008040\" bgColor=\"FFFFFF\" fontStyle=\"0\" nesting=\"0\" />\\r\\n            <WordsStyle name=\"NUMBERS\" fgColor=\"000000\" bgColor=\"FFFFFF\" fontStyle=\"0\" nesting=\"0\" />\\r\\n            <WordsStyle name=\"KEYWORDS1\" fgColor=\"FB7D00\" bgColor=\"FFFFFF\" fontStyle=\"1\" nesting=\"0\" />\\r\\n            <WordsStyle name=\"KEYWORDS2\" fgColor=\"FF8040\" bgColor=\"FFFFFF\" fontStyle=\"1\" nesting=\"0\" />\\r\\n            <WordsStyle name=\"KEYWORDS3\" fgColor=\"8080FF\" bgColor=\"FFFFFF\" fontStyle=\"1\" nesting=\"0\" />\\r\\n            <WordsStyle name=\"KEYWORDS4\" fgColor=\"000000\" bgColor=\"FFFFFF\" fontStyle=\"0\" nesting=\"0\" />\\r\\n            <WordsStyle name=\"KEYWORDS5\" fgColor=\"808000\" bgColor=\"FFFFFF\" fontStyle=\"1\" nesting=\"0\" />\\r\\n            <WordsStyle name=\"KEYWORDS6\" fgColor=\"000000\" bgColor=\"FFFFFF\" fontStyle=\"0\" nesting=\"0\" />\\r\\n            <WordsStyle name=\"KEYWORDS7\" fgColor=\"000000\" bgColor=\"FFFFFF\" fontStyle=\"0\" nesting=\"0\" />\\r\\n            <WordsStyle name=\"KEYWORDS8\" fgColor=\"000000\" bgColor=\"FFFFFF\" fontStyle=\"0\" nesting=\"0\" />\\r\\n            <WordsStyle name=\"OPERATORS\" fgColor=\"FF0000\" bgColor=\"FFFFFF\" fontStyle=\"0\" nesting=\"0\" />\\r\\n            <WordsStyle name=\"FOLDER IN CODE1\" fgColor=\"000000\" bgColor=\"FFFFFF\" fontStyle=\"0\" nesting=\"0\" />\\r\\n            <WordsStyle name=\"FOLDER IN CODE2\" fgColor=\"0000FF\" bgColor=\"FFFFFF\" fontStyle=\"3\" nesting=\"0\" />\\r\\n            <WordsStyle name=\"FOLDER IN COMMENT\" fgColor=\"008000\" bgColor=\"FFFFFF\" fontStyle=\"0\" nesting=\"0\" />\\r\\n            <WordsStyle name=\"DELIMITERS1\" fgColor=\"000000\" bgColor=\"FFFFFF\" fontStyle=\"0\" nesting=\"0\" />\\r\\n            <WordsStyle name=\"DELIMITERS2\" fgColor=\"000000\" bgColor=\"FFFFFF\" fontStyle=\"0\" nesting=\"0\" />\\r\\n            <WordsStyle name=\"DELIMITERS3\" fgColor=\"000000\" bgColor=\"FFFFFF\" fontStyle=\"0\" nesting=\"0\" />\\r\\n            <WordsStyle name=\"DELIMITERS4\" fgColor=\"000000\" bgColor=\"FFFFFF\" fontStyle=\"0\" nesting=\"0\" />\\r\\n            <WordsStyle name=\"DELIMITERS5\" fgColor=\"000000\" bgColor=\"FFFFFF\" fontStyle=\"0\" nesting=\"0\" />\\r\\n            <WordsStyle name=\"DELIMITERS6\" fgColor=\"000000\" bgColor=\"FFFFFF\" fontStyle=\"0\" nesting=\"0\" />\\r\\n            <WordsStyle name=\"DELIMITERS7\" fgColor=\"000000\" bgColor=\"FFFFFF\" fontStyle=\"0\" nesting=\"0\" />\\r\\n            <WordsStyle name=\"DELIMITERS8\" fgColor=\"000000\" bgColor=\"FFFFFF\" fontStyle=\"0\" nesting=\"0\" />\\r\\n        </Styles>\\r\\n    </UserLang>\\r\\n</NotepadPlus>\\r\\n'),\n",
              " Document(metadata={'source': 'reportingandinsights/common-code/README.md'}, page_content='Source: reportingandinsights/common-code/README.md\\n<img src=\"saddleback logo with name.svg\" width=\"300\" />\\n\\n# Welcome to SBC R&I\\'s Common Code Snippets\\nThis is a repository of helpful common code snippets! Code is taken from reports and you can use them as a template to generalize.\\n\\nPlease reorganize as necessary.\\n'),\n",
              " Document(metadata={'source': 'reportingandinsights/common-code/ReplacingSingleCell.md'}, page_content='Source: reportingandinsights/common-code/ReplacingSingleCell.md\\n### Power Query \\n\\n1) Add TemporaryColumn using `Conditional Column` and fill with values (like 1 for the ids you want to rename)\\n2) Rename the specific cell:\\n```\\n= Table.ReplaceValue(\\n    #PreviousStep,\\n    each [ColumnToRename],\\n    each if [TemporaryColumn] = ConditionValue then \"NewValue\" else [ColumnToRename],\\n    Replacer.ReplaceValue,\\n    {\"ColumnToRename\"}\\n)\\n```\\n3) Delete the Temporary Column\\n'),\n",
              " Document(metadata={'source': 'reportingandinsights/common-code/calculate.md'}, page_content='Source: reportingandinsights/common-code/calculate.md\\n# [CALCULATE()](https://learn.microsoft.com/en-us/dax/calculate-function-dax) QUERIES sorted by report\\n\\nThe goal of this file is to give you a basic understanding of calculate.\\nCalculate is useful when there is no valid table connection for you to use [RELATED()](https://learn.microsoft.com/en-us/dax/related-function-dax). \\nSince Calculate needs an [aggregate function](https://learn.microsoft.com/en-us/dax/aggregation-functions-dax) to work, you\\'ll see [MAX()](https://learn.microsoft.com/en-us/dax/max-function-dax) being used a lot. Max gets the top value for us to use in a column.\\n\\n## [Connection Card](https://app.powerbi.com/groups/47db21da-2734-486b-a676-ccc6d8559418/reports/9d05422c-b59e-430a-ac76-4f525a2ca30f?ctid=70a9a1a8-2387-44f3-a277-dfd16d7bf129&pbi_source=linkShare) \\n```\\nC_Phone_RowHeader = CALCULATE(\\n  MAX(\\'FormCard_Response_Summary\\'[Answer_Value]),\\n  OR(\\'FormCard_Response_Summary\\'[Custom_Question_Name] = \"Cell Phone\",\\n    \\'FormCard_Response_Summary\\'[Custom_Question_Name] = \"cell_phone\")\\n)\\n```\\n- query in: FormCard_Entry_Summary\\n- relationship: used on \"1\" side to get info from \"many\"\\n- aggregate: `MAX()`\\n- notes: filtering is done within `CALCULATE()` without the `FILTER()` expression\\n\\n```\\nC_FullName_RowHeader = \\n  VAR _dpf = RELATED(\\'custom DimPerson (HC)\\'[FirstName])\\n  VAR _rsf = CALCULATE(\\n                MAX(\\'FormCard_Response_Summary\\'[Answer_Value]), \\n                FILTER(RELATEDTABLE(FormCard_Response_Summary), [Custom_Question_Name] \\n                  IN { \"First Name\", \"First name / Vorname\", \"First Name:\", \"Student\\'s First Name:\" }\\n                )\\n              )\\n  VAR _dpl = RELATED((\\'custom DimPerson (HC)\\'[LastName]))\\n  VAR _rsl = CALCULATE(\\n                MAX(\\'FormCard_Response_Summary\\'[Answer_Value]), \\n                FILTER(RELATEDTABLE(FormCard_Response_Summary), [Custom_Question_Name] \\n                  IN { \"Last Name\", \"Last name / Nachname\", \"Last Name:\", \"Student\\'s Last Name:\" }\\n                )\\n              )\\n  RETURN\\n    COALESCE(_dpf,_rsf) & \" \" & COALESCE(_dpl,_rsl)\\n```\\n- query in: FormCard_Entry_Summary\\n- relationship: used on \"1\" side to get info from \"many\"\\n- aggregate: `MAX()`\\n- notes: `RELATED()` can be used to get data from DimPerson because there is a valid connection there.\\n    notice that `FILTER()` is used instead of using many `OR()` evaluators.\\n    It requires a table as input - therefore `RELATEDTABLE()` is necessary\\n\\n```\\nC_Phone_RowHeader = \\n    // This column gets the cell and home phone from DimPerson and Response Table. Displays with cell as priority\\n    // getting phone data from DimPerson b/c that table has the most complete and clean data\\n    VAR _dcp = RELATED(\\'custom DimPerson (HC)\\'[CellPhone])\\n    VAR _rcp = CALCULATE(\\n                MAX(\\'FormCard_Response_Summary\\'[Answer_Value]),\\n                \\'FormCard_Response_Summary\\'[Custom_Question_Name] = \"Cell Phone\" || \\n                \\'FormCard_Response_Summary\\'[Custom_Question_Name] = \"cell_phone\")\\n    VAR _cellphone = COALESCE(_dcp, _rcp)\\n\\n    VAR _dhp = RELATED(\\'custom DimPerson (HC)\\'[HomePhone])\\n    VAR _rhp = CALCULATE(\\n                MAX(\\'FormCard_Response_Summary\\'[Answer_Value]),\\n                \\'FormCard_Response_Summary\\'[Custom_Question_Name] = \"Home Phone\")\\n    VAR _homephone = COALESCE(_dhp, _rhp)\\n\\n    RETURN\\n        // COALESCE uses the first data point that is not blank (cell -> home)\\n        COALESCE(_cellphone, _homephone)\\n```\\n- query in: FormCard_Entry_Summary\\n- relationship: used on \"1\" side to get info from \"many\"\\n- aggregate: `MAX()`\\n- notes: notice that `FILTER()` is not used here! Calculate can also filter without the special keyword.\\n'),\n",
              " Document(metadata={'source': 'reportingandinsights/common-code/generic/C_FinalDWHCampusID.txt'}, page_content=\"Source: reportingandinsights/common-code/generic/C_FinalDWHCampusID.txt\\nC_FinalDWHCampusID = \\r\\n// this campus id takes into account blank/0 DWH campus ids and assignes to manual entry campuses\\r\\n// also invalid campus ids are assigned to unknown\\r\\nVAR dwh_campusid = 'custom DimPerson'[DWH_CampusID]\\r\\nVAR ce_known_flag =\\r\\n    IF (\\r\\n        'custom DimPerson'[ChurchEntityKnown]\\r\\n            = TRUE (),\\r\\n        1,\\r\\n        0\\r\\n    )\\r\\nVAR valid_campus_flag =\\r\\n    IF (\\r\\n        COUNTX (\\r\\n            FILTER (\\r\\n                ALL ( 'custom DimCampus (ForRef)' ),\\r\\n                'custom DimCampus (ForRef)'[DWH_CampusID] = dwh_campusid\\r\\n            ),\\r\\n            'custom DimCampus (ForRef)'[DWH_CampusID]\\r\\n        ) > 0,\\r\\n        1,\\r\\n        0\\r\\n    )\\r\\nVAR blank_campus_flag =\\r\\n    IF (\\r\\n        'custom DimPerson'[DWH_CampusID] < 1,\\r\\n        1,\\r\\n        0\\r\\n    )\\r\\nRETURN\\r\\n    IF (\\r\\n        valid_campus_flag = 1,\\r\\n        dwh_campusid,\\r\\n        IF (\\r\\n            blank_campus_flag = 0,\\r\\n            -10,\\r\\n            IF (\\r\\n                ce_known_flag = 1,\\r\\n                -20,\\r\\n                -10\\r\\n            )\\r\\n        )\\r\\n    )\"),\n",
              " Document(metadata={'source': 'reportingandinsights/common-code/generic/DimDate today or before flag.txt'}, page_content='Source: reportingandinsights/common-code/generic/DimDate today or before flag.txt\\nC_IsTodayorBefore_Flag = \\r\\n//flag for filtering date slicer values to anything current date or before\\r\\nIF([Date] <= TODAY(), 1, 0)'),\n",
              " Document(metadata={'source': 'reportingandinsights/common-code/generic/DimDate_FMSW cutover to custom DimDat.txt'}, page_content='Source: reportingandinsights/common-code/generic/DimDate_FMSW cutover to custom DimDat.txt\\n//FM ServiceWeek (Dates)\\r\\n\\r\\nlet\\r\\n    // this table creates the correct serviceWeek date for use in the Shared DimDate {FMSW) table\\r\\n    Source = #\"Metrics FactMetricsServiceWeek\",\\r\\n    #\"Merged Queries\" = Table.NestedJoin(Source, {\"MetricsID\"}, #\"Metrics FactMetrics\", {\"MetricsID\"}, \"Metrics FactMetrics\", JoinKind.LeftOuter),\\r\\n    #\"Expanded Metrics FactMetrics\" = Table.ExpandTableColumn(#\"Merged Queries\", \"Metrics FactMetrics\", {\"DateKeyLocal\"}, {\"DateKeyLocal\"}),\\r\\n    #\"Inserted Date\" = Table.AddColumn(#\"Expanded Metrics FactMetrics\", \"Date\", each Date.From(Text.From([DateKeyLocal], \"en-US\")), type date),\\r\\n    #\"Removed Other Columns\" = Table.SelectColumns(#\"Inserted Date\",{\"ServiceWeekDate\", \"ServiceWeekOfYear\", \"ServiceMonth\", \"ServiceYear\", \"DateKeyLocal\"}),\\r\\n    #\"Sorted Rows\" = Table.Sort(#\"Removed Other Columns\",{{\"ServiceWeekDate\", Order.Descending}}),\\r\\n    #\"Added Index\" = Table.AddIndexColumn(#\"Sorted Rows\", \"Index\", 0, 1, Int64.Type),\\r\\n    #\"Removed Duplicates1\" = Table.Distinct(#\"Added Index\", {\"DateKeyLocal\"})\\r\\nin\\r\\n    #\"Removed Duplicates1\"\\r\\n\\r\\n////shared DimDate (FMSW)\\r\\n\\r\\nlet\\r\\n    Source = PowerBI.Dataflows(null),\\r\\n    #\"62139906-a630-47b8-b74c-40b5263abff0\" = Source{[workspaceId=\"62139906-a630-47b8-b74c-40b5263abff0\"]}[Data],\\r\\n    #\"7c44e05b-91f8-40d5-b084-447d157409fe\" = #\"62139906-a630-47b8-b74c-40b5263abff0\"{[dataflowId=\"7c44e05b-91f8-40d5-b084-447d157409fe\"]}[Data],\\r\\n    #\"Shared DimDate1\" = #\"7c44e05b-91f8-40d5-b084-447d157409fe\"{[entity=\"Shared DimDate\"]}[Data],\\r\\n    #\"Removed Columns\" = Table.RemoveColumns(#\"Shared DimDate1\",{\"WeekOfQuarter\", \"MonthOfQuarter\", \"Quarter\", \"QuarterName\", \"FiscalDayOfYear\", \"FiscalWeekOfYear\", \"FiscalMonth\", \"FiscalQuarter\", \"FiscalQuarterName\", \"FiscalYear\", \"FiscalYearName\", \"FiscalMonthYear\", \"FiscalMMYYYY\", \"FiscalFirstDayOfMonth\", \"FiscalLastDayOfMonth\", \"FiscalFirstDayOfQuarter\", \"FiscalLastDayOfQuarter\", \"FiscalFirstDayOfYear\", \"FiscalLastDayOfYear\", \"SourceSystem\", \"SourceModifiedDate\", \"ModifiedDate\", \"FullDateUK\", \"DayOfWeekUK\", \"DayOfQuarter\", \"MonthYear\", \"ServiceQuarter\", \"ServiceQuarterName\"}),\\r\\n    #\"Removed Other Columns\" = Table.SelectColumns(#\"Removed Columns\",{\"DateKey\", \"Date\", \"Month\", \"MonthName\", \"Year\", \"YearName\"}),\\r\\n    #\"Merged Queries\" = Table.NestedJoin(#\"Removed Other Columns\", {\"DateKey\"}, #\"FMServiceWeek (2)\", {\"DateKeyLocal\"}, \"FMServiceWeek (2)\", JoinKind.LeftOuter),\\r\\n    #\"Expanded FMServiceWeek (2)\" = Table.ExpandTableColumn(#\"Merged Queries\", \"FMServiceWeek (2)\", {\"ServiceWeekDate\", \"ServiceWeekOfYear\", \"ServiceYear\", \"ServiceMonth\"}, {\"ServiceWeekDate\", \"ServiceWeekOfYear\", \"ServiceYear\", \"ServiceMonth\"}),\\r\\n    #\"Filtered Rows\" = Table.SelectRows(#\"Expanded FMServiceWeek (2)\", each [ServiceWeekDate] <> null and [ServiceWeekDate] <> \"\"),\\r\\n    #\"Removed Duplicates\" = Table.Distinct(#\"Filtered Rows\"),\\r\\n    #\"Sorted Rows\" = Table.Sort(#\"Removed Duplicates\",{{\"Date\", Order.Descending}})\\r\\nin\\r\\n    #\"Sorted Rows\"\\r\\n\\t\\r\\n///////////////////////////////////////////////////////\\r\\n'),\n",
              " Document(metadata={'source': 'reportingandinsights/common-code/generic/GetServiceWeekFunctionCall.txt'}, page_content='Source: reportingandinsights/common-code/generic/GetServiceWeekFunctionCall.txt\\n--this sql code is used to query a view table from the Data Warehouse, which should then be combined with another warehouse table to provide relevant ServiceWeek dates \\r\\n-- table  usage of [Shared].[GetServiceWeek]\\r\\n\\tSELECT f.MetricsID, \\r\\n        a.ServiceWeek AS ServiceWeekDate, \\r\\n        a.ServiceWeekOfMonth, \\r\\n        a.ServiceWeekOfYear, \\r\\n        a.ServiceMonth, \\r\\n        a.ServiceMonthName, \\r\\n        a.ServiceMonthNameAbbreviated, \\r\\n        a.ServiceQuarter, \\r\\n        a.ServiceQuarterName, \\r\\n        a.ServiceYear\\r\\n        ,CAST(getdate() AS DATETIME2) AS  CreatedDate\\r\\n        ,CAST(getdate() AS DATETIME2) AS  ModifiedDateDate\\r\\n    FROM Metrics.FactMetrics f\\r\\n        INNER JOIN Shared.DimDate d ON d.DateKey = f.DateKeyLocal\\r\\n        INNER JOIN Shared.DimTime t ON t.TimeKey = f.TimeKeyLocal\\r\\n        CROSS APPLY [Shared].[GetServiceWeek](f.CampusID, d.Date, t.FullTime) a\\r\\n\\r\\n\\r\\n--this sql code is used to query a view table from the Data Warehouse, which should then be combined with another warehouse table to provide relevant ServiceWeek dates \\r\\n-- table  usage of [Shared].[GetServiceWeek]\\r\\n\\tSELECT d.DateKey\\r\\n        a.ServiceWeek AS ServiceWeekDate, \\r\\n        a.ServiceWeekOfMonth, \\r\\n        a.ServiceWeekOfYear, \\r\\n        a.ServiceMonth, \\r\\n        a.ServiceMonthName, \\r\\n        a.ServiceMonthNameAbbreviated, \\r\\n        a.ServiceQuarter, \\r\\n        a.ServiceQuarterName, \\r\\n        a.ServiceYear\\r\\n        ,CAST(getdate() AS DATETIME2) AS  CreatedDate\\r\\n        ,CAST(getdate() AS DATETIME2) AS  ModifiedDateDate\\r\\n    FROM  Shared.DimDate d\\r\\n        CROSS APPLY [Shared].[GetServiceWeek]( d.Date) a\\r\\n'),\n",
              " Document(metadata={'source': 'reportingandinsights/common-code/generic/MT_ChangeLog.txt'}, page_content='Source: reportingandinsights/common-code/generic/MT_ChangeLog.txt\\n//MT_ChangeLog\\r\\nlet\\r\\n    Source = Table.FromRows(Json.Document(Binary.Decompress(Binary.FromText(\"VY1NS8NAGIT/yrBeKylpUXus9VBEUay3NIe3u2+ahf0I+5ESf72bHARvM/DMPE0j6mpX1et6K1bilQNbTX2JkozMhpL2LqLzAd8hmwmObxi9yS4xh4iBQsIe5BSez25pvsP+JwfGC48fQ9kypbnePW7rp7VoV43YVQ+zcfPfeA/Zk7syvt5OiMUxuxf1u3Y6pjDh4F0imYq2YJcJ8aaT7LW7otNs1Nn9fRw+ccrWUhklj6O3DEl2yHFmSCn0TIoDRh0zmThDZMxyHEXb/gI=\", BinaryEncoding.Base64), Compression.Deflate)), let _t = ((type nullable text) meta [Serialized.Text = true]) in type table [Date = _t, #\"Report Dev Name\" = _t, #\"Description of Change\" = _t]),\\r\\n    #\"Filtered Rows\" = Table.SelectRows(Source, each [Date] <> null and [Date] <> \"\"),\\r\\n    #\"Changed Type\" = Table.TransformColumnTypes(#\"Filtered Rows\",{{\"Date\", type date}, {\"Report Dev Name\", type text}, {\"Description of Change\", type text}})\\r\\nin\\r\\n    #\"Changed Type\"\\r\\n\\t\\r\\n\\t\\r\\n//code for adding a new row\\r\\n\\t#\"AddRow2\" = Table.InsertRows(#\"AddRow1\", 1, {[Date = \"3/29/2024\", Report Dev Name = \"Jeremiah\", Description of Change = \\r\\n    \"created\"]})\\r\\nin\\r\\n    #\"AddRow2\"\\r\\n\\t\\r\\n\\t\\r\\n///////////////////////////////////////////////////////////////////////////////////\\r\\n//MT_PublishDetails\\r\\nlet\\r\\n    #\"Source\" = Table.FromRows(Json.Document(Binary.Decompress(Binary.FromText(\"jY/BTsMwEER/ZeRjVaTSA3cUQBVSBKJwinMwyba15HgjewPqjW/h0/gSNm0pcKjUk0f2eN5MVZlLMzX3PKRIW1WL4qK8xXXf4yW7NcHFFodXPFHPSdS0F7DDbDa/wpI6F8U3KLmloM+T0mWhNFFZOh+R9vYVJ8iGsCgg5DoII5MSQoAi/4ISBSfUoiNJvsmaY+ppZeYq7jh1TjxHPGvGrvDJfg8xnD1pObxmEvAKB+//PscBv/yfDayU3ZDT7b8+PlEk0ls03G9Hij2jljV497JB8G/jxxipGck2jnk3FEjzrDkmqP1RD1PX3w==\", BinaryEncoding.Base64), Compression.Deflate)), let _t = ((type nullable text) meta [Serialized.Text = true]) in type table [Sort = _t, #\"Workspace Name\" = _t, #\"Report/Model Name\" = _t, #\"What to Publish\" = _t, #\"Report is Subset of\" = _t, Purpose = _t, #\"Special Publish Instructions\" = _t]),\\r\\n    #\"Changed Type\" = Table.TransformColumnTypes(Source,{{\"Sort\", Int64.Type}, {\"Workspace Name\", type text}, {\"Report/Model Name\", type text}, {\"What to Publish\", type text}, {\"Report is Subset of\", type text}, {\"Purpose\", type text}, {\"Special Publish Instructions\", type text}})\\r\\nin\\r\\n    #\"Changed Type\"'),\n",
              " Document(metadata={'source': 'reportingandinsights/common-code/generic/M_URL.txt'}, page_content='Source: reportingandinsights/common-code/generic/M_URL.txt\\n//formula\\r\\n\\r\\nURL?filter=Table/Field eq \\'value\\'\\r\\n\\r\\nM_URL = \\r\\n\\r\\n//filter using query string parameters in the URL. It only works in Power BI Reports, not in Power BI Apps\\r\\n//referencing the table to filter requires 4-digit Unicode. the syntax is Table/Column\\r\\n//x0020 is the space character in the table name\\r\\n//the column name is campus name\\r\\n//the right side of the equation is the measure M_CampusSelectionURL, which must be formatted as a string\\r\\n\\r\\nMAX(P_AppURL[P_AppURL]) & \\r\\n\"?filter= QT_CampusRegion_(SourceID)/RegionCampus_Name eq\" & CONVERT(M_Campus[M_CampusSelectionURL], STRING)\\r\\n\\r\\nC_MtryChurch_URL = \\r\\n//ministry church url in HC\\r\\n\"https://hc.saddleback.com/my-ministry/volunteers/members/\" & [ministry_id] & \"/\" & [church_entity_id]'),\n",
              " Document(metadata={'source': 'reportingandinsights/common-code/generic/QT_custom DimDate (Weeks).txt'}, page_content='Source: reportingandinsights/common-code/generic/QT_custom DimDate (Weeks).txt\\n//\\r\\nyear week calculated table\\r\\n//was not able to put this in the dataflow because it would require Premium capacity to have a \"computed entity\" referencing the extisting dataflow table \\'custom DimDate\\'\\r\\n//QT_custom DimDate (Weeks)\\r\\n//joins to dimDate by datekey\\r\\n//joins to other tables by yearWeek\\r\\n\\r\\nlet\\r\\n    Source = #\"custom DimDate\",\\r\\n    #\"Inserted Merged Column\" = Table.AddColumn(Source, \"YearWeek\", each Text.Combine({Text.From([Year], \"en-US\"), Text.PadStart(Text.From([WeekOfYear], \"en-US\"), 2 ,\"0\" ) }), type text),\\r\\n    #\"Changed Type\" = Table.TransformColumnTypes(#\"Inserted Merged Column\",{{\"YearWeek\", Int64.Type}}),\\r\\n    // grab sundays only so that the grain of the table is one row per YearWeek value\\r\\n    #\"Filtered Rows\" = Table.SelectRows(#\"Changed Type\", each ([DayName] = \"Sunday\")),\\r\\n    Source2 = Table.Buffer(#\"Filtered Rows\"),\\r\\n    #\"Removed Other Columns\" = Table.SelectColumns(Source2,{\"DateKey\", \"Month\", \"MonthName\", \"MonthOfQuarter\", \"Quarter\", \"QuarterName\", \"Year\", \"YearName\", \"MonthYear\", \"MMYYYY\", \"FirstDayOfMonth\", \"LastDayOfMonth\", \"YearWeek\"})\\r\\nin\\r\\n    #\"Removed Other Columns\"\\r\\n\\t\\r\\n'),\n",
              " Document(metadata={'source': 'reportingandinsights/common-code/generic/Service Week Filtering Creation.txt'}, page_content='Source: reportingandinsights/common-code/generic/Service Week Filtering Creation.txt\\n// Using Custom Service Week table to create an arbitrary number of service weeks for use as a filter:\\r\\n// Note the measure M_RefreshDate. This is a separate measure - ask about this one if unfamiliar\\r\\n\\r\\n// Column One\\r\\n\\r\\nC_ServiceWeek_Rng = \\r\\n\\'Custom Service Week\\'[ServiceWeek_Start] & \" - \" & \\'Custom Service Week\\'[ServiceWeek_End]\\r\\n\\r\\n\\r\\n// Column Two\\r\\n\\r\\nC_ServiceWeek_Lbl = \\r\\n\\r\\nvar dt0 = MAXX( FILTER( \\'Custom Service Week\\' , \\'Custom Service Week\\'[ServiceWeek_Start] <= [M_RefreshDate] ) , \\'Custom Service Week\\'[ServiceWeek_Start] )\\r\\nvar dt1 = MAXX( FILTER( \\'Custom Service Week\\' , \\'Custom Service Week\\'[ServiceWeek_Start] < dt0 ) , \\'Custom Service Week\\'[ServiceWeek_Start] )\\r\\nvar dt2 = MAXX( FILTER( \\'Custom Service Week\\' , \\'Custom Service Week\\'[ServiceWeek_Start] < dt1 ) , \\'Custom Service Week\\'[ServiceWeek_Start] )\\r\\n\\r\\nRETURN\\r\\nIF( \\'Custom Service Week\\'[ServiceWeek_Start] = dt0 , \"Current Svc. Week\" ,\\r\\nIF( \\'Custom Service Week\\'[ServiceWeek_Start] = dt1 , \"Week of \" & [C_SvcWkSundayDate] ,\\r\\nIF( \\'Custom Service Week\\'[ServiceWeek_Start] = dt2 , \"Week of \" & [C_SvcWkSundayDate] ,\\r\\nBLANK() )))\\r\\n\\r\\n\\r\\n// Column Three\\r\\n\\r\\nC_ServiceWeek_SORT = \\r\\n\\r\\nvar dt0 = MAXX( FILTER( \\'Custom Service Week\\' , \\'Custom Service Week\\'[ServiceWeek_Start] <= [M_RefreshDate] ) , \\'Custom Service Week\\'[ServiceWeek_Start] )\\r\\nvar dt1 = MAXX( FILTER( \\'Custom Service Week\\' , \\'Custom Service Week\\'[ServiceWeek_Start] < dt0 ) , \\'Custom Service Week\\'[ServiceWeek_Start] )\\r\\nvar dt2 = MAXX( FILTER( \\'Custom Service Week\\' , \\'Custom Service Week\\'[ServiceWeek_Start] < dt1 ) , \\'Custom Service Week\\'[ServiceWeek_Start] )\\r\\n\\r\\nRETURN\\r\\nIF( \\'Custom Service Week\\'[ServiceWeek_Start] = dt0 , 0 ,\\r\\nIF( \\'Custom Service Week\\'[ServiceWeek_Start] = dt1 , 1 ,\\r\\nIF( \\'Custom Service Week\\'[ServiceWeek_Start] = dt2 , 2 ,\\r\\n\\r\\nBLANK() )))'),\n",
              " Document(metadata={'source': 'reportingandinsights/common-code/generic/age calc power query.txt'}, page_content='Source: reportingandinsights/common-code/generic/age calc power query.txt\\n//age calc power query\\r\\n//for most accurate results regarding leap years and such\\r\\n\\r\\n//F_AgeCalc\\r\\n//this is a function in Power Query. Create it by making a blank query\\r\\n\\r\\n(BirthDate as date, EndDate as date) =>\\r\\nlet\\r\\nBirthDateInt = Date.Year(BirthDate)*10000 + Date.Month(BirthDate)*100 + Date.Day(BirthDate),\\r\\nEndDateInt = Date.Year(EndDate)*10000 + Date.Month(EndDate)*100 + Date.Day(EndDate),\\r\\nAge = Number.IntegerDivide((EndDateInt - BirthDateInt),10000)\\r\\nin Age\\r\\n\\r\\n//in the query where you want to add the date, use this code\\r\\n#\"Added Custom98\" = Table.AddColumn(#\"Changed Type\", \"C_Age\", each try F_AgeCalc([BirthDate], P_Refresh_Date ) otherwise null ),\\r\\n'),\n",
              " Document(metadata={'source': 'reportingandinsights/common-code/generic/calculated column to detect duplicate rows.txt'}, page_content='Source: reportingandinsights/common-code/generic/calculated column to detect duplicate rows.txt\\nC_Duplicate =\\r\\n//create a calculated column to detect duplicate rows in a table\\r\\n\\r\\nIF (\\r\\n    COUNTROWS (\\r\\n        FILTER (\\r\\n            \\'public ministry_member_status_history\\',\\r\\n            \\'public ministry_member_status_history\\'[ministry_member_id]\\r\\n                = EARLIER ( \\'public ministry_member_status_history\\'[ministry_member_id] )\\r\\n\\t\\t\\t\\r\\n        )\\t\\r\\n    ) > 1,\\r\\n    \"YES\",\\r\\n    \"NO\"\\r\\n)\\r\\n'),\n",
              " Document(metadata={'source': 'reportingandinsights/common-code/generic/campusRLS_Message.txt'}, page_content='Source: reportingandinsights/common-code/generic/campusRLS_Message.txt\\n//used for displaying which campus the user has selected\\r\\n//it is required for Semantic models with Row Level Security RLS enabled\\r\\n\\r\\nM_CampusRLS_Message = \\r\\nIF(\\r\\n\\tMAX( \\'custom DimCampus\\'[CampusName] ) = MIN( \\'custom DimCampus\\'[CampusName] ) ,\\r\\n\\t\"*Only Viewing \" & MAX( \\'custom DimCampus\\'[CampusName] ) &\" Campus\",\\r\\n\\t\"\"\\r\\n)\\r\\n\\r\\n//reports to copy and paste the visual from\\r\\n//milestone by campus\\r\\n//touchpoint analysis\\r\\n'),\n",
              " Document(metadata={'source': 'reportingandinsights/common-code/generic/custom PersonContact power query.txt'}, page_content='Source: reportingandinsights/common-code/generic/custom PersonContact power query.txt\\n//custom personContact power query////\\r\\n//this query uses the custom PersonContact table and add some formatting so that invididuals with do not contact info are easy to identify\\r\\n//use this on self-service extract reports that display contact information. For example, Milestone Contact Report\\r\\n\\r\\nlet\\r\\n    Source = PowerBI.Dataflows(null),\\r\\n    #\"bf01647e-5d6d-4d1d-8360-9c345c132177\" = Source{[workspaceId=\"bf01647e-5d6d-4d1d-8360-9c345c132177\"]}[Data],\\r\\n    #\"2756337f-b4a4-4841-b6ce-2b5675fe4d92\" = #\"bf01647e-5d6d-4d1d-8360-9c345c132177\"{[dataflowId=\"2756337f-b4a4-4841-b6ce-2b5675fe4d92\"]}[Data],\\r\\n    #\"custom PersonContact1\" = #\"2756337f-b4a4-4841-b6ce-2b5675fe4d92\"{[entity=\"custom PersonContact\"]}[Data],\\r\\n    // trim and clean before removing duplicates\\r\\n    #\"Trimmed Text\" = Table.TransformColumns(Table.TransformColumnTypes(#\"custom PersonContact1\", {{\"Person_HC_Id\", type text}, {\"Person_Unique_Id\", type text}, {\"Deceased_Flag\", type text}, {\"DoNotContact_Flag\", type text}, {\"DoNotPhone_Flag\", type text}, {\"DoNotText_Flag\", type text}, {\"DoNotEmail_Flag\", type text}, {\"DoNotMail_Flag\", type text}, {\"Contact_RecordCnt\", type text}}, \"en-US\"),{{\"Person_HC_Id\", Text.Trim, type text}, {\"Person_Unique_Id\", Text.Trim, type text}, {\"prefix\", Text.Trim, type text}, {\"firstname\", Text.Trim, type text}, {\"middlename\", Text.Trim, type text}, {\"lastname\", Text.Trim, type text}, {\"suffix\", Text.Trim, type text}, {\"nickname\", Text.Trim, type text}, {\"address1\", Text.Trim, type text}, {\"address2\", Text.Trim, type text}, {\"city\", Text.Trim, type text}, {\"region\", Text.Trim, type text}, {\"postal_code\", Text.Trim, type text}, {\"country\", Text.Trim, type text}, {\"home_phone\", Text.Trim, type text}, {\"work_phone\", Text.Trim, type text}, {\"cell_phone\", Text.Trim, type text}, {\"primary_phone_type\", Text.Trim, type text}, {\"email\", Text.Trim, type text}, {\"Deceased_Flag\", Text.Trim, type text}, {\"DoNotContact_Flag\", Text.Trim, type text}, {\"DoNotPhone_Flag\", Text.Trim, type text}, {\"DoNotText_Flag\", Text.Trim, type text}, {\"DoNotEmail_Flag\", Text.Trim, type text}, {\"DoNotMail_Flag\", Text.Trim, type text}, {\"Contact_RecordCnt\", Text.Trim, type text}}),\\r\\n    #\"Cleaned Text\" = Table.TransformColumns(#\"Trimmed Text\",{{\"Person_HC_Id\", Text.Clean, type text}, {\"Person_Unique_Id\", Text.Clean, type text}, {\"prefix\", Text.Clean, type text}, {\"firstname\", Text.Clean, type text}, {\"middlename\", Text.Clean, type text}, {\"lastname\", Text.Clean, type text}, {\"suffix\", Text.Clean, type text}, {\"nickname\", Text.Clean, type text}, {\"address1\", Text.Clean, type text}, {\"address2\", Text.Clean, type text}, {\"city\", Text.Clean, type text}, {\"region\", Text.Clean, type text}, {\"postal_code\", Text.Clean, type text}, {\"country\", Text.Clean, type text}, {\"home_phone\", Text.Clean, type text}, {\"work_phone\", Text.Clean, type text}, {\"cell_phone\", Text.Clean, type text}, {\"primary_phone_type\", Text.Clean, type text}, {\"email\", Text.Clean, type text}, {\"Deceased_Flag\", Text.Clean, type text}, {\"DoNotContact_Flag\", Text.Clean, type text}, {\"DoNotPhone_Flag\", Text.Clean, type text}, {\"DoNotText_Flag\", Text.Clean, type text}, {\"DoNotEmail_Flag\", Text.Clean, type text}, {\"DoNotMail_Flag\", Text.Clean, type text}, {\"Contact_RecordCnt\", Text.Clean, type text}}),\\r\\n    #\"Removed Duplicates1\" = Table.Distinct(#\"Cleaned Text\", {\"Person_Unique_Id\"}),\\r\\n    #\"Changed Type\" = Table.TransformColumnTypes(#\"Removed Duplicates1\",{{\"Person_HC_Id\", Int64.Type}, {\"Person_Unique_Id\", Int64.Type}}),\\r\\n    #\"Added Custom\" = Table.AddColumn(#\"Changed Type\", \"Custom.1\", each P_DNC),\\r\\n    #\"Inserted Merged Column\" = Table.AddColumn(#\"Added Custom\", \"Merged\", each Text.Combine({[Custom.1], [firstname]}, \" \"), type text),\\r\\n    #\"Added Conditional Column\" = Table.AddColumn(#\"Inserted Merged Column\", \"C_FirstName\", each if [DoNotContact_Flag] = \"1\" then [Merged] else [firstname]),\\r\\n    #\"Removed Columns\" = Table.RemoveColumns(#\"Added Conditional Column\",{\"Custom.1\", \"Merged\"}),\\r\\n    #\"Renamed Columns\" = Table.RenameColumns(#\"Removed Columns\",{{\"lastname\", \"LastName\"}}),\\r\\n    #\"Filtered Rows\" = Table.SelectRows(#\"Renamed Columns\", each ([Deceased_Flag] = \"0\")),\\r\\n    #\"Replaced Value\" = Table.ReplaceValue(#\"Filtered Rows\",\"0\",\"Contact Okay\",Replacer.ReplaceText,{\"DoNotContact_Flag\", \"DoNotPhone_Flag\", \"DoNotText_Flag\", \"DoNotEmail_Flag\", \"DoNotMail_Flag\"}),\\r\\n    #\"Replaced Value1\" = Table.ReplaceValue(#\"Replaced Value\",\"1\",\"Contact NOT Okay\",Replacer.ReplaceText,{\"DoNotContact_Flag\", \"DoNotPhone_Flag\", \"DoNotText_Flag\", \"DoNotEmail_Flag\", \"DoNotMail_Flag\"})\\r\\nin\\r\\n    #\"Replaced Value1\"\\r\\n'),\n",
              " Document(metadata={'source': 'reportingandinsights/common-code/generic/custom columnNames.txt'}, page_content='Source: reportingandinsights/common-code/generic/custom columnNames.txt\\n//this file demonstrates how to get a customize and order headers in a table visual\\r\\n\\r\\nC_CustomColumnNames = \\r\\nIF([Index] < MAX([Index]),\\r\\n [C_LastDayOfMonth], \"Pre-COVID\")\\r\\n //Index column is needed for sort order\\r\\n//Index = 99 row is custom made in Power Query'),\n",
              " Document(metadata={'source': 'reportingandinsights/common-code/generic/cutover from Excel to Google Sheets sample.txt'}, page_content='Source: reportingandinsights/common-code/generic/cutover from Excel to Google Sheets sample.txt\\n//GT_TithesBudget_Cat (root)\\r\\n\\r\\nlet\\r\\n// cutover to Google Sheets data source 20240730\\r\\n    Source = GoogleSheets.Contents(\"https://docs.google.com/spreadsheets/d/19pHcT7LKFXm0i9mM2ZlccsaXA0FF2v_tzChoU90ZLBQ/edit?usp=drive_link\"),\\r\\n    Template_Table = Source{[name=\"Template\",ItemKind=\"Table\"]}[Data],\\r\\n    #\"Promoted Headers\" = Table.PromoteHeaders(Template_Table, [PromoteAllScalars=true])\\r\\nin\\r\\n    #\"Promoted Headers\"\\r\\n\\t\\r\\n//other table that needed to be cutover. This table should already be connected to calculations in DAX and such.\\r\\nlet\\r\\n// cutover to Google Sheets data source 20240730\\r\\n    #\"Promoted Headers\" = #\"GT_$$_Cat_andMo (root)\",\\r\\n'),\n",
              " Document(metadata={'source': 'reportingandinsights/common-code/generic/graph marker.txt'}, page_content='Source: reportingandinsights/common-code/generic/graph marker.txt\\nM_Marker = \\r\\nVAR _value =\\r\\n//insert name of field for y-axis\\r\\n[ ]\\r\\n\\r\\nRETURN\\r\\n        //round the marker to a clean number so that it looks better when the value displays on tooltip\\r\\n    IF ( [dsplay date] = DATE( 2024,6,30), 1, 0\\r\\n )\\r\\n \\r\\n    ROUNDUP(7 * _value, -1) + 10,\\r\\n        BLANK ()\\r\\n    )\\r\\n'),\n",
              " Document(metadata={'source': 'reportingandinsights/common-code/generic/ministryCampusID column.txt'}, page_content='Source: reportingandinsights/common-code/generic/ministryCampusID column.txt\\n//power query custom column for ministry and Campus ID index column\\r\\n#\"Added Custom Column\" = Table.AddColumn(#\"Expanded People DimPerson\", \"Custom\", each Text.Combine({Text.PadStart(Text.From([ministry_id], \"en-US\"), 4, \"0\"), Text.PadStart(Text.From([church_entity_id], \"en-US\"), 3 ,\"0\" )}) )\\r\\n\\t\\r\\n//hc columns\\r\\n#\"Added Custom Column\" = Table.AddColumn(#\"Expanded Shared DimCampus\", \"HC_MinistryCampusID\", each Text.Combine({Text.PadStart(Text.From([ministry_id], \"en-US\"), 5, \"0\"), Text.PadStart(Text.From([ministry_church_entity_id], \"en-US\"), 3, \"0\")}))\\r\\n\\r\\n//these 2 columns is to identify when a person is in the same ministry location multiple times\\r\\n\\r\\nC_EngagementKey = \\r\\nVAR M = RIGHT( \"00000000\" & [UniquePersonID] , 8 )\\r\\nVAR C = RIGHT( \"00\" & [TouchpointID] , 2 )\\r\\nRETURN\\r\\nM & C & [C_DateKey]'),\n",
              " Document(metadata={'source': 'reportingandinsights/common-code/generic/monthYear sort for dimDate.txt'}, page_content='Source: reportingandinsights/common-code/generic/monthYear sort for dimDate.txt\\n//month year sort\\r\\n\\r\\n    #\"Added Custom2\" = Table.AddColumn(#\"Extracted First Characters\", \"MonthYear_Sort\", each Text.Combine({Text.From([Year], \"en-US\"), Text.PadStart(Text.From([Month], \"en-US\"), 2,\"0\") } )),'),\n",
              " Document(metadata={'source': 'reportingandinsights/common-code/generic/old/empty visual conditional text.txt'}, page_content='Source: reportingandinsights/common-code/generic/old/empty visual conditional text.txt\\n/// conditional text that shows up when another chart is blank.\\r\\n// The use case: If a chart could be blank depending on a selection of another visual on the canvas, then display a text to clarify to the user that something needs to be selected.\\r\\n\\r\\nM_MatrixSingleSelection = \\r\\nIF( [M_Selected_CampusKey] <> 0 && [M_Selected_MetricKey] <> 0 , 1 , 0 )\\r\\n// If 1 then only 1 metric and campus is selected = show visuals\\r\\n// If 0 then more than 1 metric or campus is selected = hide visuals\\r\\n\\r\\nM_TreeMapHide_Label_1 = IF( [M_MatrixSingleSelection] = 1 , \"\" , \"Select a Single Campus Metric Below\" )\\r\\n\\r\\nM_TreeMapHide = \\r\\n//this measure is for a Treemap visual in Power BI so that it can conditionally create an opaque block visual\\r\\n//use conditional formatting\\r\\nIF( [M_MatrixSingleSelection] = 1 , 0 , 1 )'),\n",
              " Document(metadata={'source': 'reportingandinsights/common-code/generic/old/response card web url.txt'}, page_content='Source: reportingandinsights/common-code/generic/old/response card web url.txt\\n//response card web url\\r\\n//use this code when a .pbix needs to have clickable links to response cards on HC\\r\\n\\r\\n//dax\\r\\nC_RCE_Link = \\r\\n\"https://hc.saddleback.com/data-capture/connection-cards/entries/view/\" & \\'SHAPE RCEs\\'[RCE_id]'),\n",
              " Document(metadata={'source': 'reportingandinsights/common-code/generic/power bi best practices/Split by Delimiter.txt'}, page_content='Source: reportingandinsights/common-code/generic/power bi best practices/Split by Delimiter.txt\\n    SplitByDelimiter = (table, column, delimiter) =>\\r\\n        let\\r\\n            Count = List.Count(List.Select(Text.ToList(Table.Column(table, column){0}), each _ = delimiter)) + 1,\\r\\n            Names = List.Transform(List.Numbers(1, Count), each column & \".\" & Text.From(_)),\\r\\n            Types = List.Transform(Names, each {_, type text}),\\r\\n            Split = Table.SplitColumn(table, column, Splitter.SplitTextByDelimiter(delimiter), Names),\\r\\n            Typed = Table.TransformColumnTypes(Split, Types)\\r\\n        in\\r\\n            Typed,'),\n",
              " Document(metadata={'source': 'reportingandinsights/common-code/generic/power bi best practices/distinccountx equivalent.txt'}, page_content='Source: reportingandinsights/common-code/generic/power bi best practices/distinccountx equivalent.txt\\n//this is the equivalent of COUNTX, but DISTINCTCOUNTX\\r\\n//However, be aware that performances will not be very good. The table must be materialized in memory in an uncompressed way, so if you have millions of rows to iterate, it’s going to be expensive. A few thousands rows shouldn’t be an issue if the measure is not called too many times.\\r\\n\\r\\nCOUNTROWS ( DISTINCT ( SELECTCOLUMNS ( <table>, \"col\", <expression> ) ) )\\r\\n\\r\\n'),\n",
              " Document(metadata={'source': 'reportingandinsights/common-code/generic/power bi best practices/power query line breaks.txt'}, page_content='Source: reportingandinsights/common-code/generic/power bi best practices/power query line breaks.txt\\n//power query line break options\\r\\nCharacter.FromNumber(10)\\r\\n#(lf)\\r\\n#(cr) //may need to put in quotes'),\n",
              " Document(metadata={'source': 'reportingandinsights/common-code/generic/power bi best practices/power query split function.txt'}, page_content='Source: reportingandinsights/common-code/generic/power bi best practices/power query split function.txt\\nlet\\r\\n    Source = Excel.CurrentWorkbook(){[Name=\"Table1\"]}[Content],\\r\\n    #\"Changed Type\" = Table.TransformColumnTypes(Source,{{\"Field2\", type text}}),\\r\\n\\t\\r\\n    SplitByDelimiter = (table, column, delimiter) =>\\r\\n        let\\r\\n            Count = List.Count(List.Select(Text.ToList(Table.Column(table, column){0}), each _ = delimiter)) + 1,\\r\\n\\t\\t\\t//Names transforms the list of column names and adds ._\\r\\n            Names = List.Transform(List.Numbers(1, Count), each column & \".\" & Text.From(_)),\\r\\n            Types = List.Transform(Names, each {_, type text}),\\r\\n            Split = Table.SplitColumn(table, column, Splitter.SplitTextByDelimiter(delimiter), Names),\\r\\n            Typed = Table.TransformColumnTypes(Split, Types)\\r\\n        in\\r\\n            Typed,\\r\\n\\t\\t\\t\\r\\n    #\"Split Column by Delimiter\" = SplitByDelimiter(#\"Changed Type\",\"Field2\",\"#(lf)\")\\r\\nin\\r\\n    #\"Split Column by Delimiter\"\\r\\n\\t\\r\\n///////////////////////////////////////////////////////////////\\t\\r\\n\\t\\r\\n\\t#\"Replaced Value\" = Table.ReplaceValue(#\"Unpivoted Other Columns\",\"Content.\",\"\",Replacer.ReplaceText,{\"Attribute\"}),\\r\\n    #\"Renamed Columns\" = Table.RenameColumns(#\"Replaced Value\",{{\"Value\", \"Views\"}}),\\r\\n    #\"Filtered Rows\" = Table.SelectRows(#\"Renamed Columns\", each [Views] <> null and [Views] <> \"\"),\\r\\n    #\"Inserted Removed Characters\" = Table.AddColumn(#\"Filtered Rows\", \"Removed Characters\", each Text.Remove([Views], {\" \", \"\\'\", \":\", \"A\"..\"F\", \"I\", \"L\"..\"P\", \"R\"..\"T\", \"Y\", \"_\", \"{\", \"}\"}), type text),\\r\\n    #\"Split Column by Position\" = Table.SplitColumn(#\"Inserted Removed Characters\", \"Removed Characters\", Splitter.SplitTextByRepeatedLengths(1), {\"Removed Characters.1\", \"Removed Characters.2\", \"Removed Characters.3\", \"Removed Characters.4\"}),\\r\\n\\t\\r\\n\\t  #\"Inserted Sum\" = Table.AddColumn(#\"Changed Type\", \"Addition\", each List.Sum({[Removed Characters.1], [Removed Characters.2], [Removed Characters.3], [Removed Characters.4]}), Int64.Type),\\r\\n'),\n",
              " Document(metadata={'source': 'reportingandinsights/common-code/generic/power bi best practices/refresh date power query and dax.txt'}, page_content='Source: reportingandinsights/common-code/generic/power bi best practices/refresh date power query and dax.txt\\n////this query produces a table that contains the date when the report is refreshed\\r\\n//we usually name the query QT_Refresh\\r\\n\\r\\nlet\\r\\n   Source = DateTime.LocalNow(),\\r\\n   #\"Converted to Table\" = #table(1, {{Source}}),\\r\\n   #\"Renamed Columns\" = Table.RenameColumns(#\"Converted to Table\",{{\"Column1\", \"Refresh Date\"}}),\\r\\n   #\"Changed Type\" = Table.TransformColumnTypes(#\"Renamed Columns\",{{\"Refresh Date\", type date}})\\r\\nin\\r\\n   #\"Changed Type\"\\r\\n   \\r\\n QT_RefreshDate\\r\\n let\\r\\n    Source = DateTime.LocalNow(),\\r\\n    #\"Converted to Table\" = #table(1, {{Source}}),\\r\\n    #\"Renamed Columns\" = Table.RenameColumns(#\"Converted to Table\",{{\"Column1\", \"Refresh Date\"}}),\\r\\n    #\"Extracted Date\" = Table.TransformColumns(#\"Renamed Columns\",{{\"Refresh Date\", DateTime.Date, type date}})\\r\\nin\\r\\n    #\"Extracted Date\"\\r\\n\\t\\r\\nM_Refresh_Label = \"Current as of \" & [M_RefreshDate_LocalText]\\r\\n\\r\\nM_RefreshDate_Local = \\r\\nMAX(\\'QT_RefreshDate\\'[Refresh Date])\\r\\n\\r\\nM_RefreshDate_LocalText = \\r\\nFORMAT(\\'QT_RefreshDate\\'[M_RefreshDate_Local], \"m/d/yy\")'),\n",
              " Document(metadata={'source': 'reportingandinsights/common-code/generic/power bi best practices/refresh date power query.txt'}, page_content='Source: reportingandinsights/common-code/generic/power bi best practices/refresh date power query.txt\\n////this query produces a table that contains the date when the report is refreshed\\r\\n//we usually name the query QT_Refresh\\r\\n\\r\\nlet\\r\\n   Source = DateTime.LocalNow(),\\r\\n   #\"Converted to Table\" = #table(1, {{Source}}),\\r\\n   #\"Renamed Columns\" = Table.RenameColumns(#\"Converted to Table\",{{\"Column1\", \"Refresh Date\"}}),\\r\\n   #\"Changed Type\" = Table.TransformColumnTypes(#\"Renamed Columns\",{{\"Refresh Date\", type date}})\\r\\nin\\r\\n   #\"Changed Type\"\\r\\n   \\r\\n   '),\n",
              " Document(metadata={'source': 'reportingandinsights/common-code/generic/power query QT_CampusRegion.txt'}, page_content='Source: reportingandinsights/common-code/generic/power query QT_CampusRegion.txt\\n\\r\\nlet\\r\\n//power query summary region table code. usually titled \"QT_RegionCampus\"\\r\\n    Source = PowerBI.Dataflows(null),\\r\\n    #\"bf01647e-5d6d-4d1d-8360-9c345c132177\" = Source{[workspaceId=\"bf01647e-5d6d-4d1d-8360-9c345c132177\"]}[Data],\\r\\n    #\"9e930455-b6ce-489c-9e9f-5a2a8398671d\" = #\"bf01647e-5d6d-4d1d-8360-9c345c132177\"{[dataflowId=\"9e930455-b6ce-489c-9e9f-5a2a8398671d\"]}[Data],\\r\\n    #\"Summary CampusRegionJunction1\" = #\"9e930455-b6ce-489c-9e9f-5a2a8398671d\"{[entity=\"Summary CampusRegionJunction\"]}[Data],\\r\\n    #\"Merged Queries\" = Table.NestedJoin(#\"Summary CampusRegionJunction1\", {\"RegionID\"}, #\"Summary Region\", {\"RegionId\"}, \"Summary Region\", JoinKind.LeftOuter),\\r\\n    #\"Expanded Summary Region\" = Table.ExpandTableColumn(#\"Merged Queries\", \"Summary Region\", {\"Custom_Name\"}, {\"Summary Region.Custom_Name\"}),\\r\\n    #\"Removed Other Columns\" = Table.SelectColumns(#\"Expanded Summary Region\",{\"CampusID\", \"Summary Region.Custom_Name\", \"RegionID\"}),\\r\\n    #\"Renamed Columns\" = Table.RenameColumns(#\"Removed Other Columns\",{{\"Summary Region.Custom_Name\", \"RegionCampus_Name\"}, {\"RegionID\", \"Sort\"}}),\\r\\n    #\"Appended Query\" = Table.Combine({#\"Renamed Columns\", #\"Shared DimCampus (Simplified)\"}),\\r\\n    #\"Replaced Value2\" = Table.ReplaceValue(#\"Appended Query\",5,0,Replacer.ReplaceValue,{\"Sort\"})\\r\\nin\\r\\n    #\"Replaced Value2\"\\r\\n\\t\\r\\n\\t\\r\\nlet\\r\\n//shared DimCampus (Simplified)\\r\\n//don\\'t load this table into data model; only use in power query\\r\\n    Source = PowerBI.Dataflows(null),\\r\\n    #\"bf01647e-5d6d-4d1d-8360-9c345c132177\" = Source{[workspaceId=\"bf01647e-5d6d-4d1d-8360-9c345c132177\"]}[Data],\\r\\n    #\"9e930455-b6ce-489c-9e9f-5a2a8398671d\" = #\"bf01647e-5d6d-4d1d-8360-9c345c132177\"{[dataflowId=\"9e930455-b6ce-489c-9e9f-5a2a8398671d\"]}[Data],\\r\\n    #\"Shared DimCampus1\" = #\"9e930455-b6ce-489c-9e9f-5a2a8398671d\"{[entity=\"Shared DimCampus\"]}[Data],\\r\\n    #\"Filtered Rows\" = Table.SelectRows(#\"Shared DimCampus1\", each ([CampusName] <> \"Aliso Viejo\" and [CampusName] <> \"Central\" and [CampusName] <> \"Dana Point\" and [CampusName] <> \"Extensions\" and [CampusName] <> \"Irvine Great Park\" and [CampusName] <> \"N/A\")),\\r\\n    #\"Removed Other Columns\" = Table.SelectColumns(#\"Filtered Rows\",{\"SourceID\", \"CampusName\"}),\\r\\n    #\"Renamed Columns\" = Table.RenameColumns(#\"Removed Other Columns\",{ {\"SourceID\", \"CampusID\"}, {\"CampusName\", \"RegionCampus_Name\"}}),\\r\\n    #\"Duplicated Column\" = Table.DuplicateColumn(#\"Renamed Columns\", \"RegionCampus_Name\", \"Sort\")\\r\\nin\\r\\n    #\"Duplicated Column\"\\r\\n\\t\\r\\nlet\\r\\n//Summary Region\\r\\n//don\\'t load this table into data model; only use in power query\\r\\n    Source = PowerBI.Dataflows(null),\\r\\n    #\"bf01647e-5d6d-4d1d-8360-9c345c132177\" = Source{[workspaceId=\"bf01647e-5d6d-4d1d-8360-9c345c132177\"]}[Data],\\r\\n    #\"9e930455-b6ce-489c-9e9f-5a2a8398671d\" = #\"bf01647e-5d6d-4d1d-8360-9c345c132177\"{[dataflowId=\"9e930455-b6ce-489c-9e9f-5a2a8398671d\"]}[Data],\\r\\n    #\"Summary Region1\" = #\"9e930455-b6ce-489c-9e9f-5a2a8398671d\"{[entity=\"Summary Region\"]}[Data],\\r\\n    #\"Duplicated Column\" = Table.DuplicateColumn(#\"Summary Region1\", \"Name\", \"Name - Copy\"),\\r\\n    #\"Renamed Columns\" = Table.RenameColumns(#\"Duplicated Column\",{{\"Name - Copy\", \"Custom_Name\"}}),\\r\\n    #\"Replaced Value\" = Table.ReplaceValue(#\"Renamed Columns\",\"All Campuses\",\"All Campuses Excl. Online\",Replacer.ReplaceValue,{\"Custom_Name\"}),\\r\\n    #\"Replaced Value1\" = Table.ReplaceValue(#\"Replaced Value\",\"All Campuses Including Online\",\"All Campuses Incl. Online\",Replacer.ReplaceValue,{\"Custom_Name\"}),\\r\\n    #\"Replaced Value2\" = Table.ReplaceValue(#\"Replaced Value1\",\"US Campuses Except Lake Forest\",\"US Campuses Excl. LF\",Replacer.ReplaceValue,{\"Custom_Name\"})\\r\\nin\\r\\n    #\"Replaced Value2\"\\r\\n'),\n",
              " Document(metadata={'source': 'reportingandinsights/common-code/generic/power query age category.txt'}, page_content='Source: reportingandinsights/common-code/generic/power query age category.txt\\n//power query age category\\r\\n\\r\\n//age category\\r\\n  #\"Inserted Conditional Column\"= Table.AddColumn(#\"Insert previous query name here\", \"Age Category\", each if [Age] = null then \"Unknown\" else if [Age] < 18 then \"<18\" else if [Age] >= 71 then \">70\" else if [Age] >= 61 then \"61-70\" else if [Age] >= 51 then \"51-60\" else if [Age] >= 41 then \"41-50\" else if [Age] >= 31 then \"31-40\" else if [Age] >= 18 then \"18-30\" else \"Unknown\"),'),\n",
              " Document(metadata={'source': 'reportingandinsights/common-code/generic/power query datekey.txt'}, page_content='Source: reportingandinsights/common-code/generic/power query datekey.txt\\n//power query datekey\\r\\n//use this power query applied step to add a column that formats date datatype into a whole number. When forming a relationship between tables by date, the whole number format processes the fastest\\r\\n\\r\\n//add column\\r\\n#\"Added Column99\"= Table.AddColumn(#\"insert name of previous applied step\", \"QC_DateKey\", each Date.ToText([Engagement Date],\"yyyyMMdd\") ),\\r\\n#\"Changed Type99\" = Table.TransformColumnTypes(#\"Added Column99\",{{\"QC_DateKey\", Int64.Type}}),\\r\\n\\r\\n\\r\\n//transform extant column\\r\\n   #\"Added Custom99\" = Table.AddColumn(#\"Merged Queries\", \"QC_DateKey\",  each Date.ToText([Content Date], \"yyyyMMdd\"))'),\n",
              " Document(metadata={'source': 'reportingandinsights/common-code/generic/power query m version of date diff.txt'}, page_content='Source: reportingandinsights/common-code/generic/power query m version of date diff.txt\\n//this function is the Power Query M equivalent of DAX DATEDIFF(date1, date2, MONTH)\\r\\n    #\"Added Custom\" = Table.AddColumn(#\"Filtered Rows1\", \"QC_MonthsBetween\", each  Number.Abs(((Date.Year([LastDate2])-Date.Year([[NextToLastDate]]))*12) + Date.Month([LastDate2]) - Date.Month([[NextToLastDate]]) )\\r\\n\\t),'),\n",
              " Document(metadata={'source': 'reportingandinsights/common-code/generic/powershell sripts/report id example for powershell.txt'}, page_content='Source: reportingandinsights/common-code/generic/powershell sripts/report id example for powershell.txt\\n//attendance historic trend\\r\\n\\r\\nhttps://app.powerbi.com/\\r\\ngroups/4e1f3c5c-d171-480e-95b1-a7785d1095a6/\\r\\nreports/8e152dc8-4d44-4280-9b28-162d48e76e45/\\r\\nReportSectiond2963728d71acd7ed16c?experience=power-bi\\r\\n\\r\\ngroup id = workspace id = 4e1f3c5c-d171-480e-95b1-a7785d1095a6\\r\\nreport id = 8e152dc8-4d44-4280-9b28-162d48e76e45'),\n",
              " Document(metadata={'source': 'reportingandinsights/common-code/generic/qt campus region.txt'}, page_content='Source: reportingandinsights/common-code/generic/qt campus region.txt\\n//qt campus region\\r\\nlet\\r\\n    Source = PowerBI.Dataflows(null),\\r\\n    #\"62139906-a630-47b8-b74c-40b5263abff0\" = Source{[workspaceId=\"62139906-a630-47b8-b74c-40b5263abff0\"]}[Data],\\r\\n    #\"7c44e05b-91f8-40d5-b084-447d157409fe\" = #\"62139906-a630-47b8-b74c-40b5263abff0\"{[dataflowId=\"7c44e05b-91f8-40d5-b084-447d157409fe\"]}[Data],\\r\\n    #\"Summary CampusRegionJunction\" = #\"7c44e05b-91f8-40d5-b084-447d157409fe\"{[entity=\"Summary CampusRegionJunction\"]}[Data],\\r\\n    // rename columns to align with DW column naming conventions\\r\\n    #\"Renamed Columns1\" = Table.RenameColumns(#\"Summary CampusRegionJunction\",{{\"CampusID\", \"SourceID\"}, {\"DimCampusID\", \"CampusID\"}}),\\r\\n    #\"Merged Queries\" = Table.NestedJoin(#\"Renamed Columns1\", {\"RegionID\"}, #\"Summary Region\", {\"RegionId\"}, \"Summary Region\", JoinKind.LeftOuter),\\r\\n    #\"Expanded Summary Region\" = Table.ExpandTableColumn(#\"Merged Queries\", \"Summary Region\", {\"Custom_Name\"}, {\"Summary Region.Custom_Name\"}),\\r\\n    #\"Removed Other Columns\" = Table.SelectColumns(#\"Expanded Summary Region\",{\"CampusID\", \"Summary Region.Custom_Name\", \"RegionID\"}),\\r\\n    #\"Renamed Columns\" = Table.RenameColumns(#\"Removed Other Columns\",{{\"Summary Region.Custom_Name\", \"RegionCampus_Name\"}, {\"RegionID\", \"Sort\"}}),\\r\\n    #\"Appended Query\" = Table.Combine({#\"Renamed Columns\", #\"custom DimCampus (Simplified)\"}),\\r\\n    #\"Replaced Value2\" = Table.ReplaceValue(#\"Appended Query\",5,0,Replacer.ReplaceValue,{\"Sort\"})\\r\\nin\\r\\n    #\"Replaced Value2\"\\r\\n\\r\\n//steps for CUSTOM sort logic\\r\\n      // move All Campuses (Incl. OL) to top\\r\\n    #\"Replaced Value2\" = Table.ReplaceValue(#\"Appended Query\",5,0,Replacer.ReplaceValue,{\"Sort\"}),\\r\\n    //modify sort values for international campuses\\r\\n    #\"Replaced Value3\" = Table.ReplaceValue(#\"Replaced Value2\",\"Buenos Aires\",\"zb\",Replacer.ReplaceValue,{\"Sort\"}),\\r\\n    #\"Replaced Value4\" = Table.ReplaceValue(#\"Replaced Value3\",\"Berlin\",\"za\",Replacer.ReplaceValue,{\"Sort\"}),\\r\\n    #\"Replaced Value5\" = Table.ReplaceValue(#\"Replaced Value4\",\"Hong Kong\",\"zc\",Replacer.ReplaceValue,{\"Sort\"}),\\r\\n    #\"Replaced Value6\" = Table.ReplaceValue(#\"Replaced Value5\",\"Santa Rosa\",\"zd\",Replacer.ReplaceValue,{\"Sort\"}),\\r\\n    #\"Replaced Value7\" = Table.ReplaceValue(#\"Replaced Value6\",\"Vancouver \",\"zz\",Replacer.ReplaceValue,{\"Sort\"}),\\r\\n    // put Online Campus to display at very bottom\\r\\n    #\"Replaced Value1\" = Table.ReplaceValue(#\"Replaced Value7\",\"Online Community\",\"zzzz\",Replacer.ReplaceValue,{\"Sort\"}),\\r\\n\\t\\r\\n//campus dashboard semantic model needs the Chinese ministry\\r\\n\\t\\r\\n/////////////////////////////////////////////SOURCE TABLES//////////////////////////////////////\\r\\n//Summary Region\\r\\nlet\\r\\n    Source = PowerBI.Dataflows(null),\\r\\n    #\"62139906-a630-47b8-b74c-40b5263abff0\" = Source{[workspaceId=\"62139906-a630-47b8-b74c-40b5263abff0\"]}[Data],\\r\\n    #\"7c44e05b-91f8-40d5-b084-447d157409fe\" = #\"62139906-a630-47b8-b74c-40b5263abff0\"{[dataflowId=\"7c44e05b-91f8-40d5-b084-447d157409fe\"]}[Data],\\r\\n    #\"Summary Region1\" = #\"7c44e05b-91f8-40d5-b084-447d157409fe\"{[entity=\"Summary Region\"]}[Data],\\r\\n    #\"Duplicated Column\" = Table.DuplicateColumn(#\"Summary Region1\", \"Name\", \"Name - Copy\"),\\r\\n    #\"Renamed Columns\" = Table.RenameColumns(#\"Duplicated Column\",{{\"Name - Copy\", \"Custom_Name\"}}),\\r\\n    #\"Replaced Value\" = Table.ReplaceValue(#\"Renamed Columns\",\"All Campuses\",\"All Campuses Excl. Online\",Replacer.ReplaceValue,{\"Custom_Name\"}),\\r\\n    #\"Replaced Value1\" = Table.ReplaceValue(#\"Replaced Value\",\"All Campuses Including Online\",\"All Campuses Incl. Online\",Replacer.ReplaceValue,{\"Custom_Name\"}),\\r\\n    #\"Replaced Value2\" = Table.ReplaceValue(#\"Replaced Value1\",\"US Campuses Except Lake Forest\",\"US Campuses Excl. LF\",Replacer.ReplaceValue,{\"Custom_Name\"})\\r\\nin\\r\\n    #\"Replaced Value2\"\\r\\n\\t\\r\\n//custom DimCampus (Simplified)\\r\\nlet\\r\\n    Source = PowerBI.Dataflows(null),\\r\\n    #\"62139906-a630-47b8-b74c-40b5263abff0\" = Source{[workspaceId=\"62139906-a630-47b8-b74c-40b5263abff0\"]}[Data],\\r\\n    #\"fd87b581-577b-4910-a4b9-c78062d8f80d\" = #\"62139906-a630-47b8-b74c-40b5263abff0\"{[dataflowId=\"fd87b581-577b-4910-a4b9-c78062d8f80d\"]}[Data],\\r\\n    #\"custom DimCampus\" = #\"fd87b581-577b-4910-a4b9-c78062d8f80d\"{[entity=\"custom DimCampus\"]}[Data],\\r\\n    #\"Filtered Rows\" = Table.SelectRows(#\"custom DimCampus\", each ([Excl_Ext_Ind] = 0)),\\r\\n    #\"Removed Other Columns\" = Table.SelectColumns(#\"Filtered Rows\",{\"CampusID\", \"CampusName\"}),\\r\\n    #\"Renamed Columns\" = Table.RenameColumns(#\"Removed Other Columns\",{ {\"CampusName\", \"RegionCampus_Name\"} } ),\\r\\n    #\"Duplicated Column\" = Table.DuplicateColumn(#\"Renamed Columns\", \"RegionCampus_Name\", \"Sort\")\\r\\nin\\r\\n    #\"Duplicated Column\"\\r\\n\\t\\r\\n\\t'),\n",
              " Document(metadata={'source': 'reportingandinsights/common-code/generic/selected campus.txt'}, page_content='Source: reportingandinsights/common-code/generic/selected campus.txt\\nM_Campus_Message = \\r\\nIF(\\r\\n\\tMAX( \\'custom DimCampus\\'[name] ) = MIN( \\'custom DimCampus\\'[name] ) ,\\r\\n\\t\"*Only Viewing \" & MAX( \\'custom DimCampus\\'[name] ) &\" Campus\",\\r\\n\\t\"\"\\r\\n)\\r\\n\\r\\nM_MtryTag_Message = \\r\\n\\r\\nVAR _multi =\\r\\nIF(\\r\\n    DISTINCTCOUNTNOBLANK(\\'Ministry DimMinistryTag\\'[MinistryTagName]) > 1,\\r\\n    \"Multiple Ministry Tags Selected\",\\r\\n    \"\"\\r\\n)\\r\\n\\r\\nVAR _participant_tbl = \\r\\n//table with only the tag for ministry participant\\r\\nFILTER( \\'Ministry DimMinistryTag\\',\\r\\n[MinistryTagName] = \"Participant Ministry\" \\r\\n)\\r\\n\\r\\nRETURN\\r\\nIF(\\r\\n    DISTINCTCOUNTNOBLANK(\\'Ministry DimMinistryTag\\'[MinistryTagName]) = 1,\\r\\n    //MAX( \\'Ministry DimMinistryTag\\'[MinistryTagName] ) = MIN( \\'Ministry DimMinistryTag\\'[MinistryTagName] ),\\r\\n\\t\"Only Viewing \" & MAX( \\'Ministry DimMinistryTag\\'[MinistryTagName]) &\" Tag\",\\r\\n    //if not 1 tag is selected, \\r\\n    IF( COUNTX(_participant_tbl, [MinistryTagName]) > 0,\\r\\n        _multi,\\r\\n        //if participant minsitry tag is excluded, the logical expression will return 0/blank\\r\\n        \"Participant Ministry Tag Excluded\"\\r\\n\\t    \\r\\n))'),\n",
              " Document(metadata={'source': 'reportingandinsights/common-code/generic/shared dim time display column.txt'}, page_content='Source: reportingandinsights/common-code/generic/shared dim time display column.txt\\n//20231114 shared dim time custom display column for users\\r\\n\\r\\nC_Time_Display = \\r\\n VAR _regular =\\r\\n //regular time\\r\\n [Hour12] & \":\" & [HalfHourShortString] & \" \" & [AmPmString]\\r\\n\\r\\n VAR _noon =\\r\\n //manually exception case for the hour of 12pm\\r\\n \"12:\" & [HalfHourShortString] & \" \" & [AmPmString]\\r\\n\\r\\n RETURN\\r\\n IF(\\'Shared DimTime\\'[Hour12] = 0, _noon, _regular)'),\n",
              " Document(metadata={'source': 'reportingandinsights/common-code/generic/spotify trim and split and sum.txt'}, page_content='Source: reportingandinsights/common-code/generic/spotify trim and split and sum.txt\\nlet\\r\\n    Source = //dataflow source\\r\\n\\t\\r\\n\\t\\r\\n    #\"Changed Type11\" = Table.TransformColumnTypes(SpotifyPodcastEpisodeCountryCounts1,{{\"PartitionKey\", type text}, {\"RowKey\", type text}, {\"Timestamp\", type time}, {\"Content.US\", type text}, {\"Content.date\", type date}, {\"Content.episode_id\", type text}}),\\r\\n    #\"Unpivoted Other Columns\" = Table.UnpivotOtherColumns(#\"Changed Type11\", {\"PartitionKey\", \"RowKey\", \"Timestamp\", \"Content.date\", \"Content.episode_id\"}, \"Attribute\", \"Value\"),\\r\\n//delimter used should be 1\\r\\n\\r\\n    #\"Replaced Value\" = Table.ReplaceValue(#\"Unpivoted Other Columns\", \"Content.\",\"\",Replacer.ReplaceText,{\"Attribute\"}),\\r\\n    #\"Renamed Columns\" = Table.RenameColumns(#\"Replaced Value\",{{\"Value\", \"Views\"}}),\\r\\n    #\"Inserted Removed Characters\" = Table.AddColumn(#\"Renamed Columns\", \"Removed Characters\", each Text.Remove([Views], {\" \", \"\\'\", \":\", \"A\"..\"F\", \"I\", \"L\"..\"P\", \"R\"..\"T\", \"Y\", \"_\", \"{\", \"}\"}), type text),\\r\\n    #\"Filtered Rows\" = Table.SelectRows(#\"Inserted Removed Characters\", each [Views] <> null and [Views] <> \"\"),\\r\\n\\r\\n    SplitByDelimiter = (table, column, delimiter) =>\\r\\n\\tlet\\r\\n\\t\\t//Count = This step takes in the parameters for the table and the column and examines the contents in the column to discover how many times the delimiter passed in the parameter occurs in that column. This allows the function to dynamically create the correct number of columns instead of having to hard code it\\r\\n\\t\\tCount = List.Count(List.Select(Text.ToList(Table.Column(table, column){0}), each _ = delimiter)) + 1,\\r\\n\\t\\t//Name = This step creates column names for as many columns as were determined in the Count step. The name for each column is prefaced with the original column name passed into the function.\\r\\n\\t\\tNames = List.Transform(List.Numbers(1, Count), each column & \".\" & Text.From(_)),\\r\\n\\t\\t//Types = This step creates a list object containing all of the column names created by the Name step and appends to each the code necessary to converting them to text. This column will be used in a subsequent step to make it easy to convert all of the columns to text before exiting the function.\\r\\n\\t\\tTypes = List.Transform(Names, each {_, Int64.Type}),\\r\\n\\t\\t//split the columns and store the names of the new columns in to the Names list\\r\\n\\t\\tSplit = Table.SplitColumn(table, column, Splitter.SplitTextByDelimiter(delimiter), Names),\\r\\n\\t\\t//Typed = This step uses the list of column names and the strings from the Types step to convert all of the newly created columns to Text. The results of this step are then returned from the function.\\r\\n\\t\\tTyped = Table.TransformColumnTypes(Split, Types)\\r\\n\\tin\\r\\n\\t\\tTyped,\\r\\n\\t\\t\\t\\r\\n    #\"Split Column by Delimiter\" = SplitByDelimiter(#\"Filtered Rows\", \"Removed Characters\", \",\"),\\r\\n    #\"Changed Type\" = Table.TransformColumnTypes(#\"Split Column by Delimiter\",{{\"Removed Characters.1\", Int64.Type}, {\"Removed Characters.2\", Int64.Type}, {\"Removed Characters.3\", Int64.Type}, {\"Removed Characters.4\", Int64.Type}}),\\r\\n    #\"Inserted Sum\" = Table.AddColumn(#\"Changed Type\", \"Total Views\", each List.Sum({[Removed Characters.1], [Removed Characters.2], [Removed Characters.3], [Removed Characters.4]}), Int64.Type)\\r\\nin\\r\\n    #\"Inserted Sum\"\\r\\n'),\n",
              " Document(metadata={'source': 'reportingandinsights/common-code/generic/table profile in power query.txt'}, page_content='Source: reportingandinsights/common-code/generic/table profile in power query.txt\\n//table profile in Power Query M\\r\\n//TIP: Power BI service has a button on each Semantic Model page. you can auto-create a report for exploring the data\\r\\n\\r\\nTable.Profile(\\r\\n  #\"Changed Type\", \\r\\n  {\\r\\n    {\\r\\n      \"Null and Empty\", \\r\\n      each Type.Is(_, type any), \\r\\n      each List.Count(List.Select(_, each _ = \"\" or _ = null))\\r\\n    }\\r\\n  }\\r\\n)[[Column], [Null and Empty]]\\r\\n\\r\\n//example with google analytics data\\r\\nlet\\r\\n    Source = PowerPlatform.Dataflows(null),\\r\\n    Workspaces = Source{[Id=\"Workspaces\"]}[Data],\\r\\n    #\"8765caf2-c666-4173-a282-e4f6a55f4297\" = Workspaces{[workspaceId=\"8765caf2-c666-4173-a282-e4f6a55f4297\"]}[Data],\\r\\n    #\"1a861163-2172-4f70-910c-36647c3bf573\" = #\"8765caf2-c666-4173-a282-e4f6a55f4297\"{[dataflowId=\"1a861163-2172-4f70-910c-36647c3bf573\"]}[Data],\\r\\n    GA4_Metrics_perWeek_ = #\"1a861163-2172-4f70-910c-36647c3bf573\"{[entity=\"GA4_Metrics_perWeek\",version=\"\"]}[Data],\\r\\n    stuff = Table.Profile(GA4_Metrics_perWeek_, \\r\\n { \\r\\n    {\\r\\n      \"Null and Empty\", \\r\\n      each Type.Is(_, type any), \\r\\n      each List.Count(List.Select(_, each _ = \"\" or _ = null))\\r\\n    }\\r\\n } \\r\\n),\\r\\n    // step for optionally filtering\\r\\n    #\"Filtered Rows\" = Table.SelectRows(Table.StopFolding(stuff), each ([Average] = 2.4530259365994311))\\r\\nin\\r\\n    #\"Filtered Rows\"\\r\\n\\t\\r\\n\\t\\r\\n\\t'),\n",
              " Document(metadata={'source': 'reportingandinsights/common-code/generic/today or before flag.txt'}, page_content='Source: reportingandinsights/common-code/generic/today or before flag.txt\\nC_IsTodayorBefore_Flag = \\r\\n//flag for filtering date slicer values to anything current date or before\\r\\nIF([Date] <= TODAY(), 1, 0)'),\n",
              " Document(metadata={'source': 'reportingandinsights/common-code/generic/transparent background color.txt'}, page_content='Source: reportingandinsights/common-code/generic/transparent background color.txt\\nM_Bg_Transparent = \\r\\n//measure that specifies color for conditional formatting. the color is completely transparent\\r\\n\"rgba(255,255,255,0)\"')]"
            ]
          },
          "execution_count": 16,
          "metadata": {},
          "output_type": "execute_result"
        }
      ],
      "source": [
        "documents"
      ]
    },
    {
      "cell_type": "markdown",
      "metadata": {},
      "source": [
        "# Inserting Data Into Pinecone"
      ]
    },
    {
      "cell_type": "code",
      "execution_count": 17,
      "metadata": {
        "id": "saT1yD_mdHNa"
      },
      "outputs": [],
      "source": [
        "load_dotenv()\n",
        "\n",
        "pinecone_api_key = os.getenv(\"PINECONE_API_KEY\")\n",
        "os.environ['PINECONE_API_KEY'] = pinecone_api_key\n",
        "\n",
        "index_name = \"ri-assist\"\n",
        "\n",
        "namespace = \"documentation\"\n",
        "\n",
        "vectorstore = PineconeVectorStore(index_name=index_name, embedding=embeddings)"
      ]
    },
    {
      "cell_type": "code",
      "execution_count": 20,
      "metadata": {
        "id": "8OXExYWes3bu"
      },
      "outputs": [
        {
          "data": {
            "text/plain": [
              "['48d65a82-e61c-41b9-965b-7c0cef923400',\n",
              " '7dc58f2e-b5dd-45b0-8e3d-25a3bde5de38',\n",
              " '5410d4df-8151-44de-a2c6-017528b0d3b7',\n",
              " '2fcfe5f0-e78c-4517-a459-68dec2c2ee2f',\n",
              " '4ed4cd97-2cda-480e-ad88-b7aaf21cd32e',\n",
              " '5b931356-12f3-4979-8b5a-418b51969360',\n",
              " 'c1fbb0b6-bc4a-4cd2-aac4-c001f7fe1b67',\n",
              " '5cdd9349-f318-4b45-9ecb-988754bf548b',\n",
              " 'ca93da95-7a07-4d5a-9e54-cf0ee919d003',\n",
              " 'd7f96e65-b33d-438b-bdea-2827051ac123',\n",
              " 'dcc4b01e-f53e-44c9-80cd-5de22196bcca',\n",
              " '5cd2558b-02bb-43d2-a533-fec0671c3f40',\n",
              " 'e68a14de-e80d-4d1b-96d1-fa35a367c249',\n",
              " 'e81f2a94-86e5-46d3-af1d-35878344b8c2',\n",
              " '43da74db-4538-4fed-8fd3-937c43ec02d1',\n",
              " '7bcc8b50-aaaa-4b07-9c84-6b238bf45c25',\n",
              " '58398934-0e18-42b4-8150-b53cc7c0b240',\n",
              " '8a78cd6a-04cf-4651-b6f8-57b5ed4e8b34',\n",
              " 'b2689aba-1f07-4d08-803b-cd33d4c3716d',\n",
              " '75106ccf-af54-4f25-a5ff-b568a87518f4',\n",
              " '7f7500f3-a427-496b-b825-e89360dc480d',\n",
              " '191c1c8e-1333-4a42-ac4b-9a563b8eb653',\n",
              " 'a90fff99-57bd-48ae-a6d2-ebc468bd05c8',\n",
              " '425ecdbd-41f3-4d91-bf97-c43eabafb298',\n",
              " '5faf9f24-d817-40e0-bc1f-5c1633083a52',\n",
              " 'd3265d06-ea58-44d0-931d-cad54d6329a4',\n",
              " 'ad18f390-1ff3-400d-8f39-cb201625b72c',\n",
              " '6bd048c3-3a96-4e9f-8589-a5ee5eb18a15',\n",
              " '31e5bcd0-4937-4eb7-90ce-0ea8e0688cef',\n",
              " '23abd560-6834-45a3-b670-1ea58a71e2d8',\n",
              " '23d60ae4-cfdc-498a-9962-8c0c36b6a1e0',\n",
              " '19aeb60f-4b4a-4fb5-ac53-1a6c348cc8c3',\n",
              " '54f5fc45-59df-4fa5-b166-35c397ea1349',\n",
              " 'c26c22de-6bca-4253-9e67-d654044b58ad',\n",
              " 'f14d953b-2f25-479f-ae7f-f2015ca6785c',\n",
              " '8983f7d0-1f8d-4c3f-9017-674c9da852af',\n",
              " '743a5336-b955-4835-9ef7-cd9d05f3ad35',\n",
              " '503388ed-8293-4cd5-a0ef-e996abded680',\n",
              " 'b27671cf-d009-400c-b992-7407d0432a82',\n",
              " '8fde8907-3460-4026-8ecb-213bf7db990a',\n",
              " '16cf7f49-0970-42eb-942b-065aa92c033f',\n",
              " 'ea81c6ca-ce57-49e6-920c-647072295379',\n",
              " 'a3d9c5a7-0aa5-4e76-9724-8921d2d40f2a',\n",
              " '02497cd3-9279-4c5d-a520-43fab41d4dd4',\n",
              " '81adb706-e791-480b-be51-c2141e45980e',\n",
              " '2ab8b86c-adec-421d-8133-5c6d8b9551c3',\n",
              " '7641d4c4-64c7-4c53-96c9-cfeeacccd2e7',\n",
              " '1bb5eb67-6b89-4de9-972b-bec970d1cf46',\n",
              " '75d84fc3-76ef-4bff-8bd1-043ea76d664f',\n",
              " '7dc07d36-9da8-4b8d-ac25-9f1cf4c815b6',\n",
              " '3d222651-3d2e-4d8c-a267-266e158c9594',\n",
              " '7d269c82-0b77-49c4-8eda-802ae5058800',\n",
              " '8acac493-8e15-4af8-9c85-3ce0a66a44c7']"
            ]
          },
          "execution_count": 20,
          "metadata": {},
          "output_type": "execute_result"
        }
      ],
      "source": [
        "# for idx, document in enumerate(documents):\n",
        "#     print(\"Processing document: \", idx)\n",
        "#     vectorstore_from_documents = PineconeVectorStore.from_documents(\n",
        "#         [document],\n",
        "#         embeddings,\n",
        "#         index_name=index_name,\n",
        "#         namespace=namespace\n",
        "#     )\n",
        "\n",
        "# add all documents at once. this seems to be faster than the above\n",
        "vectorstore.add_documents(documents=documents) "
      ]
    },
    {
      "cell_type": "code",
      "execution_count": null,
      "metadata": {},
      "outputs": [],
      "source": [
        "# doesnt seem to work as intended. I think dramatically writes to pinecone way more than necessary\n",
        "# import multiprocessing\n",
        "\n",
        "# def add_documents_batch(batch):\n",
        "#     \"\"\"Adds a batch of documents to the Pinecone index.\"\"\"\n",
        "#     vectorstore.add_documents(batch)\n",
        "\n",
        "# def create_multiprocess_pool(documents, num_processes=None):\n",
        "#     if num_processes is None:\n",
        "#         num_processes = multiprocessing.cpu_count() # use all available cores\n",
        "    \n",
        "#     batch_size = len(documents) // num_processes\n",
        "#     batches = [documents[i:i+batch_size] for i in range(0, len(documents), batch_size)]\n",
        "\n",
        "#     with multiprocessing.Pool(processes=num_processes) as pool:\n",
        "#         pool.map(add_documents_batch, batches) # requires .map(function, iterable)\n",
        "#         print('pooling: ' + batches)\n",
        "\n",
        "# create_multiprocess_pool(documents)\n",
        "\n",
        "# BATCH_SIZE = 1\n",
        "# for i in range(0, len(documents), BATCH_SIZE):\n",
        "#     batch = documents[i:i+BATCH_SIZE]\n",
        "#     vectorstore.add_documents(batch)\n",
        "#     print(f\"Inserting batch {i // BATCH_SIZE + 1} of {len(documents) // BATCH_SIZE + 1}\")"
      ]
    },
    {
      "cell_type": "markdown",
      "metadata": {
        "id": "oVD9c7pdKvHi"
      },
      "source": [
        "# Initialize the Groq client\n",
        "\n",
        "1. Get your Groq API Key [here](https://console.groq.com/keys)\n",
        "\n",
        "2. Paste your Groq API Key into your Google Colab secrets, and make sure to enable permissions for it\n",
        "\n",
        "![Screenshot 2024-11-25 at 12 00 16 AM](https://github.com/user-attachments/assets/e5525d29-bca6-4dbd-892b-cc770a6b281d)"
      ]
    },
    {
      "cell_type": "code",
      "execution_count": 22,
      "metadata": {
        "id": "QwXxemUuWqol"
      },
      "outputs": [],
      "source": [
        "load_dotenv()\n",
        "\n",
        "groq_api_key = os.getenv(\"GROQ_API_KEY\")\n",
        "os.environ['GROQ_API_KEY'] = groq_api_key\n",
        "\n",
        "groq_client = Groq(api_key=groq_api_key)"
      ]
    },
    {
      "cell_type": "code",
      "execution_count": null,
      "metadata": {
        "id": "UwIix4L7A2Ez"
      },
      "outputs": [],
      "source": []
    },
    {
      "cell_type": "code",
      "execution_count": null,
      "metadata": {
        "id": "PED8FwrW--O0"
      },
      "outputs": [],
      "source": []
    },
    {
      "cell_type": "markdown",
      "metadata": {
        "id": "5uCoLtHtLwlI"
      },
      "source": [
        "# Perform RAG"
      ]
    },
    {
      "cell_type": "code",
      "execution_count": 23,
      "metadata": {
        "id": "BMk_-E0EI0SE"
      },
      "outputs": [],
      "source": [
        "# Initialize Pinecone\n",
        "pc = Pinecone(api_key=pinecone_api_key)\n",
        "\n",
        "# Connect to your Pinecone index\n",
        "pinecone_index = pc.Index(index_name)"
      ]
    },
    {
      "cell_type": "code",
      "execution_count": 32,
      "metadata": {},
      "outputs": [],
      "source": [
        "def get_huggingface_embeddings(text, model_name=\"sentence-transformers/all-mpnet-base-v2\"):\n",
        "    model = SentenceTransformer(model_name)\n",
        "    return model.encode(text)"
      ]
    },
    {
      "cell_type": "code",
      "execution_count": 37,
      "metadata": {},
      "outputs": [],
      "source": [
        "query = \"how to use calculate in power bi?\""
      ]
    },
    {
      "cell_type": "code",
      "execution_count": null,
      "metadata": {
        "id": "lQCna1vZI0Un"
      },
      "outputs": [
        {
          "name": "stdout",
          "output_type": "stream",
          "text": [
            "documentation\n",
            "[]\n"
          ]
        }
      ],
      "source": [
        "# construct query, embed it, get pinecone vector match, and grab contexts\n",
        "\n",
        "# running into some issues with no matching with the new vector store method. its bc added documents to ( Default ) namespace (see pinecone)\n",
        "query_embed = get_huggingface_embeddings(query)\n",
        "top_matches = pinecone_index.query(vector=query_embed.tolist(), top_k=5, include_metadata=True, namespace=namespace)\n",
        "contexts = [item['metadata']['text'] for item in top_matches['matches']]\n",
        "print(contexts)"
      ]
    },
    {
      "cell_type": "code",
      "execution_count": 29,
      "metadata": {
        "id": "pgpTn-j-MLAN"
      },
      "outputs": [],
      "source": [
        "# creating a formatted query for the AI\n",
        "augmented_query = \"<CONTEXT>\\n\" + \"\\n-------\\n\".join(contexts[:10]) + \"\\n-------\\n</CONTEXT>\\n\\nMY QUESTION:\\n\" + query"
      ]
    },
    {
      "cell_type": "code",
      "execution_count": 30,
      "metadata": {
        "id": "WyU4z3JEMLEb"
      },
      "outputs": [
        {
          "name": "stdout",
          "output_type": "stream",
          "text": [
            "<CONTEXT>\n",
            "\n",
            "-------\n",
            "</CONTEXT>\n",
            "\n",
            "MY QUESTION:\n",
            "how to conditionally hide unwanted visuals?\n"
          ]
        }
      ],
      "source": [
        "print(augmented_query)"
      ]
    },
    {
      "cell_type": "code",
      "execution_count": 132,
      "metadata": {
        "id": "cCL3shOvOTZg"
      },
      "outputs": [],
      "source": [
        "system_prompt = f'''\n",
        "You are an expert at understanding and explaining business technology and development, including Scrum methodology, Power BI development, and other documentation.\n",
        "Answer any questions based on the data provided. Always consider the context of the question and provide the most accurate and relevant information when forming a response.\n",
        "If unsure of anything, mention it in the response and provide a suggestion for further research. Cite your sources used below your response.'''\n",
        "\n",
        "llm_response = groq_client.chat.completions.create(\n",
        "    model=\"llama-3.1-70b-versatile\",\n",
        "    messages=[\n",
        "        {\"role\": \"system\", \"content\": system_prompt},\n",
        "        {\"role\": \"user\",  \"content\": augmented_query}\n",
        "    ]\n",
        ")\n",
        "\n",
        "response = llm_response.choices[0].message.content"
      ]
    },
    {
      "cell_type": "code",
      "execution_count": 133,
      "metadata": {
        "id": "b613bS_gMLG5"
      },
      "outputs": [
        {
          "name": "stdout",
          "output_type": "stream",
          "text": [
            "Based on the context provided, `CALCULATE` in Power BI is used to calculate an aggregate value using the specified filter, grouping, and columns.\n",
            "\n",
            "The general syntax of `CALCULATE` is as follows:\n",
            "\n",
            "```dax\n",
            "CALCULATE (\n",
            "    <expression>,\n",
            "    <filter1>,\n",
            "    <filter2>,\n",
            "    ...\n",
            ")\n",
            "```\n",
            "\n",
            "Where `<expression>` is the calculation you want to perform, and `<filter1>`, `<filter2>`, etc. are the filters you want to apply to the data.\n",
            "\n",
            "In the context provided, several examples of using `CALCULATE` are shown:\n",
            "\n",
            "1. **Using `CALCULATE` with `MAX`**\n",
            "\n",
            "```dax\n",
            "C_Phone_RowHeader = CALCULATE(\n",
            "  MAX('FormCard_Response_Summary'[Answer_Value]),\n",
            "  OR('FormCard_Response_Summary'[Custom_Question_Name] = \"Cell Phone\",\n",
            "    'FormCard_Response_Summary'[Custom_Question_Name] = \"cell_phone\")\n",
            ")\n",
            "```\n",
            "\n",
            "In this example, `CALCULATE` is used with the `MAX` function to get the maximum value of `Answer_Value` from the `FormCard_Response_Summary` table, filtered by rows where `Custom_Question_Name` is either \"Cell Phone\" or \"cell_phone\".\n",
            "\n",
            "2. **Using `CALCULATE` with `FILTER`**\n",
            "\n",
            "```dax\n",
            "C_FullName_RowHeader = \n",
            "  VAR _rsf = CALCULATE(\n",
            "                MAX('FormCard_Response_Summary'[Answer_Value]), \n",
            "                FILTER(RELATEDTABLE(FormCard_Response_Summary), [Custom_Question_Name] \n",
            "                  IN { \"First Name\", \"First name / Vorname\", \"First Name:\", \"Student's First Name:\" }\n",
            "                )\n",
            "              )\n",
            "```\n",
            "\n",
            "In this example, `CALCULATE` is used with the `FILTER` function to filter the rows of the `FormCard_Response_Summary` table where `Custom_Question_Name` is one of the specified values.\n",
            "\n",
            "3. **Using `CALCULATE` without `FILTER`**\n",
            "\n",
            "```dax\n",
            "C_Phone_RowHeader = \n",
            "    VAR _rcp = CALCULATE(\n",
            "                MAX('FormCard_Response_Summary'[Answer_Value]),\n",
            "                'FormCard_Response_Summary'[Custom_Question_Name] = \"Cell Phone\" || \n",
            "                'FormCard_Response_Summary'[Custom_Question_Name] = \"cell_phone\")\n",
            "```\n",
            "\n",
            "In this example, `CALCULATE` is used without the `FILTER` function to filter the rows of the `FormCard_Response_Summary` table where `Custom_Question_Name` is either \"Cell Phone\" or \"cell_phone\".\n",
            "\n",
            "In all examples, `CALCULATE` is used to apply filters to the data before performing the calculation.\n",
            "\n",
            "Sources used:\n",
            "\n",
            "* Microsoft documentation on [CALCULATE function](https://learn.microsoft.com/en-us/dax/calculate-function-dax)\n",
            "* Provided context examples.\n"
          ]
        }
      ],
      "source": [
        "print(response)"
      ]
    },
    {
      "cell_type": "code",
      "execution_count": null,
      "metadata": {
        "id": "m_IO4A1bPRri"
      },
      "outputs": [],
      "source": []
    },
    {
      "cell_type": "code",
      "execution_count": null,
      "metadata": {
        "id": "t5ndG43QPVjR"
      },
      "outputs": [],
      "source": []
    },
    {
      "cell_type": "code",
      "execution_count": null,
      "metadata": {
        "id": "-udZviyaPVlz"
      },
      "outputs": [],
      "source": []
    },
    {
      "cell_type": "code",
      "execution_count": null,
      "metadata": {
        "id": "8C9IRldxPRt4"
      },
      "outputs": [],
      "source": []
    },
    {
      "cell_type": "code",
      "execution_count": null,
      "metadata": {
        "id": "3WdCT44fQAty"
      },
      "outputs": [],
      "source": []
    },
    {
      "cell_type": "code",
      "execution_count": null,
      "metadata": {
        "id": "kezebsTcPrs3"
      },
      "outputs": [],
      "source": []
    },
    {
      "cell_type": "markdown",
      "metadata": {
        "id": "1tTAtCQzUAyZ"
      },
      "source": [
        "# Putting it all together"
      ]
    },
    {
      "cell_type": "code",
      "execution_count": null,
      "metadata": {
        "id": "WJ2Y6R5DPru0"
      },
      "outputs": [],
      "source": []
    },
    {
      "cell_type": "code",
      "execution_count": null,
      "metadata": {
        "id": "uSests6uWRU1"
      },
      "outputs": [],
      "source": []
    },
    {
      "cell_type": "code",
      "execution_count": null,
      "metadata": {
        "id": "MzfIFuNCUlvk"
      },
      "outputs": [],
      "source": []
    },
    {
      "cell_type": "code",
      "execution_count": null,
      "metadata": {
        "id": "rnHjyXFqVfne"
      },
      "outputs": [],
      "source": []
    },
    {
      "cell_type": "code",
      "execution_count": null,
      "metadata": {
        "id": "ZoKC4-DXVfp4"
      },
      "outputs": [],
      "source": []
    }
  ],
  "metadata": {
    "colab": {
      "include_colab_link": true,
      "provenance": []
    },
    "kernelspec": {
      "display_name": "venv_r&i_assistant",
      "language": "python",
      "name": "python3"
    },
    "language_info": {
      "codemirror_mode": {
        "name": "ipython",
        "version": 3
      },
      "file_extension": ".py",
      "mimetype": "text/x-python",
      "name": "python",
      "nbconvert_exporter": "python",
      "pygments_lexer": "ipython3",
      "version": "3.11.9"
    }
  },
  "nbformat": 4,
  "nbformat_minor": 0
}
